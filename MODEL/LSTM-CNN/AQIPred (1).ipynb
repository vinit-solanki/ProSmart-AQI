{
  "nbformat": 4,
  "nbformat_minor": 0,
  "metadata": {
    "colab": {
      "provenance": [],
      "gpuType": "T4"
    },
    "kernelspec": {
      "name": "python3",
      "display_name": "Python 3"
    },
    "language_info": {
      "name": "python"
    },
    "accelerator": "GPU",
    "widgets": {
      "application/vnd.jupyter.widget-state+json": {
        "71c3374d351f47dcb0f8cdfdc97433fd": {
          "model_module": "@jupyter-widgets/controls",
          "model_name": "HBoxModel",
          "model_module_version": "1.5.0",
          "state": {
            "_dom_classes": [],
            "_model_module": "@jupyter-widgets/controls",
            "_model_module_version": "1.5.0",
            "_model_name": "HBoxModel",
            "_view_count": null,
            "_view_module": "@jupyter-widgets/controls",
            "_view_module_version": "1.5.0",
            "_view_name": "HBoxView",
            "box_style": "",
            "children": [
              "IPY_MODEL_8d415508f4804855bba1207146f51545",
              "IPY_MODEL_4fbd4b68f3ef4e87bd33015816e96ace",
              "IPY_MODEL_f80594868f9642a999f5d84859da6011"
            ],
            "layout": "IPY_MODEL_fc8de2ec4b6449e7a4a467a6149d8929"
          }
        },
        "8d415508f4804855bba1207146f51545": {
          "model_module": "@jupyter-widgets/controls",
          "model_name": "HTMLModel",
          "model_module_version": "1.5.0",
          "state": {
            "_dom_classes": [],
            "_model_module": "@jupyter-widgets/controls",
            "_model_module_version": "1.5.0",
            "_model_name": "HTMLModel",
            "_view_count": null,
            "_view_module": "@jupyter-widgets/controls",
            "_view_module_version": "1.5.0",
            "_view_name": "HTMLView",
            "description": "",
            "description_tooltip": null,
            "layout": "IPY_MODEL_8977d8882a9045d381da5bfff66194dc",
            "placeholder": "​",
            "style": "IPY_MODEL_78cdb2f5c34e4f8b802acdc610f5200a",
            "value": "100%"
          }
        },
        "4fbd4b68f3ef4e87bd33015816e96ace": {
          "model_module": "@jupyter-widgets/controls",
          "model_name": "FloatProgressModel",
          "model_module_version": "1.5.0",
          "state": {
            "_dom_classes": [],
            "_model_module": "@jupyter-widgets/controls",
            "_model_module_version": "1.5.0",
            "_model_name": "FloatProgressModel",
            "_view_count": null,
            "_view_module": "@jupyter-widgets/controls",
            "_view_module_version": "1.5.0",
            "_view_name": "ProgressView",
            "bar_style": "success",
            "description": "",
            "description_tooltip": null,
            "layout": "IPY_MODEL_94a1bee0a7db45af93fe9e3d63c46709",
            "max": 318792,
            "min": 0,
            "orientation": "horizontal",
            "style": "IPY_MODEL_f672df2f17c54c41beb4892d59f9c686",
            "value": 318792
          }
        },
        "f80594868f9642a999f5d84859da6011": {
          "model_module": "@jupyter-widgets/controls",
          "model_name": "HTMLModel",
          "model_module_version": "1.5.0",
          "state": {
            "_dom_classes": [],
            "_model_module": "@jupyter-widgets/controls",
            "_model_module_version": "1.5.0",
            "_model_name": "HTMLModel",
            "_view_count": null,
            "_view_module": "@jupyter-widgets/controls",
            "_view_module_version": "1.5.0",
            "_view_name": "HTMLView",
            "description": "",
            "description_tooltip": null,
            "layout": "IPY_MODEL_d14a26e17c8e45a1a992f1754f6d7ae8",
            "placeholder": "​",
            "style": "IPY_MODEL_714c912de870478e9e16c72a818b883e",
            "value": " 318792/318792 [04:31&lt;00:00, 1393.19it/s]"
          }
        },
        "fc8de2ec4b6449e7a4a467a6149d8929": {
          "model_module": "@jupyter-widgets/base",
          "model_name": "LayoutModel",
          "model_module_version": "1.2.0",
          "state": {
            "_model_module": "@jupyter-widgets/base",
            "_model_module_version": "1.2.0",
            "_model_name": "LayoutModel",
            "_view_count": null,
            "_view_module": "@jupyter-widgets/base",
            "_view_module_version": "1.2.0",
            "_view_name": "LayoutView",
            "align_content": null,
            "align_items": null,
            "align_self": null,
            "border": null,
            "bottom": null,
            "display": null,
            "flex": null,
            "flex_flow": null,
            "grid_area": null,
            "grid_auto_columns": null,
            "grid_auto_flow": null,
            "grid_auto_rows": null,
            "grid_column": null,
            "grid_gap": null,
            "grid_row": null,
            "grid_template_areas": null,
            "grid_template_columns": null,
            "grid_template_rows": null,
            "height": null,
            "justify_content": null,
            "justify_items": null,
            "left": null,
            "margin": null,
            "max_height": null,
            "max_width": null,
            "min_height": null,
            "min_width": null,
            "object_fit": null,
            "object_position": null,
            "order": null,
            "overflow": null,
            "overflow_x": null,
            "overflow_y": null,
            "padding": null,
            "right": null,
            "top": null,
            "visibility": null,
            "width": null
          }
        },
        "8977d8882a9045d381da5bfff66194dc": {
          "model_module": "@jupyter-widgets/base",
          "model_name": "LayoutModel",
          "model_module_version": "1.2.0",
          "state": {
            "_model_module": "@jupyter-widgets/base",
            "_model_module_version": "1.2.0",
            "_model_name": "LayoutModel",
            "_view_count": null,
            "_view_module": "@jupyter-widgets/base",
            "_view_module_version": "1.2.0",
            "_view_name": "LayoutView",
            "align_content": null,
            "align_items": null,
            "align_self": null,
            "border": null,
            "bottom": null,
            "display": null,
            "flex": null,
            "flex_flow": null,
            "grid_area": null,
            "grid_auto_columns": null,
            "grid_auto_flow": null,
            "grid_auto_rows": null,
            "grid_column": null,
            "grid_gap": null,
            "grid_row": null,
            "grid_template_areas": null,
            "grid_template_columns": null,
            "grid_template_rows": null,
            "height": null,
            "justify_content": null,
            "justify_items": null,
            "left": null,
            "margin": null,
            "max_height": null,
            "max_width": null,
            "min_height": null,
            "min_width": null,
            "object_fit": null,
            "object_position": null,
            "order": null,
            "overflow": null,
            "overflow_x": null,
            "overflow_y": null,
            "padding": null,
            "right": null,
            "top": null,
            "visibility": null,
            "width": null
          }
        },
        "78cdb2f5c34e4f8b802acdc610f5200a": {
          "model_module": "@jupyter-widgets/controls",
          "model_name": "DescriptionStyleModel",
          "model_module_version": "1.5.0",
          "state": {
            "_model_module": "@jupyter-widgets/controls",
            "_model_module_version": "1.5.0",
            "_model_name": "DescriptionStyleModel",
            "_view_count": null,
            "_view_module": "@jupyter-widgets/base",
            "_view_module_version": "1.2.0",
            "_view_name": "StyleView",
            "description_width": ""
          }
        },
        "94a1bee0a7db45af93fe9e3d63c46709": {
          "model_module": "@jupyter-widgets/base",
          "model_name": "LayoutModel",
          "model_module_version": "1.2.0",
          "state": {
            "_model_module": "@jupyter-widgets/base",
            "_model_module_version": "1.2.0",
            "_model_name": "LayoutModel",
            "_view_count": null,
            "_view_module": "@jupyter-widgets/base",
            "_view_module_version": "1.2.0",
            "_view_name": "LayoutView",
            "align_content": null,
            "align_items": null,
            "align_self": null,
            "border": null,
            "bottom": null,
            "display": null,
            "flex": null,
            "flex_flow": null,
            "grid_area": null,
            "grid_auto_columns": null,
            "grid_auto_flow": null,
            "grid_auto_rows": null,
            "grid_column": null,
            "grid_gap": null,
            "grid_row": null,
            "grid_template_areas": null,
            "grid_template_columns": null,
            "grid_template_rows": null,
            "height": null,
            "justify_content": null,
            "justify_items": null,
            "left": null,
            "margin": null,
            "max_height": null,
            "max_width": null,
            "min_height": null,
            "min_width": null,
            "object_fit": null,
            "object_position": null,
            "order": null,
            "overflow": null,
            "overflow_x": null,
            "overflow_y": null,
            "padding": null,
            "right": null,
            "top": null,
            "visibility": null,
            "width": null
          }
        },
        "f672df2f17c54c41beb4892d59f9c686": {
          "model_module": "@jupyter-widgets/controls",
          "model_name": "ProgressStyleModel",
          "model_module_version": "1.5.0",
          "state": {
            "_model_module": "@jupyter-widgets/controls",
            "_model_module_version": "1.5.0",
            "_model_name": "ProgressStyleModel",
            "_view_count": null,
            "_view_module": "@jupyter-widgets/base",
            "_view_module_version": "1.2.0",
            "_view_name": "StyleView",
            "bar_color": null,
            "description_width": ""
          }
        },
        "d14a26e17c8e45a1a992f1754f6d7ae8": {
          "model_module": "@jupyter-widgets/base",
          "model_name": "LayoutModel",
          "model_module_version": "1.2.0",
          "state": {
            "_model_module": "@jupyter-widgets/base",
            "_model_module_version": "1.2.0",
            "_model_name": "LayoutModel",
            "_view_count": null,
            "_view_module": "@jupyter-widgets/base",
            "_view_module_version": "1.2.0",
            "_view_name": "LayoutView",
            "align_content": null,
            "align_items": null,
            "align_self": null,
            "border": null,
            "bottom": null,
            "display": null,
            "flex": null,
            "flex_flow": null,
            "grid_area": null,
            "grid_auto_columns": null,
            "grid_auto_flow": null,
            "grid_auto_rows": null,
            "grid_column": null,
            "grid_gap": null,
            "grid_row": null,
            "grid_template_areas": null,
            "grid_template_columns": null,
            "grid_template_rows": null,
            "height": null,
            "justify_content": null,
            "justify_items": null,
            "left": null,
            "margin": null,
            "max_height": null,
            "max_width": null,
            "min_height": null,
            "min_width": null,
            "object_fit": null,
            "object_position": null,
            "order": null,
            "overflow": null,
            "overflow_x": null,
            "overflow_y": null,
            "padding": null,
            "right": null,
            "top": null,
            "visibility": null,
            "width": null
          }
        },
        "714c912de870478e9e16c72a818b883e": {
          "model_module": "@jupyter-widgets/controls",
          "model_name": "DescriptionStyleModel",
          "model_module_version": "1.5.0",
          "state": {
            "_model_module": "@jupyter-widgets/controls",
            "_model_module_version": "1.5.0",
            "_model_name": "DescriptionStyleModel",
            "_view_count": null,
            "_view_module": "@jupyter-widgets/base",
            "_view_module_version": "1.2.0",
            "_view_name": "StyleView",
            "description_width": ""
          }
        },
        "b0e65bee0de8441186e7fc6088846339": {
          "model_module": "@jupyter-widgets/controls",
          "model_name": "HBoxModel",
          "model_module_version": "1.5.0",
          "state": {
            "_dom_classes": [],
            "_model_module": "@jupyter-widgets/controls",
            "_model_module_version": "1.5.0",
            "_model_name": "HBoxModel",
            "_view_count": null,
            "_view_module": "@jupyter-widgets/controls",
            "_view_module_version": "1.5.0",
            "_view_name": "HBoxView",
            "box_style": "",
            "children": [
              "IPY_MODEL_597ef15745ed4c40836effd1f5782c07",
              "IPY_MODEL_017baaf96f9f45af9d7cdcaa24305c80",
              "IPY_MODEL_ccdb06659b6d4afc907bbe1fb15687e8"
            ],
            "layout": "IPY_MODEL_e896f66ce6fb4aa1b13c5eb4e4702002"
          }
        },
        "597ef15745ed4c40836effd1f5782c07": {
          "model_module": "@jupyter-widgets/controls",
          "model_name": "HTMLModel",
          "model_module_version": "1.5.0",
          "state": {
            "_dom_classes": [],
            "_model_module": "@jupyter-widgets/controls",
            "_model_module_version": "1.5.0",
            "_model_name": "HTMLModel",
            "_view_count": null,
            "_view_module": "@jupyter-widgets/controls",
            "_view_module_version": "1.5.0",
            "_view_name": "HTMLView",
            "description": "",
            "description_tooltip": null,
            "layout": "IPY_MODEL_68c3388e52734112aeb793fb1216d6f6",
            "placeholder": "​",
            "style": "IPY_MODEL_4303c15b37e549608da0fca8264c4997",
            "value": "100%"
          }
        },
        "017baaf96f9f45af9d7cdcaa24305c80": {
          "model_module": "@jupyter-widgets/controls",
          "model_name": "FloatProgressModel",
          "model_module_version": "1.5.0",
          "state": {
            "_dom_classes": [],
            "_model_module": "@jupyter-widgets/controls",
            "_model_module_version": "1.5.0",
            "_model_name": "FloatProgressModel",
            "_view_count": null,
            "_view_module": "@jupyter-widgets/controls",
            "_view_module_version": "1.5.0",
            "_view_name": "ProgressView",
            "bar_style": "success",
            "description": "",
            "description_tooltip": null,
            "layout": "IPY_MODEL_16dc4151bab94868862dc30cb3bfb744",
            "max": 35379,
            "min": 0,
            "orientation": "horizontal",
            "style": "IPY_MODEL_b921c44c155e47b09175e6bef1d01db7",
            "value": 35379
          }
        },
        "ccdb06659b6d4afc907bbe1fb15687e8": {
          "model_module": "@jupyter-widgets/controls",
          "model_name": "HTMLModel",
          "model_module_version": "1.5.0",
          "state": {
            "_dom_classes": [],
            "_model_module": "@jupyter-widgets/controls",
            "_model_module_version": "1.5.0",
            "_model_name": "HTMLModel",
            "_view_count": null,
            "_view_module": "@jupyter-widgets/controls",
            "_view_module_version": "1.5.0",
            "_view_name": "HTMLView",
            "description": "",
            "description_tooltip": null,
            "layout": "IPY_MODEL_8e8103027ee14cc88502da8949d0de35",
            "placeholder": "​",
            "style": "IPY_MODEL_1e72308183574a4aa5863eb8a2642646",
            "value": " 35379/35379 [00:26&lt;00:00, 1100.64it/s]"
          }
        },
        "e896f66ce6fb4aa1b13c5eb4e4702002": {
          "model_module": "@jupyter-widgets/base",
          "model_name": "LayoutModel",
          "model_module_version": "1.2.0",
          "state": {
            "_model_module": "@jupyter-widgets/base",
            "_model_module_version": "1.2.0",
            "_model_name": "LayoutModel",
            "_view_count": null,
            "_view_module": "@jupyter-widgets/base",
            "_view_module_version": "1.2.0",
            "_view_name": "LayoutView",
            "align_content": null,
            "align_items": null,
            "align_self": null,
            "border": null,
            "bottom": null,
            "display": null,
            "flex": null,
            "flex_flow": null,
            "grid_area": null,
            "grid_auto_columns": null,
            "grid_auto_flow": null,
            "grid_auto_rows": null,
            "grid_column": null,
            "grid_gap": null,
            "grid_row": null,
            "grid_template_areas": null,
            "grid_template_columns": null,
            "grid_template_rows": null,
            "height": null,
            "justify_content": null,
            "justify_items": null,
            "left": null,
            "margin": null,
            "max_height": null,
            "max_width": null,
            "min_height": null,
            "min_width": null,
            "object_fit": null,
            "object_position": null,
            "order": null,
            "overflow": null,
            "overflow_x": null,
            "overflow_y": null,
            "padding": null,
            "right": null,
            "top": null,
            "visibility": null,
            "width": null
          }
        },
        "68c3388e52734112aeb793fb1216d6f6": {
          "model_module": "@jupyter-widgets/base",
          "model_name": "LayoutModel",
          "model_module_version": "1.2.0",
          "state": {
            "_model_module": "@jupyter-widgets/base",
            "_model_module_version": "1.2.0",
            "_model_name": "LayoutModel",
            "_view_count": null,
            "_view_module": "@jupyter-widgets/base",
            "_view_module_version": "1.2.0",
            "_view_name": "LayoutView",
            "align_content": null,
            "align_items": null,
            "align_self": null,
            "border": null,
            "bottom": null,
            "display": null,
            "flex": null,
            "flex_flow": null,
            "grid_area": null,
            "grid_auto_columns": null,
            "grid_auto_flow": null,
            "grid_auto_rows": null,
            "grid_column": null,
            "grid_gap": null,
            "grid_row": null,
            "grid_template_areas": null,
            "grid_template_columns": null,
            "grid_template_rows": null,
            "height": null,
            "justify_content": null,
            "justify_items": null,
            "left": null,
            "margin": null,
            "max_height": null,
            "max_width": null,
            "min_height": null,
            "min_width": null,
            "object_fit": null,
            "object_position": null,
            "order": null,
            "overflow": null,
            "overflow_x": null,
            "overflow_y": null,
            "padding": null,
            "right": null,
            "top": null,
            "visibility": null,
            "width": null
          }
        },
        "4303c15b37e549608da0fca8264c4997": {
          "model_module": "@jupyter-widgets/controls",
          "model_name": "DescriptionStyleModel",
          "model_module_version": "1.5.0",
          "state": {
            "_model_module": "@jupyter-widgets/controls",
            "_model_module_version": "1.5.0",
            "_model_name": "DescriptionStyleModel",
            "_view_count": null,
            "_view_module": "@jupyter-widgets/base",
            "_view_module_version": "1.2.0",
            "_view_name": "StyleView",
            "description_width": ""
          }
        },
        "16dc4151bab94868862dc30cb3bfb744": {
          "model_module": "@jupyter-widgets/base",
          "model_name": "LayoutModel",
          "model_module_version": "1.2.0",
          "state": {
            "_model_module": "@jupyter-widgets/base",
            "_model_module_version": "1.2.0",
            "_model_name": "LayoutModel",
            "_view_count": null,
            "_view_module": "@jupyter-widgets/base",
            "_view_module_version": "1.2.0",
            "_view_name": "LayoutView",
            "align_content": null,
            "align_items": null,
            "align_self": null,
            "border": null,
            "bottom": null,
            "display": null,
            "flex": null,
            "flex_flow": null,
            "grid_area": null,
            "grid_auto_columns": null,
            "grid_auto_flow": null,
            "grid_auto_rows": null,
            "grid_column": null,
            "grid_gap": null,
            "grid_row": null,
            "grid_template_areas": null,
            "grid_template_columns": null,
            "grid_template_rows": null,
            "height": null,
            "justify_content": null,
            "justify_items": null,
            "left": null,
            "margin": null,
            "max_height": null,
            "max_width": null,
            "min_height": null,
            "min_width": null,
            "object_fit": null,
            "object_position": null,
            "order": null,
            "overflow": null,
            "overflow_x": null,
            "overflow_y": null,
            "padding": null,
            "right": null,
            "top": null,
            "visibility": null,
            "width": null
          }
        },
        "b921c44c155e47b09175e6bef1d01db7": {
          "model_module": "@jupyter-widgets/controls",
          "model_name": "ProgressStyleModel",
          "model_module_version": "1.5.0",
          "state": {
            "_model_module": "@jupyter-widgets/controls",
            "_model_module_version": "1.5.0",
            "_model_name": "ProgressStyleModel",
            "_view_count": null,
            "_view_module": "@jupyter-widgets/base",
            "_view_module_version": "1.2.0",
            "_view_name": "StyleView",
            "bar_color": null,
            "description_width": ""
          }
        },
        "8e8103027ee14cc88502da8949d0de35": {
          "model_module": "@jupyter-widgets/base",
          "model_name": "LayoutModel",
          "model_module_version": "1.2.0",
          "state": {
            "_model_module": "@jupyter-widgets/base",
            "_model_module_version": "1.2.0",
            "_model_name": "LayoutModel",
            "_view_count": null,
            "_view_module": "@jupyter-widgets/base",
            "_view_module_version": "1.2.0",
            "_view_name": "LayoutView",
            "align_content": null,
            "align_items": null,
            "align_self": null,
            "border": null,
            "bottom": null,
            "display": null,
            "flex": null,
            "flex_flow": null,
            "grid_area": null,
            "grid_auto_columns": null,
            "grid_auto_flow": null,
            "grid_auto_rows": null,
            "grid_column": null,
            "grid_gap": null,
            "grid_row": null,
            "grid_template_areas": null,
            "grid_template_columns": null,
            "grid_template_rows": null,
            "height": null,
            "justify_content": null,
            "justify_items": null,
            "left": null,
            "margin": null,
            "max_height": null,
            "max_width": null,
            "min_height": null,
            "min_width": null,
            "object_fit": null,
            "object_position": null,
            "order": null,
            "overflow": null,
            "overflow_x": null,
            "overflow_y": null,
            "padding": null,
            "right": null,
            "top": null,
            "visibility": null,
            "width": null
          }
        },
        "1e72308183574a4aa5863eb8a2642646": {
          "model_module": "@jupyter-widgets/controls",
          "model_name": "DescriptionStyleModel",
          "model_module_version": "1.5.0",
          "state": {
            "_model_module": "@jupyter-widgets/controls",
            "_model_module_version": "1.5.0",
            "_model_name": "DescriptionStyleModel",
            "_view_count": null,
            "_view_module": "@jupyter-widgets/base",
            "_view_module_version": "1.2.0",
            "_view_name": "StyleView",
            "description_width": ""
          }
        },
        "80c54a4f43de4306a72373b01ac62e7a": {
          "model_module": "@jupyter-widgets/controls",
          "model_name": "HBoxModel",
          "model_module_version": "1.5.0",
          "state": {
            "_dom_classes": [],
            "_model_module": "@jupyter-widgets/controls",
            "_model_module_version": "1.5.0",
            "_model_name": "HBoxModel",
            "_view_count": null,
            "_view_module": "@jupyter-widgets/controls",
            "_view_module_version": "1.5.0",
            "_view_name": "HBoxView",
            "box_style": "",
            "children": [
              "IPY_MODEL_d81ea761b9774e9f9461388b5745dceb",
              "IPY_MODEL_d4741b4e6f844c2b8352b1588cff9ade",
              "IPY_MODEL_28c0a0914f87497ba31fe7c0fca13645"
            ],
            "layout": "IPY_MODEL_c786727d4a0c4715ad624a23e010e9bd"
          }
        },
        "d81ea761b9774e9f9461388b5745dceb": {
          "model_module": "@jupyter-widgets/controls",
          "model_name": "HTMLModel",
          "model_module_version": "1.5.0",
          "state": {
            "_dom_classes": [],
            "_model_module": "@jupyter-widgets/controls",
            "_model_module_version": "1.5.0",
            "_model_name": "HTMLModel",
            "_view_count": null,
            "_view_module": "@jupyter-widgets/controls",
            "_view_module_version": "1.5.0",
            "_view_name": "HTMLView",
            "description": "",
            "description_tooltip": null,
            "layout": "IPY_MODEL_02ae847294ee4e4d9b1a56fdaf086527",
            "placeholder": "​",
            "style": "IPY_MODEL_c10028e08e484191bb924194f9613a54",
            "value": "100%"
          }
        },
        "d4741b4e6f844c2b8352b1588cff9ade": {
          "model_module": "@jupyter-widgets/controls",
          "model_name": "FloatProgressModel",
          "model_module_version": "1.5.0",
          "state": {
            "_dom_classes": [],
            "_model_module": "@jupyter-widgets/controls",
            "_model_module_version": "1.5.0",
            "_model_name": "FloatProgressModel",
            "_view_count": null,
            "_view_module": "@jupyter-widgets/controls",
            "_view_module_version": "1.5.0",
            "_view_name": "ProgressView",
            "bar_style": "success",
            "description": "",
            "description_tooltip": null,
            "layout": "IPY_MODEL_4bb14f34b18741ba9a236e66df2ead9a",
            "max": 39315,
            "min": 0,
            "orientation": "horizontal",
            "style": "IPY_MODEL_8f8a4fcf52294378bca25b44832bd030",
            "value": 39315
          }
        },
        "28c0a0914f87497ba31fe7c0fca13645": {
          "model_module": "@jupyter-widgets/controls",
          "model_name": "HTMLModel",
          "model_module_version": "1.5.0",
          "state": {
            "_dom_classes": [],
            "_model_module": "@jupyter-widgets/controls",
            "_model_module_version": "1.5.0",
            "_model_name": "HTMLModel",
            "_view_count": null,
            "_view_module": "@jupyter-widgets/controls",
            "_view_module_version": "1.5.0",
            "_view_name": "HTMLView",
            "description": "",
            "description_tooltip": null,
            "layout": "IPY_MODEL_c0776a8c66934888a1761f1f3939c3f6",
            "placeholder": "​",
            "style": "IPY_MODEL_b8a52cf546ab45b6a4e1213493dd1c0a",
            "value": " 39315/39315 [00:35&lt;00:00, 1422.85it/s]"
          }
        },
        "c786727d4a0c4715ad624a23e010e9bd": {
          "model_module": "@jupyter-widgets/base",
          "model_name": "LayoutModel",
          "model_module_version": "1.2.0",
          "state": {
            "_model_module": "@jupyter-widgets/base",
            "_model_module_version": "1.2.0",
            "_model_name": "LayoutModel",
            "_view_count": null,
            "_view_module": "@jupyter-widgets/base",
            "_view_module_version": "1.2.0",
            "_view_name": "LayoutView",
            "align_content": null,
            "align_items": null,
            "align_self": null,
            "border": null,
            "bottom": null,
            "display": null,
            "flex": null,
            "flex_flow": null,
            "grid_area": null,
            "grid_auto_columns": null,
            "grid_auto_flow": null,
            "grid_auto_rows": null,
            "grid_column": null,
            "grid_gap": null,
            "grid_row": null,
            "grid_template_areas": null,
            "grid_template_columns": null,
            "grid_template_rows": null,
            "height": null,
            "justify_content": null,
            "justify_items": null,
            "left": null,
            "margin": null,
            "max_height": null,
            "max_width": null,
            "min_height": null,
            "min_width": null,
            "object_fit": null,
            "object_position": null,
            "order": null,
            "overflow": null,
            "overflow_x": null,
            "overflow_y": null,
            "padding": null,
            "right": null,
            "top": null,
            "visibility": null,
            "width": null
          }
        },
        "02ae847294ee4e4d9b1a56fdaf086527": {
          "model_module": "@jupyter-widgets/base",
          "model_name": "LayoutModel",
          "model_module_version": "1.2.0",
          "state": {
            "_model_module": "@jupyter-widgets/base",
            "_model_module_version": "1.2.0",
            "_model_name": "LayoutModel",
            "_view_count": null,
            "_view_module": "@jupyter-widgets/base",
            "_view_module_version": "1.2.0",
            "_view_name": "LayoutView",
            "align_content": null,
            "align_items": null,
            "align_self": null,
            "border": null,
            "bottom": null,
            "display": null,
            "flex": null,
            "flex_flow": null,
            "grid_area": null,
            "grid_auto_columns": null,
            "grid_auto_flow": null,
            "grid_auto_rows": null,
            "grid_column": null,
            "grid_gap": null,
            "grid_row": null,
            "grid_template_areas": null,
            "grid_template_columns": null,
            "grid_template_rows": null,
            "height": null,
            "justify_content": null,
            "justify_items": null,
            "left": null,
            "margin": null,
            "max_height": null,
            "max_width": null,
            "min_height": null,
            "min_width": null,
            "object_fit": null,
            "object_position": null,
            "order": null,
            "overflow": null,
            "overflow_x": null,
            "overflow_y": null,
            "padding": null,
            "right": null,
            "top": null,
            "visibility": null,
            "width": null
          }
        },
        "c10028e08e484191bb924194f9613a54": {
          "model_module": "@jupyter-widgets/controls",
          "model_name": "DescriptionStyleModel",
          "model_module_version": "1.5.0",
          "state": {
            "_model_module": "@jupyter-widgets/controls",
            "_model_module_version": "1.5.0",
            "_model_name": "DescriptionStyleModel",
            "_view_count": null,
            "_view_module": "@jupyter-widgets/base",
            "_view_module_version": "1.2.0",
            "_view_name": "StyleView",
            "description_width": ""
          }
        },
        "4bb14f34b18741ba9a236e66df2ead9a": {
          "model_module": "@jupyter-widgets/base",
          "model_name": "LayoutModel",
          "model_module_version": "1.2.0",
          "state": {
            "_model_module": "@jupyter-widgets/base",
            "_model_module_version": "1.2.0",
            "_model_name": "LayoutModel",
            "_view_count": null,
            "_view_module": "@jupyter-widgets/base",
            "_view_module_version": "1.2.0",
            "_view_name": "LayoutView",
            "align_content": null,
            "align_items": null,
            "align_self": null,
            "border": null,
            "bottom": null,
            "display": null,
            "flex": null,
            "flex_flow": null,
            "grid_area": null,
            "grid_auto_columns": null,
            "grid_auto_flow": null,
            "grid_auto_rows": null,
            "grid_column": null,
            "grid_gap": null,
            "grid_row": null,
            "grid_template_areas": null,
            "grid_template_columns": null,
            "grid_template_rows": null,
            "height": null,
            "justify_content": null,
            "justify_items": null,
            "left": null,
            "margin": null,
            "max_height": null,
            "max_width": null,
            "min_height": null,
            "min_width": null,
            "object_fit": null,
            "object_position": null,
            "order": null,
            "overflow": null,
            "overflow_x": null,
            "overflow_y": null,
            "padding": null,
            "right": null,
            "top": null,
            "visibility": null,
            "width": null
          }
        },
        "8f8a4fcf52294378bca25b44832bd030": {
          "model_module": "@jupyter-widgets/controls",
          "model_name": "ProgressStyleModel",
          "model_module_version": "1.5.0",
          "state": {
            "_model_module": "@jupyter-widgets/controls",
            "_model_module_version": "1.5.0",
            "_model_name": "ProgressStyleModel",
            "_view_count": null,
            "_view_module": "@jupyter-widgets/base",
            "_view_module_version": "1.2.0",
            "_view_name": "StyleView",
            "bar_color": null,
            "description_width": ""
          }
        },
        "c0776a8c66934888a1761f1f3939c3f6": {
          "model_module": "@jupyter-widgets/base",
          "model_name": "LayoutModel",
          "model_module_version": "1.2.0",
          "state": {
            "_model_module": "@jupyter-widgets/base",
            "_model_module_version": "1.2.0",
            "_model_name": "LayoutModel",
            "_view_count": null,
            "_view_module": "@jupyter-widgets/base",
            "_view_module_version": "1.2.0",
            "_view_name": "LayoutView",
            "align_content": null,
            "align_items": null,
            "align_self": null,
            "border": null,
            "bottom": null,
            "display": null,
            "flex": null,
            "flex_flow": null,
            "grid_area": null,
            "grid_auto_columns": null,
            "grid_auto_flow": null,
            "grid_auto_rows": null,
            "grid_column": null,
            "grid_gap": null,
            "grid_row": null,
            "grid_template_areas": null,
            "grid_template_columns": null,
            "grid_template_rows": null,
            "height": null,
            "justify_content": null,
            "justify_items": null,
            "left": null,
            "margin": null,
            "max_height": null,
            "max_width": null,
            "min_height": null,
            "min_width": null,
            "object_fit": null,
            "object_position": null,
            "order": null,
            "overflow": null,
            "overflow_x": null,
            "overflow_y": null,
            "padding": null,
            "right": null,
            "top": null,
            "visibility": null,
            "width": null
          }
        },
        "b8a52cf546ab45b6a4e1213493dd1c0a": {
          "model_module": "@jupyter-widgets/controls",
          "model_name": "DescriptionStyleModel",
          "model_module_version": "1.5.0",
          "state": {
            "_model_module": "@jupyter-widgets/controls",
            "_model_module_version": "1.5.0",
            "_model_name": "DescriptionStyleModel",
            "_view_count": null,
            "_view_module": "@jupyter-widgets/base",
            "_view_module_version": "1.2.0",
            "_view_name": "StyleView",
            "description_width": ""
          }
        },
        "2b7cb46c874e4a6b86e7acccf671a7c2": {
          "model_module": "@jupyter-widgets/controls",
          "model_name": "HBoxModel",
          "model_module_version": "1.5.0",
          "state": {
            "_dom_classes": [],
            "_model_module": "@jupyter-widgets/controls",
            "_model_module_version": "1.5.0",
            "_model_name": "HBoxModel",
            "_view_count": null,
            "_view_module": "@jupyter-widgets/controls",
            "_view_module_version": "1.5.0",
            "_view_name": "HBoxView",
            "box_style": "",
            "children": [
              "IPY_MODEL_eb31b3f3e13846048fff3a0f2a245390",
              "IPY_MODEL_8bd6c91a315d4d6c848ada94ef717d1f",
              "IPY_MODEL_eab231529f874315a3f4787538b43072"
            ],
            "layout": "IPY_MODEL_cb0394c890144e188f4496659a86e536"
          }
        },
        "eb31b3f3e13846048fff3a0f2a245390": {
          "model_module": "@jupyter-widgets/controls",
          "model_name": "HTMLModel",
          "model_module_version": "1.5.0",
          "state": {
            "_dom_classes": [],
            "_model_module": "@jupyter-widgets/controls",
            "_model_module_version": "1.5.0",
            "_model_name": "HTMLModel",
            "_view_count": null,
            "_view_module": "@jupyter-widgets/controls",
            "_view_module_version": "1.5.0",
            "_view_name": "HTMLView",
            "description": "",
            "description_tooltip": null,
            "layout": "IPY_MODEL_3ea496b96c5c42da856ad1d404ee2c14",
            "placeholder": "​",
            "style": "IPY_MODEL_e7ae3d53553b46e8be7ecf388507135c",
            "value": "100%"
          }
        },
        "8bd6c91a315d4d6c848ada94ef717d1f": {
          "model_module": "@jupyter-widgets/controls",
          "model_name": "FloatProgressModel",
          "model_module_version": "1.5.0",
          "state": {
            "_dom_classes": [],
            "_model_module": "@jupyter-widgets/controls",
            "_model_module_version": "1.5.0",
            "_model_name": "FloatProgressModel",
            "_view_count": null,
            "_view_module": "@jupyter-widgets/controls",
            "_view_module_version": "1.5.0",
            "_view_name": "ProgressView",
            "bar_style": "success",
            "description": "",
            "description_tooltip": null,
            "layout": "IPY_MODEL_586ff5e5c6f5497581f0c02c480198b1",
            "max": 1229,
            "min": 0,
            "orientation": "horizontal",
            "style": "IPY_MODEL_87f80e95abe642f39984080c98d21d63",
            "value": 1229
          }
        },
        "eab231529f874315a3f4787538b43072": {
          "model_module": "@jupyter-widgets/controls",
          "model_name": "HTMLModel",
          "model_module_version": "1.5.0",
          "state": {
            "_dom_classes": [],
            "_model_module": "@jupyter-widgets/controls",
            "_model_module_version": "1.5.0",
            "_model_name": "HTMLModel",
            "_view_count": null,
            "_view_module": "@jupyter-widgets/controls",
            "_view_module_version": "1.5.0",
            "_view_name": "HTMLView",
            "description": "",
            "description_tooltip": null,
            "layout": "IPY_MODEL_d930d969a58346e4b9b6da1c55a5d0b7",
            "placeholder": "​",
            "style": "IPY_MODEL_eab6040135da443582f70053b4ca25f5",
            "value": " 1229/1229 [00:11&lt;00:00, 123.85it/s]"
          }
        },
        "cb0394c890144e188f4496659a86e536": {
          "model_module": "@jupyter-widgets/base",
          "model_name": "LayoutModel",
          "model_module_version": "1.2.0",
          "state": {
            "_model_module": "@jupyter-widgets/base",
            "_model_module_version": "1.2.0",
            "_model_name": "LayoutModel",
            "_view_count": null,
            "_view_module": "@jupyter-widgets/base",
            "_view_module_version": "1.2.0",
            "_view_name": "LayoutView",
            "align_content": null,
            "align_items": null,
            "align_self": null,
            "border": null,
            "bottom": null,
            "display": null,
            "flex": null,
            "flex_flow": null,
            "grid_area": null,
            "grid_auto_columns": null,
            "grid_auto_flow": null,
            "grid_auto_rows": null,
            "grid_column": null,
            "grid_gap": null,
            "grid_row": null,
            "grid_template_areas": null,
            "grid_template_columns": null,
            "grid_template_rows": null,
            "height": null,
            "justify_content": null,
            "justify_items": null,
            "left": null,
            "margin": null,
            "max_height": null,
            "max_width": null,
            "min_height": null,
            "min_width": null,
            "object_fit": null,
            "object_position": null,
            "order": null,
            "overflow": null,
            "overflow_x": null,
            "overflow_y": null,
            "padding": null,
            "right": null,
            "top": null,
            "visibility": null,
            "width": null
          }
        },
        "3ea496b96c5c42da856ad1d404ee2c14": {
          "model_module": "@jupyter-widgets/base",
          "model_name": "LayoutModel",
          "model_module_version": "1.2.0",
          "state": {
            "_model_module": "@jupyter-widgets/base",
            "_model_module_version": "1.2.0",
            "_model_name": "LayoutModel",
            "_view_count": null,
            "_view_module": "@jupyter-widgets/base",
            "_view_module_version": "1.2.0",
            "_view_name": "LayoutView",
            "align_content": null,
            "align_items": null,
            "align_self": null,
            "border": null,
            "bottom": null,
            "display": null,
            "flex": null,
            "flex_flow": null,
            "grid_area": null,
            "grid_auto_columns": null,
            "grid_auto_flow": null,
            "grid_auto_rows": null,
            "grid_column": null,
            "grid_gap": null,
            "grid_row": null,
            "grid_template_areas": null,
            "grid_template_columns": null,
            "grid_template_rows": null,
            "height": null,
            "justify_content": null,
            "justify_items": null,
            "left": null,
            "margin": null,
            "max_height": null,
            "max_width": null,
            "min_height": null,
            "min_width": null,
            "object_fit": null,
            "object_position": null,
            "order": null,
            "overflow": null,
            "overflow_x": null,
            "overflow_y": null,
            "padding": null,
            "right": null,
            "top": null,
            "visibility": null,
            "width": null
          }
        },
        "e7ae3d53553b46e8be7ecf388507135c": {
          "model_module": "@jupyter-widgets/controls",
          "model_name": "DescriptionStyleModel",
          "model_module_version": "1.5.0",
          "state": {
            "_model_module": "@jupyter-widgets/controls",
            "_model_module_version": "1.5.0",
            "_model_name": "DescriptionStyleModel",
            "_view_count": null,
            "_view_module": "@jupyter-widgets/base",
            "_view_module_version": "1.2.0",
            "_view_name": "StyleView",
            "description_width": ""
          }
        },
        "586ff5e5c6f5497581f0c02c480198b1": {
          "model_module": "@jupyter-widgets/base",
          "model_name": "LayoutModel",
          "model_module_version": "1.2.0",
          "state": {
            "_model_module": "@jupyter-widgets/base",
            "_model_module_version": "1.2.0",
            "_model_name": "LayoutModel",
            "_view_count": null,
            "_view_module": "@jupyter-widgets/base",
            "_view_module_version": "1.2.0",
            "_view_name": "LayoutView",
            "align_content": null,
            "align_items": null,
            "align_self": null,
            "border": null,
            "bottom": null,
            "display": null,
            "flex": null,
            "flex_flow": null,
            "grid_area": null,
            "grid_auto_columns": null,
            "grid_auto_flow": null,
            "grid_auto_rows": null,
            "grid_column": null,
            "grid_gap": null,
            "grid_row": null,
            "grid_template_areas": null,
            "grid_template_columns": null,
            "grid_template_rows": null,
            "height": null,
            "justify_content": null,
            "justify_items": null,
            "left": null,
            "margin": null,
            "max_height": null,
            "max_width": null,
            "min_height": null,
            "min_width": null,
            "object_fit": null,
            "object_position": null,
            "order": null,
            "overflow": null,
            "overflow_x": null,
            "overflow_y": null,
            "padding": null,
            "right": null,
            "top": null,
            "visibility": null,
            "width": null
          }
        },
        "87f80e95abe642f39984080c98d21d63": {
          "model_module": "@jupyter-widgets/controls",
          "model_name": "ProgressStyleModel",
          "model_module_version": "1.5.0",
          "state": {
            "_model_module": "@jupyter-widgets/controls",
            "_model_module_version": "1.5.0",
            "_model_name": "ProgressStyleModel",
            "_view_count": null,
            "_view_module": "@jupyter-widgets/base",
            "_view_module_version": "1.2.0",
            "_view_name": "StyleView",
            "bar_color": null,
            "description_width": ""
          }
        },
        "d930d969a58346e4b9b6da1c55a5d0b7": {
          "model_module": "@jupyter-widgets/base",
          "model_name": "LayoutModel",
          "model_module_version": "1.2.0",
          "state": {
            "_model_module": "@jupyter-widgets/base",
            "_model_module_version": "1.2.0",
            "_model_name": "LayoutModel",
            "_view_count": null,
            "_view_module": "@jupyter-widgets/base",
            "_view_module_version": "1.2.0",
            "_view_name": "LayoutView",
            "align_content": null,
            "align_items": null,
            "align_self": null,
            "border": null,
            "bottom": null,
            "display": null,
            "flex": null,
            "flex_flow": null,
            "grid_area": null,
            "grid_auto_columns": null,
            "grid_auto_flow": null,
            "grid_auto_rows": null,
            "grid_column": null,
            "grid_gap": null,
            "grid_row": null,
            "grid_template_areas": null,
            "grid_template_columns": null,
            "grid_template_rows": null,
            "height": null,
            "justify_content": null,
            "justify_items": null,
            "left": null,
            "margin": null,
            "max_height": null,
            "max_width": null,
            "min_height": null,
            "min_width": null,
            "object_fit": null,
            "object_position": null,
            "order": null,
            "overflow": null,
            "overflow_x": null,
            "overflow_y": null,
            "padding": null,
            "right": null,
            "top": null,
            "visibility": null,
            "width": null
          }
        },
        "eab6040135da443582f70053b4ca25f5": {
          "model_module": "@jupyter-widgets/controls",
          "model_name": "DescriptionStyleModel",
          "model_module_version": "1.5.0",
          "state": {
            "_model_module": "@jupyter-widgets/controls",
            "_model_module_version": "1.5.0",
            "_model_name": "DescriptionStyleModel",
            "_view_count": null,
            "_view_module": "@jupyter-widgets/base",
            "_view_module_version": "1.2.0",
            "_view_name": "StyleView",
            "description_width": ""
          }
        }
      }
    }
  },
  "cells": [
    {
      "cell_type": "code",
      "execution_count": 14,
      "metadata": {
        "id": "Lwu0g0Eljsqd"
      },
      "outputs": [],
      "source": [
        "import os\n",
        "import gc\n",
        "\n",
        "import numpy as np\n",
        "import pandas as pd\n",
        "import seaborn as sns\n",
        "\n",
        "from sklearn.impute import KNNImputer\n",
        "from sklearn.preprocessing import LabelEncoder\n",
        "\n",
        "DATA_PATH = 'data'\n",
        "OUT_PATH = 'data'"
      ]
    },
    {
      "cell_type": "code",
      "metadata": {
        "colab": {
          "base_uri": "https://localhost:8080/"
        },
        "id": "b17990c5",
        "outputId": "0508fc90-0d48-486a-97eb-c22e2dccc9f7"
      },
      "source": [
        "# Create the data directory if it doesn't exist\n",
        "if not os.path.exists(DATA_PATH):\n",
        "    os.makedirs(DATA_PATH)\n",
        "\n",
        "# Download sample data\n",
        "!wget -O data/aqi.csv https://raw.githubusercontent.com/medAli-ai/Beijing-air-quality-prediction-internship/refs/heads/main/src/AirQualityData/airquality_data.csv\n"
      ],
      "execution_count": 15,
      "outputs": [
        {
          "output_type": "stream",
          "name": "stdout",
          "text": [
            "--2025-09-05 07:31:35--  https://raw.githubusercontent.com/medAli-ai/Beijing-air-quality-prediction-internship/refs/heads/main/src/AirQualityData/airquality_data.csv\n",
            "Resolving raw.githubusercontent.com (raw.githubusercontent.com)... 185.199.108.133, 185.199.109.133, 185.199.110.133, ...\n",
            "Connecting to raw.githubusercontent.com (raw.githubusercontent.com)|185.199.108.133|:443... connected.\n",
            "HTTP request sent, awaiting response... 200 OK\n",
            "Length: 31731212 (30M) [text/plain]\n",
            "Saving to: ‘data/aqi.csv’\n",
            "\n",
            "\rdata/aqi.csv          0%[                    ]       0  --.-KB/s               \rdata/aqi.csv        100%[===================>]  30.26M  --.-KB/s    in 0.1s    \n",
            "\n",
            "2025-09-05 07:31:35 (245 MB/s) - ‘data/aqi.csv’ saved [31731212/31731212]\n",
            "\n"
          ]
        }
      ]
    },
    {
      "cell_type": "code",
      "source": [
        "import os\n",
        "import pandas as pd\n",
        "\n",
        "DATA_PATH = 'data'\n",
        "\n",
        "# List files in the data directory\n",
        "file_list = [os.path.join(DATA_PATH, f) for f in os.listdir(DATA_PATH) if f.endswith('.csv')]\n",
        "\n",
        "# Read and concatenate the data\n",
        "data_list = []\n",
        "for file in file_list:\n",
        "    data = pd.read_csv(file)\n",
        "    data_list.append(data)\n",
        "\n",
        "if data_list:\n",
        "    data = pd.concat(data_list, axis=0)\n",
        "    display(data.head())\n",
        "else:\n",
        "    print(\"No CSV files found in the data directory.\")"
      ],
      "metadata": {
        "colab": {
          "base_uri": "https://localhost:8080/",
          "height": 206
        },
        "id": "Dxx7NOERm0JA",
        "outputId": "4741ab58-fd3b-4562-f3dc-1b92e9cff302"
      },
      "execution_count": 16,
      "outputs": [
        {
          "output_type": "display_data",
          "data": {
            "text/plain": [
              "   No  year  month  day  hour  PM2.5  PM10  SO2       NO2     CO    O3  TEMP  \\\n",
              "0   1  2013      3    1     0    6.0  18.0  5.0   9.80000  800.0  88.0   0.1   \n",
              "1   2  2013      3    1     1    6.0  15.0  5.0  11.00000  800.0  88.0  -0.3   \n",
              "2   3  2013      3    1     2    5.0  18.0  5.2  10.09936  700.0  52.0  -0.7   \n",
              "3   4  2013      3    1     3    6.0  20.0  6.0  13.60000  320.0  49.8  -1.0   \n",
              "4   5  2013      3    1     4    5.0  17.0  5.0  15.60000  600.0  73.0  -1.3   \n",
              "\n",
              "     PRES  DEWP  RAIN  wd  WSPM  station  \n",
              "0  1021.1 -18.6   0.0   7   4.4        5  \n",
              "1  1021.5 -19.0   0.0   7   4.0        5  \n",
              "2  1021.5 -19.8   0.0  14   4.6        5  \n",
              "3  1022.7 -21.2   0.0  13   2.8        5  \n",
              "4  1023.0 -21.4   0.0  14   3.6        5  "
            ],
            "text/html": [
              "\n",
              "  <div id=\"df-d147fb4b-4c44-45f8-a333-835ec2549dff\" class=\"colab-df-container\">\n",
              "    <div>\n",
              "<style scoped>\n",
              "    .dataframe tbody tr th:only-of-type {\n",
              "        vertical-align: middle;\n",
              "    }\n",
              "\n",
              "    .dataframe tbody tr th {\n",
              "        vertical-align: top;\n",
              "    }\n",
              "\n",
              "    .dataframe thead th {\n",
              "        text-align: right;\n",
              "    }\n",
              "</style>\n",
              "<table border=\"1\" class=\"dataframe\">\n",
              "  <thead>\n",
              "    <tr style=\"text-align: right;\">\n",
              "      <th></th>\n",
              "      <th>No</th>\n",
              "      <th>year</th>\n",
              "      <th>month</th>\n",
              "      <th>day</th>\n",
              "      <th>hour</th>\n",
              "      <th>PM2.5</th>\n",
              "      <th>PM10</th>\n",
              "      <th>SO2</th>\n",
              "      <th>NO2</th>\n",
              "      <th>CO</th>\n",
              "      <th>O3</th>\n",
              "      <th>TEMP</th>\n",
              "      <th>PRES</th>\n",
              "      <th>DEWP</th>\n",
              "      <th>RAIN</th>\n",
              "      <th>wd</th>\n",
              "      <th>WSPM</th>\n",
              "      <th>station</th>\n",
              "    </tr>\n",
              "  </thead>\n",
              "  <tbody>\n",
              "    <tr>\n",
              "      <th>0</th>\n",
              "      <td>1</td>\n",
              "      <td>2013</td>\n",
              "      <td>3</td>\n",
              "      <td>1</td>\n",
              "      <td>0</td>\n",
              "      <td>6.0</td>\n",
              "      <td>18.0</td>\n",
              "      <td>5.0</td>\n",
              "      <td>9.80000</td>\n",
              "      <td>800.0</td>\n",
              "      <td>88.0</td>\n",
              "      <td>0.1</td>\n",
              "      <td>1021.1</td>\n",
              "      <td>-18.6</td>\n",
              "      <td>0.0</td>\n",
              "      <td>7</td>\n",
              "      <td>4.4</td>\n",
              "      <td>5</td>\n",
              "    </tr>\n",
              "    <tr>\n",
              "      <th>1</th>\n",
              "      <td>2</td>\n",
              "      <td>2013</td>\n",
              "      <td>3</td>\n",
              "      <td>1</td>\n",
              "      <td>1</td>\n",
              "      <td>6.0</td>\n",
              "      <td>15.0</td>\n",
              "      <td>5.0</td>\n",
              "      <td>11.00000</td>\n",
              "      <td>800.0</td>\n",
              "      <td>88.0</td>\n",
              "      <td>-0.3</td>\n",
              "      <td>1021.5</td>\n",
              "      <td>-19.0</td>\n",
              "      <td>0.0</td>\n",
              "      <td>7</td>\n",
              "      <td>4.0</td>\n",
              "      <td>5</td>\n",
              "    </tr>\n",
              "    <tr>\n",
              "      <th>2</th>\n",
              "      <td>3</td>\n",
              "      <td>2013</td>\n",
              "      <td>3</td>\n",
              "      <td>1</td>\n",
              "      <td>2</td>\n",
              "      <td>5.0</td>\n",
              "      <td>18.0</td>\n",
              "      <td>5.2</td>\n",
              "      <td>10.09936</td>\n",
              "      <td>700.0</td>\n",
              "      <td>52.0</td>\n",
              "      <td>-0.7</td>\n",
              "      <td>1021.5</td>\n",
              "      <td>-19.8</td>\n",
              "      <td>0.0</td>\n",
              "      <td>14</td>\n",
              "      <td>4.6</td>\n",
              "      <td>5</td>\n",
              "    </tr>\n",
              "    <tr>\n",
              "      <th>3</th>\n",
              "      <td>4</td>\n",
              "      <td>2013</td>\n",
              "      <td>3</td>\n",
              "      <td>1</td>\n",
              "      <td>3</td>\n",
              "      <td>6.0</td>\n",
              "      <td>20.0</td>\n",
              "      <td>6.0</td>\n",
              "      <td>13.60000</td>\n",
              "      <td>320.0</td>\n",
              "      <td>49.8</td>\n",
              "      <td>-1.0</td>\n",
              "      <td>1022.7</td>\n",
              "      <td>-21.2</td>\n",
              "      <td>0.0</td>\n",
              "      <td>13</td>\n",
              "      <td>2.8</td>\n",
              "      <td>5</td>\n",
              "    </tr>\n",
              "    <tr>\n",
              "      <th>4</th>\n",
              "      <td>5</td>\n",
              "      <td>2013</td>\n",
              "      <td>3</td>\n",
              "      <td>1</td>\n",
              "      <td>4</td>\n",
              "      <td>5.0</td>\n",
              "      <td>17.0</td>\n",
              "      <td>5.0</td>\n",
              "      <td>15.60000</td>\n",
              "      <td>600.0</td>\n",
              "      <td>73.0</td>\n",
              "      <td>-1.3</td>\n",
              "      <td>1023.0</td>\n",
              "      <td>-21.4</td>\n",
              "      <td>0.0</td>\n",
              "      <td>14</td>\n",
              "      <td>3.6</td>\n",
              "      <td>5</td>\n",
              "    </tr>\n",
              "  </tbody>\n",
              "</table>\n",
              "</div>\n",
              "    <div class=\"colab-df-buttons\">\n",
              "\n",
              "  <div class=\"colab-df-container\">\n",
              "    <button class=\"colab-df-convert\" onclick=\"convertToInteractive('df-d147fb4b-4c44-45f8-a333-835ec2549dff')\"\n",
              "            title=\"Convert this dataframe to an interactive table.\"\n",
              "            style=\"display:none;\">\n",
              "\n",
              "  <svg xmlns=\"http://www.w3.org/2000/svg\" height=\"24px\" viewBox=\"0 -960 960 960\">\n",
              "    <path d=\"M120-120v-720h720v720H120Zm60-500h600v-160H180v160Zm220 220h160v-160H400v160Zm0 220h160v-160H400v160ZM180-400h160v-160H180v160Zm440 0h160v-160H620v160ZM180-180h160v-160H180v160Zm440 0h160v-160H620v160Z\"/>\n",
              "  </svg>\n",
              "    </button>\n",
              "\n",
              "  <style>\n",
              "    .colab-df-container {\n",
              "      display:flex;\n",
              "      gap: 12px;\n",
              "    }\n",
              "\n",
              "    .colab-df-convert {\n",
              "      background-color: #E8F0FE;\n",
              "      border: none;\n",
              "      border-radius: 50%;\n",
              "      cursor: pointer;\n",
              "      display: none;\n",
              "      fill: #1967D2;\n",
              "      height: 32px;\n",
              "      padding: 0 0 0 0;\n",
              "      width: 32px;\n",
              "    }\n",
              "\n",
              "    .colab-df-convert:hover {\n",
              "      background-color: #E2EBFA;\n",
              "      box-shadow: 0px 1px 2px rgba(60, 64, 67, 0.3), 0px 1px 3px 1px rgba(60, 64, 67, 0.15);\n",
              "      fill: #174EA6;\n",
              "    }\n",
              "\n",
              "    .colab-df-buttons div {\n",
              "      margin-bottom: 4px;\n",
              "    }\n",
              "\n",
              "    [theme=dark] .colab-df-convert {\n",
              "      background-color: #3B4455;\n",
              "      fill: #D2E3FC;\n",
              "    }\n",
              "\n",
              "    [theme=dark] .colab-df-convert:hover {\n",
              "      background-color: #434B5C;\n",
              "      box-shadow: 0px 1px 3px 1px rgba(0, 0, 0, 0.15);\n",
              "      filter: drop-shadow(0px 1px 2px rgba(0, 0, 0, 0.3));\n",
              "      fill: #FFFFFF;\n",
              "    }\n",
              "  </style>\n",
              "\n",
              "    <script>\n",
              "      const buttonEl =\n",
              "        document.querySelector('#df-d147fb4b-4c44-45f8-a333-835ec2549dff button.colab-df-convert');\n",
              "      buttonEl.style.display =\n",
              "        google.colab.kernel.accessAllowed ? 'block' : 'none';\n",
              "\n",
              "      async function convertToInteractive(key) {\n",
              "        const element = document.querySelector('#df-d147fb4b-4c44-45f8-a333-835ec2549dff');\n",
              "        const dataTable =\n",
              "          await google.colab.kernel.invokeFunction('convertToInteractive',\n",
              "                                                    [key], {});\n",
              "        if (!dataTable) return;\n",
              "\n",
              "        const docLinkHtml = 'Like what you see? Visit the ' +\n",
              "          '<a target=\"_blank\" href=https://colab.research.google.com/notebooks/data_table.ipynb>data table notebook</a>'\n",
              "          + ' to learn more about interactive tables.';\n",
              "        element.innerHTML = '';\n",
              "        dataTable['output_type'] = 'display_data';\n",
              "        await google.colab.output.renderOutput(dataTable, element);\n",
              "        const docLink = document.createElement('div');\n",
              "        docLink.innerHTML = docLinkHtml;\n",
              "        element.appendChild(docLink);\n",
              "      }\n",
              "    </script>\n",
              "  </div>\n",
              "\n",
              "\n",
              "    <div id=\"df-78286889-33d9-4917-9e95-8b49de21e01b\">\n",
              "      <button class=\"colab-df-quickchart\" onclick=\"quickchart('df-78286889-33d9-4917-9e95-8b49de21e01b')\"\n",
              "                title=\"Suggest charts\"\n",
              "                style=\"display:none;\">\n",
              "\n",
              "<svg xmlns=\"http://www.w3.org/2000/svg\" height=\"24px\"viewBox=\"0 0 24 24\"\n",
              "     width=\"24px\">\n",
              "    <g>\n",
              "        <path d=\"M19 3H5c-1.1 0-2 .9-2 2v14c0 1.1.9 2 2 2h14c1.1 0 2-.9 2-2V5c0-1.1-.9-2-2-2zM9 17H7v-7h2v7zm4 0h-2V7h2v10zm4 0h-2v-4h2v4z\"/>\n",
              "    </g>\n",
              "</svg>\n",
              "      </button>\n",
              "\n",
              "<style>\n",
              "  .colab-df-quickchart {\n",
              "      --bg-color: #E8F0FE;\n",
              "      --fill-color: #1967D2;\n",
              "      --hover-bg-color: #E2EBFA;\n",
              "      --hover-fill-color: #174EA6;\n",
              "      --disabled-fill-color: #AAA;\n",
              "      --disabled-bg-color: #DDD;\n",
              "  }\n",
              "\n",
              "  [theme=dark] .colab-df-quickchart {\n",
              "      --bg-color: #3B4455;\n",
              "      --fill-color: #D2E3FC;\n",
              "      --hover-bg-color: #434B5C;\n",
              "      --hover-fill-color: #FFFFFF;\n",
              "      --disabled-bg-color: #3B4455;\n",
              "      --disabled-fill-color: #666;\n",
              "  }\n",
              "\n",
              "  .colab-df-quickchart {\n",
              "    background-color: var(--bg-color);\n",
              "    border: none;\n",
              "    border-radius: 50%;\n",
              "    cursor: pointer;\n",
              "    display: none;\n",
              "    fill: var(--fill-color);\n",
              "    height: 32px;\n",
              "    padding: 0;\n",
              "    width: 32px;\n",
              "  }\n",
              "\n",
              "  .colab-df-quickchart:hover {\n",
              "    background-color: var(--hover-bg-color);\n",
              "    box-shadow: 0 1px 2px rgba(60, 64, 67, 0.3), 0 1px 3px 1px rgba(60, 64, 67, 0.15);\n",
              "    fill: var(--button-hover-fill-color);\n",
              "  }\n",
              "\n",
              "  .colab-df-quickchart-complete:disabled,\n",
              "  .colab-df-quickchart-complete:disabled:hover {\n",
              "    background-color: var(--disabled-bg-color);\n",
              "    fill: var(--disabled-fill-color);\n",
              "    box-shadow: none;\n",
              "  }\n",
              "\n",
              "  .colab-df-spinner {\n",
              "    border: 2px solid var(--fill-color);\n",
              "    border-color: transparent;\n",
              "    border-bottom-color: var(--fill-color);\n",
              "    animation:\n",
              "      spin 1s steps(1) infinite;\n",
              "  }\n",
              "\n",
              "  @keyframes spin {\n",
              "    0% {\n",
              "      border-color: transparent;\n",
              "      border-bottom-color: var(--fill-color);\n",
              "      border-left-color: var(--fill-color);\n",
              "    }\n",
              "    20% {\n",
              "      border-color: transparent;\n",
              "      border-left-color: var(--fill-color);\n",
              "      border-top-color: var(--fill-color);\n",
              "    }\n",
              "    30% {\n",
              "      border-color: transparent;\n",
              "      border-left-color: var(--fill-color);\n",
              "      border-top-color: var(--fill-color);\n",
              "      border-right-color: var(--fill-color);\n",
              "    }\n",
              "    40% {\n",
              "      border-color: transparent;\n",
              "      border-right-color: var(--fill-color);\n",
              "      border-top-color: var(--fill-color);\n",
              "    }\n",
              "    60% {\n",
              "      border-color: transparent;\n",
              "      border-right-color: var(--fill-color);\n",
              "    }\n",
              "    80% {\n",
              "      border-color: transparent;\n",
              "      border-right-color: var(--fill-color);\n",
              "      border-bottom-color: var(--fill-color);\n",
              "    }\n",
              "    90% {\n",
              "      border-color: transparent;\n",
              "      border-bottom-color: var(--fill-color);\n",
              "    }\n",
              "  }\n",
              "</style>\n",
              "\n",
              "      <script>\n",
              "        async function quickchart(key) {\n",
              "          const quickchartButtonEl =\n",
              "            document.querySelector('#' + key + ' button');\n",
              "          quickchartButtonEl.disabled = true;  // To prevent multiple clicks.\n",
              "          quickchartButtonEl.classList.add('colab-df-spinner');\n",
              "          try {\n",
              "            const charts = await google.colab.kernel.invokeFunction(\n",
              "                'suggestCharts', [key], {});\n",
              "          } catch (error) {\n",
              "            console.error('Error during call to suggestCharts:', error);\n",
              "          }\n",
              "          quickchartButtonEl.classList.remove('colab-df-spinner');\n",
              "          quickchartButtonEl.classList.add('colab-df-quickchart-complete');\n",
              "        }\n",
              "        (() => {\n",
              "          let quickchartButtonEl =\n",
              "            document.querySelector('#df-78286889-33d9-4917-9e95-8b49de21e01b button');\n",
              "          quickchartButtonEl.style.display =\n",
              "            google.colab.kernel.accessAllowed ? 'block' : 'none';\n",
              "        })();\n",
              "      </script>\n",
              "    </div>\n",
              "\n",
              "    </div>\n",
              "  </div>\n"
            ],
            "application/vnd.google.colaboratory.intrinsic+json": {
              "type": "dataframe",
              "summary": "{\n  \"name\": \"    print(\\\"No CSV files found in the data directory\",\n  \"rows\": 5,\n  \"fields\": [\n    {\n      \"column\": \"No\",\n      \"properties\": {\n        \"dtype\": \"number\",\n        \"std\": 1,\n        \"min\": 1,\n        \"max\": 5,\n        \"num_unique_values\": 5,\n        \"samples\": [\n          2,\n          5,\n          3\n        ],\n        \"semantic_type\": \"\",\n        \"description\": \"\"\n      }\n    },\n    {\n      \"column\": \"year\",\n      \"properties\": {\n        \"dtype\": \"number\",\n        \"std\": 0,\n        \"min\": 2013,\n        \"max\": 2013,\n        \"num_unique_values\": 1,\n        \"samples\": [\n          2013\n        ],\n        \"semantic_type\": \"\",\n        \"description\": \"\"\n      }\n    },\n    {\n      \"column\": \"month\",\n      \"properties\": {\n        \"dtype\": \"number\",\n        \"std\": 0,\n        \"min\": 3,\n        \"max\": 3,\n        \"num_unique_values\": 1,\n        \"samples\": [\n          3\n        ],\n        \"semantic_type\": \"\",\n        \"description\": \"\"\n      }\n    },\n    {\n      \"column\": \"day\",\n      \"properties\": {\n        \"dtype\": \"number\",\n        \"std\": 0,\n        \"min\": 1,\n        \"max\": 1,\n        \"num_unique_values\": 1,\n        \"samples\": [\n          1\n        ],\n        \"semantic_type\": \"\",\n        \"description\": \"\"\n      }\n    },\n    {\n      \"column\": \"hour\",\n      \"properties\": {\n        \"dtype\": \"number\",\n        \"std\": 1,\n        \"min\": 0,\n        \"max\": 4,\n        \"num_unique_values\": 5,\n        \"samples\": [\n          1\n        ],\n        \"semantic_type\": \"\",\n        \"description\": \"\"\n      }\n    },\n    {\n      \"column\": \"PM2.5\",\n      \"properties\": {\n        \"dtype\": \"number\",\n        \"std\": 0.5477225575051661,\n        \"min\": 5.0,\n        \"max\": 6.0,\n        \"num_unique_values\": 2,\n        \"samples\": [\n          5.0\n        ],\n        \"semantic_type\": \"\",\n        \"description\": \"\"\n      }\n    },\n    {\n      \"column\": \"PM10\",\n      \"properties\": {\n        \"dtype\": \"number\",\n        \"std\": 1.8165902124584952,\n        \"min\": 15.0,\n        \"max\": 20.0,\n        \"num_unique_values\": 4,\n        \"samples\": [\n          15.0\n        ],\n        \"semantic_type\": \"\",\n        \"description\": \"\"\n      }\n    },\n    {\n      \"column\": \"SO2\",\n      \"properties\": {\n        \"dtype\": \"number\",\n        \"std\": 0.433589667773576,\n        \"min\": 5.0,\n        \"max\": 6.0,\n        \"num_unique_values\": 3,\n        \"samples\": [\n          5.0\n        ],\n        \"semantic_type\": \"\",\n        \"description\": \"\"\n      }\n    },\n    {\n      \"column\": \"NO2\",\n      \"properties\": {\n        \"dtype\": \"number\",\n        \"std\": 2.498522459758967,\n        \"min\": 9.8,\n        \"max\": 15.6,\n        \"num_unique_values\": 5,\n        \"samples\": [\n          11.0\n        ],\n        \"semantic_type\": \"\",\n        \"description\": \"\"\n      }\n    },\n    {\n      \"column\": \"CO\",\n      \"properties\": {\n        \"dtype\": \"number\",\n        \"std\": 199.19839356781972,\n        \"min\": 320.0,\n        \"max\": 800.0,\n        \"num_unique_values\": 4,\n        \"samples\": [\n          700.0\n        ],\n        \"semantic_type\": \"\",\n        \"description\": \"\"\n      }\n    },\n    {\n      \"column\": \"O3\",\n      \"properties\": {\n        \"dtype\": \"number\",\n        \"std\": 18.63405484589975,\n        \"min\": 49.8,\n        \"max\": 88.0,\n        \"num_unique_values\": 4,\n        \"samples\": [\n          52.0\n        ],\n        \"semantic_type\": \"\",\n        \"description\": \"\"\n      }\n    },\n    {\n      \"column\": \"TEMP\",\n      \"properties\": {\n        \"dtype\": \"number\",\n        \"std\": 0.5549774770204643,\n        \"min\": -1.3,\n        \"max\": 0.1,\n        \"num_unique_values\": 5,\n        \"samples\": [\n          -0.3\n        ],\n        \"semantic_type\": \"\",\n        \"description\": \"\"\n      }\n    },\n    {\n      \"column\": \"PRES\",\n      \"properties\": {\n        \"dtype\": \"number\",\n        \"std\": 0.8354639429682211,\n        \"min\": 1021.1,\n        \"max\": 1023.0,\n        \"num_unique_values\": 4,\n        \"samples\": [\n          1021.5\n        ],\n        \"semantic_type\": \"\",\n        \"description\": \"\"\n      }\n    },\n    {\n      \"column\": \"DEWP\",\n      \"properties\": {\n        \"dtype\": \"number\",\n        \"std\": 1.2649110640673507,\n        \"min\": -21.4,\n        \"max\": -18.6,\n        \"num_unique_values\": 5,\n        \"samples\": [\n          -19.0\n        ],\n        \"semantic_type\": \"\",\n        \"description\": \"\"\n      }\n    },\n    {\n      \"column\": \"RAIN\",\n      \"properties\": {\n        \"dtype\": \"number\",\n        \"std\": 0.0,\n        \"min\": 0.0,\n        \"max\": 0.0,\n        \"num_unique_values\": 1,\n        \"samples\": [\n          0.0\n        ],\n        \"semantic_type\": \"\",\n        \"description\": \"\"\n      }\n    },\n    {\n      \"column\": \"wd\",\n      \"properties\": {\n        \"dtype\": \"number\",\n        \"std\": 3,\n        \"min\": 7,\n        \"max\": 14,\n        \"num_unique_values\": 3,\n        \"samples\": [\n          7\n        ],\n        \"semantic_type\": \"\",\n        \"description\": \"\"\n      }\n    },\n    {\n      \"column\": \"WSPM\",\n      \"properties\": {\n        \"dtype\": \"number\",\n        \"std\": 0.7155417527999328,\n        \"min\": 2.8,\n        \"max\": 4.6,\n        \"num_unique_values\": 5,\n        \"samples\": [\n          4.0\n        ],\n        \"semantic_type\": \"\",\n        \"description\": \"\"\n      }\n    },\n    {\n      \"column\": \"station\",\n      \"properties\": {\n        \"dtype\": \"number\",\n        \"std\": 0,\n        \"min\": 5,\n        \"max\": 5,\n        \"num_unique_values\": 1,\n        \"samples\": [\n          5\n        ],\n        \"semantic_type\": \"\",\n        \"description\": \"\"\n      }\n    }\n  ]\n}"
            }
          },
          "metadata": {}
        }
      ]
    },
    {
      "cell_type": "code",
      "source": [
        "data.head()\n"
      ],
      "metadata": {
        "colab": {
          "base_uri": "https://localhost:8080/",
          "height": 206
        },
        "id": "vGKauZHzlRJD",
        "outputId": "479cff94-96de-49d9-dcb0-f76576debb7f"
      },
      "execution_count": 17,
      "outputs": [
        {
          "output_type": "execute_result",
          "data": {
            "text/plain": [
              "   No  year  month  day  hour  PM2.5  PM10  SO2       NO2     CO    O3  TEMP  \\\n",
              "0   1  2013      3    1     0    6.0  18.0  5.0   9.80000  800.0  88.0   0.1   \n",
              "1   2  2013      3    1     1    6.0  15.0  5.0  11.00000  800.0  88.0  -0.3   \n",
              "2   3  2013      3    1     2    5.0  18.0  5.2  10.09936  700.0  52.0  -0.7   \n",
              "3   4  2013      3    1     3    6.0  20.0  6.0  13.60000  320.0  49.8  -1.0   \n",
              "4   5  2013      3    1     4    5.0  17.0  5.0  15.60000  600.0  73.0  -1.3   \n",
              "\n",
              "     PRES  DEWP  RAIN  wd  WSPM  station  \n",
              "0  1021.1 -18.6   0.0   7   4.4        5  \n",
              "1  1021.5 -19.0   0.0   7   4.0        5  \n",
              "2  1021.5 -19.8   0.0  14   4.6        5  \n",
              "3  1022.7 -21.2   0.0  13   2.8        5  \n",
              "4  1023.0 -21.4   0.0  14   3.6        5  "
            ],
            "text/html": [
              "\n",
              "  <div id=\"df-66e119cc-feb7-430e-a063-c6b7d41eafb6\" class=\"colab-df-container\">\n",
              "    <div>\n",
              "<style scoped>\n",
              "    .dataframe tbody tr th:only-of-type {\n",
              "        vertical-align: middle;\n",
              "    }\n",
              "\n",
              "    .dataframe tbody tr th {\n",
              "        vertical-align: top;\n",
              "    }\n",
              "\n",
              "    .dataframe thead th {\n",
              "        text-align: right;\n",
              "    }\n",
              "</style>\n",
              "<table border=\"1\" class=\"dataframe\">\n",
              "  <thead>\n",
              "    <tr style=\"text-align: right;\">\n",
              "      <th></th>\n",
              "      <th>No</th>\n",
              "      <th>year</th>\n",
              "      <th>month</th>\n",
              "      <th>day</th>\n",
              "      <th>hour</th>\n",
              "      <th>PM2.5</th>\n",
              "      <th>PM10</th>\n",
              "      <th>SO2</th>\n",
              "      <th>NO2</th>\n",
              "      <th>CO</th>\n",
              "      <th>O3</th>\n",
              "      <th>TEMP</th>\n",
              "      <th>PRES</th>\n",
              "      <th>DEWP</th>\n",
              "      <th>RAIN</th>\n",
              "      <th>wd</th>\n",
              "      <th>WSPM</th>\n",
              "      <th>station</th>\n",
              "    </tr>\n",
              "  </thead>\n",
              "  <tbody>\n",
              "    <tr>\n",
              "      <th>0</th>\n",
              "      <td>1</td>\n",
              "      <td>2013</td>\n",
              "      <td>3</td>\n",
              "      <td>1</td>\n",
              "      <td>0</td>\n",
              "      <td>6.0</td>\n",
              "      <td>18.0</td>\n",
              "      <td>5.0</td>\n",
              "      <td>9.80000</td>\n",
              "      <td>800.0</td>\n",
              "      <td>88.0</td>\n",
              "      <td>0.1</td>\n",
              "      <td>1021.1</td>\n",
              "      <td>-18.6</td>\n",
              "      <td>0.0</td>\n",
              "      <td>7</td>\n",
              "      <td>4.4</td>\n",
              "      <td>5</td>\n",
              "    </tr>\n",
              "    <tr>\n",
              "      <th>1</th>\n",
              "      <td>2</td>\n",
              "      <td>2013</td>\n",
              "      <td>3</td>\n",
              "      <td>1</td>\n",
              "      <td>1</td>\n",
              "      <td>6.0</td>\n",
              "      <td>15.0</td>\n",
              "      <td>5.0</td>\n",
              "      <td>11.00000</td>\n",
              "      <td>800.0</td>\n",
              "      <td>88.0</td>\n",
              "      <td>-0.3</td>\n",
              "      <td>1021.5</td>\n",
              "      <td>-19.0</td>\n",
              "      <td>0.0</td>\n",
              "      <td>7</td>\n",
              "      <td>4.0</td>\n",
              "      <td>5</td>\n",
              "    </tr>\n",
              "    <tr>\n",
              "      <th>2</th>\n",
              "      <td>3</td>\n",
              "      <td>2013</td>\n",
              "      <td>3</td>\n",
              "      <td>1</td>\n",
              "      <td>2</td>\n",
              "      <td>5.0</td>\n",
              "      <td>18.0</td>\n",
              "      <td>5.2</td>\n",
              "      <td>10.09936</td>\n",
              "      <td>700.0</td>\n",
              "      <td>52.0</td>\n",
              "      <td>-0.7</td>\n",
              "      <td>1021.5</td>\n",
              "      <td>-19.8</td>\n",
              "      <td>0.0</td>\n",
              "      <td>14</td>\n",
              "      <td>4.6</td>\n",
              "      <td>5</td>\n",
              "    </tr>\n",
              "    <tr>\n",
              "      <th>3</th>\n",
              "      <td>4</td>\n",
              "      <td>2013</td>\n",
              "      <td>3</td>\n",
              "      <td>1</td>\n",
              "      <td>3</td>\n",
              "      <td>6.0</td>\n",
              "      <td>20.0</td>\n",
              "      <td>6.0</td>\n",
              "      <td>13.60000</td>\n",
              "      <td>320.0</td>\n",
              "      <td>49.8</td>\n",
              "      <td>-1.0</td>\n",
              "      <td>1022.7</td>\n",
              "      <td>-21.2</td>\n",
              "      <td>0.0</td>\n",
              "      <td>13</td>\n",
              "      <td>2.8</td>\n",
              "      <td>5</td>\n",
              "    </tr>\n",
              "    <tr>\n",
              "      <th>4</th>\n",
              "      <td>5</td>\n",
              "      <td>2013</td>\n",
              "      <td>3</td>\n",
              "      <td>1</td>\n",
              "      <td>4</td>\n",
              "      <td>5.0</td>\n",
              "      <td>17.0</td>\n",
              "      <td>5.0</td>\n",
              "      <td>15.60000</td>\n",
              "      <td>600.0</td>\n",
              "      <td>73.0</td>\n",
              "      <td>-1.3</td>\n",
              "      <td>1023.0</td>\n",
              "      <td>-21.4</td>\n",
              "      <td>0.0</td>\n",
              "      <td>14</td>\n",
              "      <td>3.6</td>\n",
              "      <td>5</td>\n",
              "    </tr>\n",
              "  </tbody>\n",
              "</table>\n",
              "</div>\n",
              "    <div class=\"colab-df-buttons\">\n",
              "\n",
              "  <div class=\"colab-df-container\">\n",
              "    <button class=\"colab-df-convert\" onclick=\"convertToInteractive('df-66e119cc-feb7-430e-a063-c6b7d41eafb6')\"\n",
              "            title=\"Convert this dataframe to an interactive table.\"\n",
              "            style=\"display:none;\">\n",
              "\n",
              "  <svg xmlns=\"http://www.w3.org/2000/svg\" height=\"24px\" viewBox=\"0 -960 960 960\">\n",
              "    <path d=\"M120-120v-720h720v720H120Zm60-500h600v-160H180v160Zm220 220h160v-160H400v160Zm0 220h160v-160H400v160ZM180-400h160v-160H180v160Zm440 0h160v-160H620v160ZM180-180h160v-160H180v160Zm440 0h160v-160H620v160Z\"/>\n",
              "  </svg>\n",
              "    </button>\n",
              "\n",
              "  <style>\n",
              "    .colab-df-container {\n",
              "      display:flex;\n",
              "      gap: 12px;\n",
              "    }\n",
              "\n",
              "    .colab-df-convert {\n",
              "      background-color: #E8F0FE;\n",
              "      border: none;\n",
              "      border-radius: 50%;\n",
              "      cursor: pointer;\n",
              "      display: none;\n",
              "      fill: #1967D2;\n",
              "      height: 32px;\n",
              "      padding: 0 0 0 0;\n",
              "      width: 32px;\n",
              "    }\n",
              "\n",
              "    .colab-df-convert:hover {\n",
              "      background-color: #E2EBFA;\n",
              "      box-shadow: 0px 1px 2px rgba(60, 64, 67, 0.3), 0px 1px 3px 1px rgba(60, 64, 67, 0.15);\n",
              "      fill: #174EA6;\n",
              "    }\n",
              "\n",
              "    .colab-df-buttons div {\n",
              "      margin-bottom: 4px;\n",
              "    }\n",
              "\n",
              "    [theme=dark] .colab-df-convert {\n",
              "      background-color: #3B4455;\n",
              "      fill: #D2E3FC;\n",
              "    }\n",
              "\n",
              "    [theme=dark] .colab-df-convert:hover {\n",
              "      background-color: #434B5C;\n",
              "      box-shadow: 0px 1px 3px 1px rgba(0, 0, 0, 0.15);\n",
              "      filter: drop-shadow(0px 1px 2px rgba(0, 0, 0, 0.3));\n",
              "      fill: #FFFFFF;\n",
              "    }\n",
              "  </style>\n",
              "\n",
              "    <script>\n",
              "      const buttonEl =\n",
              "        document.querySelector('#df-66e119cc-feb7-430e-a063-c6b7d41eafb6 button.colab-df-convert');\n",
              "      buttonEl.style.display =\n",
              "        google.colab.kernel.accessAllowed ? 'block' : 'none';\n",
              "\n",
              "      async function convertToInteractive(key) {\n",
              "        const element = document.querySelector('#df-66e119cc-feb7-430e-a063-c6b7d41eafb6');\n",
              "        const dataTable =\n",
              "          await google.colab.kernel.invokeFunction('convertToInteractive',\n",
              "                                                    [key], {});\n",
              "        if (!dataTable) return;\n",
              "\n",
              "        const docLinkHtml = 'Like what you see? Visit the ' +\n",
              "          '<a target=\"_blank\" href=https://colab.research.google.com/notebooks/data_table.ipynb>data table notebook</a>'\n",
              "          + ' to learn more about interactive tables.';\n",
              "        element.innerHTML = '';\n",
              "        dataTable['output_type'] = 'display_data';\n",
              "        await google.colab.output.renderOutput(dataTable, element);\n",
              "        const docLink = document.createElement('div');\n",
              "        docLink.innerHTML = docLinkHtml;\n",
              "        element.appendChild(docLink);\n",
              "      }\n",
              "    </script>\n",
              "  </div>\n",
              "\n",
              "\n",
              "    <div id=\"df-26551f38-1664-41a7-93f7-aa46e3a02e73\">\n",
              "      <button class=\"colab-df-quickchart\" onclick=\"quickchart('df-26551f38-1664-41a7-93f7-aa46e3a02e73')\"\n",
              "                title=\"Suggest charts\"\n",
              "                style=\"display:none;\">\n",
              "\n",
              "<svg xmlns=\"http://www.w3.org/2000/svg\" height=\"24px\"viewBox=\"0 0 24 24\"\n",
              "     width=\"24px\">\n",
              "    <g>\n",
              "        <path d=\"M19 3H5c-1.1 0-2 .9-2 2v14c0 1.1.9 2 2 2h14c1.1 0 2-.9 2-2V5c0-1.1-.9-2-2-2zM9 17H7v-7h2v7zm4 0h-2V7h2v10zm4 0h-2v-4h2v4z\"/>\n",
              "    </g>\n",
              "</svg>\n",
              "      </button>\n",
              "\n",
              "<style>\n",
              "  .colab-df-quickchart {\n",
              "      --bg-color: #E8F0FE;\n",
              "      --fill-color: #1967D2;\n",
              "      --hover-bg-color: #E2EBFA;\n",
              "      --hover-fill-color: #174EA6;\n",
              "      --disabled-fill-color: #AAA;\n",
              "      --disabled-bg-color: #DDD;\n",
              "  }\n",
              "\n",
              "  [theme=dark] .colab-df-quickchart {\n",
              "      --bg-color: #3B4455;\n",
              "      --fill-color: #D2E3FC;\n",
              "      --hover-bg-color: #434B5C;\n",
              "      --hover-fill-color: #FFFFFF;\n",
              "      --disabled-bg-color: #3B4455;\n",
              "      --disabled-fill-color: #666;\n",
              "  }\n",
              "\n",
              "  .colab-df-quickchart {\n",
              "    background-color: var(--bg-color);\n",
              "    border: none;\n",
              "    border-radius: 50%;\n",
              "    cursor: pointer;\n",
              "    display: none;\n",
              "    fill: var(--fill-color);\n",
              "    height: 32px;\n",
              "    padding: 0;\n",
              "    width: 32px;\n",
              "  }\n",
              "\n",
              "  .colab-df-quickchart:hover {\n",
              "    background-color: var(--hover-bg-color);\n",
              "    box-shadow: 0 1px 2px rgba(60, 64, 67, 0.3), 0 1px 3px 1px rgba(60, 64, 67, 0.15);\n",
              "    fill: var(--button-hover-fill-color);\n",
              "  }\n",
              "\n",
              "  .colab-df-quickchart-complete:disabled,\n",
              "  .colab-df-quickchart-complete:disabled:hover {\n",
              "    background-color: var(--disabled-bg-color);\n",
              "    fill: var(--disabled-fill-color);\n",
              "    box-shadow: none;\n",
              "  }\n",
              "\n",
              "  .colab-df-spinner {\n",
              "    border: 2px solid var(--fill-color);\n",
              "    border-color: transparent;\n",
              "    border-bottom-color: var(--fill-color);\n",
              "    animation:\n",
              "      spin 1s steps(1) infinite;\n",
              "  }\n",
              "\n",
              "  @keyframes spin {\n",
              "    0% {\n",
              "      border-color: transparent;\n",
              "      border-bottom-color: var(--fill-color);\n",
              "      border-left-color: var(--fill-color);\n",
              "    }\n",
              "    20% {\n",
              "      border-color: transparent;\n",
              "      border-left-color: var(--fill-color);\n",
              "      border-top-color: var(--fill-color);\n",
              "    }\n",
              "    30% {\n",
              "      border-color: transparent;\n",
              "      border-left-color: var(--fill-color);\n",
              "      border-top-color: var(--fill-color);\n",
              "      border-right-color: var(--fill-color);\n",
              "    }\n",
              "    40% {\n",
              "      border-color: transparent;\n",
              "      border-right-color: var(--fill-color);\n",
              "      border-top-color: var(--fill-color);\n",
              "    }\n",
              "    60% {\n",
              "      border-color: transparent;\n",
              "      border-right-color: var(--fill-color);\n",
              "    }\n",
              "    80% {\n",
              "      border-color: transparent;\n",
              "      border-right-color: var(--fill-color);\n",
              "      border-bottom-color: var(--fill-color);\n",
              "    }\n",
              "    90% {\n",
              "      border-color: transparent;\n",
              "      border-bottom-color: var(--fill-color);\n",
              "    }\n",
              "  }\n",
              "</style>\n",
              "\n",
              "      <script>\n",
              "        async function quickchart(key) {\n",
              "          const quickchartButtonEl =\n",
              "            document.querySelector('#' + key + ' button');\n",
              "          quickchartButtonEl.disabled = true;  // To prevent multiple clicks.\n",
              "          quickchartButtonEl.classList.add('colab-df-spinner');\n",
              "          try {\n",
              "            const charts = await google.colab.kernel.invokeFunction(\n",
              "                'suggestCharts', [key], {});\n",
              "          } catch (error) {\n",
              "            console.error('Error during call to suggestCharts:', error);\n",
              "          }\n",
              "          quickchartButtonEl.classList.remove('colab-df-spinner');\n",
              "          quickchartButtonEl.classList.add('colab-df-quickchart-complete');\n",
              "        }\n",
              "        (() => {\n",
              "          let quickchartButtonEl =\n",
              "            document.querySelector('#df-26551f38-1664-41a7-93f7-aa46e3a02e73 button');\n",
              "          quickchartButtonEl.style.display =\n",
              "            google.colab.kernel.accessAllowed ? 'block' : 'none';\n",
              "        })();\n",
              "      </script>\n",
              "    </div>\n",
              "\n",
              "    </div>\n",
              "  </div>\n"
            ],
            "application/vnd.google.colaboratory.intrinsic+json": {
              "type": "dataframe",
              "variable_name": "data"
            }
          },
          "metadata": {},
          "execution_count": 17
        }
      ]
    },
    {
      "cell_type": "code",
      "source": [
        "data.isna().sum()\n"
      ],
      "metadata": {
        "colab": {
          "base_uri": "https://localhost:8080/",
          "height": 648
        },
        "id": "9vcQODK7lZnw",
        "outputId": "120d6806-803e-42f0-cad8-8a53165aeea9"
      },
      "execution_count": 18,
      "outputs": [
        {
          "output_type": "execute_result",
          "data": {
            "text/plain": [
              "No         0\n",
              "year       0\n",
              "month      0\n",
              "day        0\n",
              "hour       0\n",
              "PM2.5      0\n",
              "PM10       0\n",
              "SO2        0\n",
              "NO2        0\n",
              "CO         0\n",
              "O3         0\n",
              "TEMP       0\n",
              "PRES       0\n",
              "DEWP       0\n",
              "RAIN       0\n",
              "wd         0\n",
              "WSPM       0\n",
              "station    0\n",
              "dtype: int64"
            ],
            "text/html": [
              "<div>\n",
              "<style scoped>\n",
              "    .dataframe tbody tr th:only-of-type {\n",
              "        vertical-align: middle;\n",
              "    }\n",
              "\n",
              "    .dataframe tbody tr th {\n",
              "        vertical-align: top;\n",
              "    }\n",
              "\n",
              "    .dataframe thead th {\n",
              "        text-align: right;\n",
              "    }\n",
              "</style>\n",
              "<table border=\"1\" class=\"dataframe\">\n",
              "  <thead>\n",
              "    <tr style=\"text-align: right;\">\n",
              "      <th></th>\n",
              "      <th>0</th>\n",
              "    </tr>\n",
              "  </thead>\n",
              "  <tbody>\n",
              "    <tr>\n",
              "      <th>No</th>\n",
              "      <td>0</td>\n",
              "    </tr>\n",
              "    <tr>\n",
              "      <th>year</th>\n",
              "      <td>0</td>\n",
              "    </tr>\n",
              "    <tr>\n",
              "      <th>month</th>\n",
              "      <td>0</td>\n",
              "    </tr>\n",
              "    <tr>\n",
              "      <th>day</th>\n",
              "      <td>0</td>\n",
              "    </tr>\n",
              "    <tr>\n",
              "      <th>hour</th>\n",
              "      <td>0</td>\n",
              "    </tr>\n",
              "    <tr>\n",
              "      <th>PM2.5</th>\n",
              "      <td>0</td>\n",
              "    </tr>\n",
              "    <tr>\n",
              "      <th>PM10</th>\n",
              "      <td>0</td>\n",
              "    </tr>\n",
              "    <tr>\n",
              "      <th>SO2</th>\n",
              "      <td>0</td>\n",
              "    </tr>\n",
              "    <tr>\n",
              "      <th>NO2</th>\n",
              "      <td>0</td>\n",
              "    </tr>\n",
              "    <tr>\n",
              "      <th>CO</th>\n",
              "      <td>0</td>\n",
              "    </tr>\n",
              "    <tr>\n",
              "      <th>O3</th>\n",
              "      <td>0</td>\n",
              "    </tr>\n",
              "    <tr>\n",
              "      <th>TEMP</th>\n",
              "      <td>0</td>\n",
              "    </tr>\n",
              "    <tr>\n",
              "      <th>PRES</th>\n",
              "      <td>0</td>\n",
              "    </tr>\n",
              "    <tr>\n",
              "      <th>DEWP</th>\n",
              "      <td>0</td>\n",
              "    </tr>\n",
              "    <tr>\n",
              "      <th>RAIN</th>\n",
              "      <td>0</td>\n",
              "    </tr>\n",
              "    <tr>\n",
              "      <th>wd</th>\n",
              "      <td>0</td>\n",
              "    </tr>\n",
              "    <tr>\n",
              "      <th>WSPM</th>\n",
              "      <td>0</td>\n",
              "    </tr>\n",
              "    <tr>\n",
              "      <th>station</th>\n",
              "      <td>0</td>\n",
              "    </tr>\n",
              "  </tbody>\n",
              "</table>\n",
              "</div><br><label><b>dtype:</b> int64</label>"
            ]
          },
          "metadata": {},
          "execution_count": 18
        }
      ]
    },
    {
      "cell_type": "code",
      "source": [
        "pm2_5 = data['PM2.5']\n",
        "sns.histplot(pm2_5, kde=True)"
      ],
      "metadata": {
        "colab": {
          "base_uri": "https://localhost:8080/",
          "height": 466
        },
        "id": "cPbH-E-7lcqO",
        "outputId": "42f5a248-1b40-4ff1-c619-5051c7eb9c47"
      },
      "execution_count": 19,
      "outputs": [
        {
          "output_type": "execute_result",
          "data": {
            "text/plain": [
              "<Axes: xlabel='PM2.5', ylabel='Count'>"
            ]
          },
          "metadata": {},
          "execution_count": 19
        },
        {
          "output_type": "display_data",
          "data": {
            "text/plain": [
              "<Figure size 640x480 with 1 Axes>"
            ],
            "image/png": "[encoded data removed]"
          },
          "metadata": {}
        }
      ]
    },
    {
      "cell_type": "code",
      "source": [
        "q1 = data['PM2.5'].quantile(0.25)\n",
        "q3 = data['PM2.5'].quantile(0.75)\n",
        "iqr = q3 - q1\n",
        "# Filter outlier observation and take their index\n",
        "filtration = (data['PM2.5'] < q1 - 1.5 * iqr) | (data['PM2.5'] > q3 + 1.5 *iqr)\n",
        "df_index1 = list(data.loc[filtration].index)\n",
        "data = data.loc[~filtration]"
      ],
      "metadata": {
        "id": "mYpD04NFlhoV"
      },
      "execution_count": 20,
      "outputs": []
    },
    {
      "cell_type": "code",
      "source": [
        "data.shape\n"
      ],
      "metadata": {
        "colab": {
          "base_uri": "https://localhost:8080/"
        },
        "id": "JY6RL93ilobv",
        "outputId": "69ebb0fb-7f9a-4f78-c920-100b558c4651"
      },
      "execution_count": 21,
      "outputs": [
        {
          "output_type": "execute_result",
          "data": {
            "text/plain": [
              "(393630, 18)"
            ]
          },
          "metadata": {},
          "execution_count": 21
        }
      ]
    },
    {
      "cell_type": "code",
      "source": [
        "CAT_FEATURES = data.select_dtypes(include=['object']).columns.tolist()\n",
        "\n",
        "for cat_col in CAT_FEATURES:\n",
        "    encoder = LabelEncoder()\n",
        "    data[cat_col] = encoder.fit_transform(data[cat_col])\n",
        "\n",
        "data['wd'] = data['wd'].fillna(data['wd'].mode()[0])\n",
        "assert data['wd'].isna().sum() == 0\n",
        "\n",
        "del CAT_FEATURES\n",
        "_ = gc.collect()"
      ],
      "metadata": {
        "id": "G5paY8_Ylq7K"
      },
      "execution_count": 22,
      "outputs": []
    },
    {
      "cell_type": "code",
      "source": [
        "%%time\n",
        "knn_imputer = KNNImputer(n_neighbors=5)\n",
        "na_columns = data.loc[:, data.isnull().any()].columns.tolist()\n",
        "num_cols = [col for col in na_columns if col != 'wd']\n",
        "\n",
        "if num_cols:\n",
        "    data[num_cols] = knn_imputer.fit_transform(data[na_cols])\n",
        "else:\n",
        "    print(\"No numerical columns with missing values to impute.\")"
      ],
      "metadata": {
        "colab": {
          "base_uri": "https://localhost:8080/"
        },
        "id": "Rb_RzhEal03W",
        "outputId": "b190ba5e-c338-464b-89a4-4f828f2c8f99"
      },
      "execution_count": 23,
      "outputs": [
        {
          "output_type": "stream",
          "name": "stdout",
          "text": [
            "No numerical columns with missing values to impute.\n",
            "CPU times: user 6.83 ms, sys: 0 ns, total: 6.83 ms\n",
            "Wall time: 6.97 ms\n"
          ]
        }
      ]
    },
    {
      "cell_type": "code",
      "source": [
        "data.isna().sum()\n"
      ],
      "metadata": {
        "colab": {
          "base_uri": "https://localhost:8080/",
          "height": 648
        },
        "id": "NaldFu6El98o",
        "outputId": "dec3133e-9fce-4e4b-d88a-8227fc55e7a3"
      },
      "execution_count": 24,
      "outputs": [
        {
          "output_type": "execute_result",
          "data": {
            "text/plain": [
              "No         0\n",
              "year       0\n",
              "month      0\n",
              "day        0\n",
              "hour       0\n",
              "PM2.5      0\n",
              "PM10       0\n",
              "SO2        0\n",
              "NO2        0\n",
              "CO         0\n",
              "O3         0\n",
              "TEMP       0\n",
              "PRES       0\n",
              "DEWP       0\n",
              "RAIN       0\n",
              "wd         0\n",
              "WSPM       0\n",
              "station    0\n",
              "dtype: int64"
            ],
            "text/html": [
              "<div>\n",
              "<style scoped>\n",
              "    .dataframe tbody tr th:only-of-type {\n",
              "        vertical-align: middle;\n",
              "    }\n",
              "\n",
              "    .dataframe tbody tr th {\n",
              "        vertical-align: top;\n",
              "    }\n",
              "\n",
              "    .dataframe thead th {\n",
              "        text-align: right;\n",
              "    }\n",
              "</style>\n",
              "<table border=\"1\" class=\"dataframe\">\n",
              "  <thead>\n",
              "    <tr style=\"text-align: right;\">\n",
              "      <th></th>\n",
              "      <th>0</th>\n",
              "    </tr>\n",
              "  </thead>\n",
              "  <tbody>\n",
              "    <tr>\n",
              "      <th>No</th>\n",
              "      <td>0</td>\n",
              "    </tr>\n",
              "    <tr>\n",
              "      <th>year</th>\n",
              "      <td>0</td>\n",
              "    </tr>\n",
              "    <tr>\n",
              "      <th>month</th>\n",
              "      <td>0</td>\n",
              "    </tr>\n",
              "    <tr>\n",
              "      <th>day</th>\n",
              "      <td>0</td>\n",
              "    </tr>\n",
              "    <tr>\n",
              "      <th>hour</th>\n",
              "      <td>0</td>\n",
              "    </tr>\n",
              "    <tr>\n",
              "      <th>PM2.5</th>\n",
              "      <td>0</td>\n",
              "    </tr>\n",
              "    <tr>\n",
              "      <th>PM10</th>\n",
              "      <td>0</td>\n",
              "    </tr>\n",
              "    <tr>\n",
              "      <th>SO2</th>\n",
              "      <td>0</td>\n",
              "    </tr>\n",
              "    <tr>\n",
              "      <th>NO2</th>\n",
              "      <td>0</td>\n",
              "    </tr>\n",
              "    <tr>\n",
              "      <th>CO</th>\n",
              "      <td>0</td>\n",
              "    </tr>\n",
              "    <tr>\n",
              "      <th>O3</th>\n",
              "      <td>0</td>\n",
              "    </tr>\n",
              "    <tr>\n",
              "      <th>TEMP</th>\n",
              "      <td>0</td>\n",
              "    </tr>\n",
              "    <tr>\n",
              "      <th>PRES</th>\n",
              "      <td>0</td>\n",
              "    </tr>\n",
              "    <tr>\n",
              "      <th>DEWP</th>\n",
              "      <td>0</td>\n",
              "    </tr>\n",
              "    <tr>\n",
              "      <th>RAIN</th>\n",
              "      <td>0</td>\n",
              "    </tr>\n",
              "    <tr>\n",
              "      <th>wd</th>\n",
              "      <td>0</td>\n",
              "    </tr>\n",
              "    <tr>\n",
              "      <th>WSPM</th>\n",
              "      <td>0</td>\n",
              "    </tr>\n",
              "    <tr>\n",
              "      <th>station</th>\n",
              "      <td>0</td>\n",
              "    </tr>\n",
              "  </tbody>\n",
              "</table>\n",
              "</div><br><label><b>dtype:</b> int64</label>"
            ]
          },
          "metadata": {},
          "execution_count": 24
        }
      ]
    },
    {
      "cell_type": "code",
      "source": [
        "data.to_csv(f'{OUT_PATH}airquality_data.csv', index=False)\n"
      ],
      "metadata": {
        "id": "Tnjt-iuxmAMk"
      },
      "execution_count": 25,
      "outputs": []
    },
    {
      "cell_type": "code",
      "source": [
        "import os\n",
        "import random\n",
        "from tqdm.auto import tqdm\n",
        "import time\n",
        "import wandb\n",
        "\n",
        "import pandas as pd\n",
        "import numpy as np\n",
        "import matplotlib.pyplot as plt\n",
        "\n",
        "import math\n",
        "\n",
        "from sklearn.model_selection import train_test_split, TimeSeriesSplit\n",
        "from sklearn.preprocessing import MinMaxScaler, StandardScaler\n",
        "\n",
        "from sklearn.metrics import mean_squared_error as mse\n",
        "from sklearn.metrics import mean_squared_log_error as msle\n",
        "from sklearn.metrics import mean_absolute_error as mae\n",
        "from sklearn.metrics import r2_score as r2\n",
        "\n",
        "import torch\n",
        "import torch.nn as nn\n",
        "from torch.optim import Adam, AdamW"
      ],
      "metadata": {
        "id": "YmGTKINqmQUF"
      },
      "execution_count": 26,
      "outputs": []
    },
    {
      "cell_type": "code",
      "source": [
        "from torch.optim.lr_scheduler import (CosineAnnealingWarmRestarts, CosineAnnealingLR, ReduceLROnPlateau,\n",
        "OneCycleLR)\n",
        "from torch.utils.data import Dataset, DataLoader\n",
        "import pytorch_lightning as pl\n",
        "\n",
        "DIR = './'\n",
        "if not os.path.exists(DIR):\n",
        "    os.mkdir(DIR)\n",
        "\n",
        "device=(\"cuda\" if torch.cuda.is_available() else \"cpu\")\n",
        "VERSION=11"
      ],
      "metadata": {
        "id": "XNFCjhGcmTrm"
      },
      "execution_count": 30,
      "outputs": []
    },
    {
      "cell_type": "code",
      "source": [
        "data = pd.read_csv('dataairquality_data.csv')\n",
        "FEATURES_COLUMNS = [col for col in data.columns if col not in ['No', 'year', 'month', 'day', 'hour']]"
      ],
      "metadata": {
        "id": "lvmU8eJpmfyd"
      },
      "execution_count": 32,
      "outputs": []
    },
    {
      "cell_type": "code",
      "metadata": {
        "id": "15c28fd4"
      },
      "source": [
        "# !pip install pytorch-lightning"
      ],
      "execution_count": 34,
      "outputs": []
    },
    {
      "cell_type": "code",
      "source": [
        "class CFG:\n",
        "    apex=False\n",
        "    debug=False\n",
        "    kaggle = True\n",
        "    print_freq=2000\n",
        "    num_workers=1\n",
        "    scheduler='CosineAnnealingLR' # ['ReduceLROnPlateau', 'CosineAnnealingLR', 'CosineAnnealingWarmRestarts','OneCycleLR']\n",
        "    epochs=60\n",
        "    # CosineAnnealingLR params\n",
        "    cosanneal_params={\n",
        "        'T_max':6,\n",
        "        'eta_min':1e-5,\n",
        "        'last_epoch':-1\n",
        "    }\n",
        "    #ReduceLROnPlateau params\n",
        "    reduce_params={\n",
        "        'mode':'min',\n",
        "        'factor':0.2,\n",
        "        'patience':4,\n",
        "        'eps':1e-6,\n",
        "        'verbose':True\n",
        "    }\n",
        "    # CosineAnnealingWarmRestarts params\n",
        "    cosanneal_res_params={\n",
        "        'T_0':5,\n",
        "        'eta_min':1e-4,\n",
        "        'T_mult':1,\n",
        "        'last_epoch':-1\n",
        "    }\n",
        "    onecycle_params={\n",
        "        'pct_start':0.1,\n",
        "        'div_factor':1e2,\n",
        "        'max_lr':1e-3\n",
        "    }\n",
        "    batch_size=32 #64\n",
        "    lr=1e-4\n",
        "    weight_decay=1e-2\n",
        "    gradient_accumulation_steps=1\n",
        "    max_grad_norm=1000 # Gradient clipping to prevent exploding / vanishing gradient\n",
        "    target_size=1\n",
        "    num_layers=3\n",
        "    input_size=len(FEATURES_COLUMNS)\n",
        "    hidden_size=100\n",
        "    seq_length=48 # 48h\n",
        "    nfolds=5\n",
        "    trn_folds=[0, 1, 2, 3, 4]\n",
        "    target_col=\"PM2.5\"\n",
        "    model_name=\"lstm_network\"\n",
        "    group = 'lstm'\n",
        "    train=True\n",
        "    seed=42\n",
        "\n",
        "if CFG.debug:\n",
        "    CFG.epochs=2\n",
        "    data=data.sample(n=10000, random_state=CFG.seed).reset_index(drop=True).fillna(method=\"ffill\")"
      ],
      "metadata": {
        "id": "ebCaXttBnvOE"
      },
      "execution_count": 35,
      "outputs": []
    },
    {
      "cell_type": "code",
      "source": [
        "train_data, test = train_test_split(data,\n",
        "                               test_size=0.1,\n",
        "                               shuffle=False)"
      ],
      "metadata": {
        "id": "a1Z3BasqoA19"
      },
      "execution_count": 36,
      "outputs": []
    },
    {
      "cell_type": "code",
      "source": [
        "train, valid = train_test_split(train_data,\n",
        "                               test_size=0.1,\n",
        "                               shuffle=False)"
      ],
      "metadata": {
        "id": "zmxaJLPpoD9c"
      },
      "execution_count": 37,
      "outputs": []
    },
    {
      "cell_type": "code",
      "source": [
        "def get_score(y_true, y_pred):\n",
        "    score = math.sqrt(mse(y_true, y_pred))\n",
        "    return score\n",
        "\n",
        "def init_logger(log_file=DIR+'train.log'):\n",
        "    from logging import getLogger, INFO, FileHandler,  Formatter,  StreamHandler\n",
        "    logger = getLogger(__name__)\n",
        "    logger.setLevel(INFO)\n",
        "    handler1 = StreamHandler()\n",
        "    handler1.setFormatter(Formatter(\"%(message)s\"))\n",
        "    handler2 = FileHandler(filename=log_file)\n",
        "    handler2.setFormatter(Formatter(\"%(message)s\"))\n",
        "    logger.addHandler(handler1)\n",
        "    logger.addHandler(handler2)\n",
        "    return logger\n",
        "\n",
        "LOGGER = init_logger()\n"
      ],
      "metadata": {
        "id": "7tFCxIUnoHj6"
      },
      "execution_count": 38,
      "outputs": []
    },
    {
      "cell_type": "code",
      "source": [
        "def seed_torch(seed=42):\n",
        "    random.seed(seed)\n",
        "    os.environ['PYTHONHASHSEED'] = str(seed)\n",
        "    np.random.seed(seed)\n",
        "    torch.manual_seed(seed)\n",
        "    torch.cuda.manual_seed(seed)\n",
        "    torch.backends.cudnn.deterministic = True\n",
        "\n",
        "seed_torch(seed=45)\n",
        "\n",
        "def rolling_window(data_df, window=1):\n",
        "\n",
        "    rolling_df = data_df[[col for col in data_df.columns if col not in ['No','station', 'wd', 'year', 'month', 'day', 'hour', 'PM2.5']]].rolling(window).mean().fillna(0)\n",
        "    rolling_df.columns = [col+\"_\"+f\"rolling_{window}\" for col in rolling_df.columns]\n",
        "\n",
        "    return rolling_df"
      ],
      "metadata": {
        "id": "F7voO0yuoLaY"
      },
      "execution_count": 39,
      "outputs": []
    },
    {
      "cell_type": "code",
      "source": [
        "\n",
        "def create_sequences(input_data: pd.DataFrame, target_column, sequence_length):\n",
        "\n",
        "    sequences = []\n",
        "    data_size = input_data.shape[0]\n",
        "    for i in tqdm(range(data_size - sequence_length)):\n",
        "\n",
        "        sequence = input_data[i: i+sequence_length]\n",
        "        label_position = i + sequence_length\n",
        "        label = input_data.iloc[label_position][target_column]\n",
        "        sequences.append((sequence[[col for col in sequence.columns if col not in ['No']]], label))\n",
        "\n",
        "    return sequences\n",
        "\n",
        "def diff_data(data_df, diff=1):\n",
        "\n",
        "    diff_df = data_df[[col for col in data_df.columns if col not in ['No','station', 'wd', 'year', 'month', 'day', 'hour']]].diff(diff).fillna(0)\n",
        "    diff_df.columns = [col+\"_\"+f\"diff_{diff}\" for col in diff_df.columns]\n",
        "\n",
        "    return diff_df"
      ],
      "metadata": {
        "id": "lIu1lgU9oOgF"
      },
      "execution_count": 40,
      "outputs": []
    },
    {
      "cell_type": "code",
      "source": [
        "train_diff = diff_data(train, diff=1)\n",
        "train = pd.concat([train, train_diff], axis=1)\n",
        "\n",
        "valid_diff = diff_data(valid, diff=1)\n",
        "valid = pd.concat([valid, valid_diff], axis=1)\n",
        "\n",
        "test_diff = diff_data(test, diff=1)\n",
        "test = pd.concat([test, test_diff], axis=1)\n",
        "\n",
        "FEATURES_COLUMNS = [col for col in train.columns if col not in ['No']]\n",
        "CFG.input_size = len(FEATURES_COLUMNS)"
      ],
      "metadata": {
        "id": "9mh1UXY6oRKM"
      },
      "execution_count": 41,
      "outputs": []
    },
    {
      "cell_type": "code",
      "source": [
        "%%time\n",
        "train_sequence = create_sequences(train, CFG.target_col, CFG.seq_length)\n",
        "valid_sequence = create_sequences(valid, CFG.target_col, CFG.seq_length)\n",
        "test_sequence = create_sequences(test, CFG.target_col, CFG.seq_length)"
      ],
      "metadata": {
        "colab": {
          "base_uri": "https://localhost:8080/",
          "height": 148,
          "referenced_widgets": [
            "71c3374d351f47dcb0f8cdfdc97433fd",
            "8d415508f4804855bba1207146f51545",
            "4fbd4b68f3ef4e87bd33015816e96ace",
            "f80594868f9642a999f5d84859da6011",
            "fc8de2ec4b6449e7a4a467a6149d8929",
            "8977d8882a9045d381da5bfff66194dc",
            "78cdb2f5c34e4f8b802acdc610f5200a",
            "94a1bee0a7db45af93fe9e3d63c46709",
            "f672df2f17c54c41beb4892d59f9c686",
            "d14a26e17c8e45a1a992f1754f6d7ae8",
            "714c912de870478e9e16c72a818b883e",
            "b0e65bee0de8441186e7fc6088846339",
            "597ef15745ed4c40836effd1f5782c07",
            "017baaf96f9f45af9d7cdcaa24305c80",
            "ccdb06659b6d4afc907bbe1fb15687e8",
            "e896f66ce6fb4aa1b13c5eb4e4702002",
            "68c3388e52734112aeb793fb1216d6f6",
            "4303c15b37e549608da0fca8264c4997",
            "16dc4151bab94868862dc30cb3bfb744",
            "b921c44c155e47b09175e6bef1d01db7",
            "8e8103027ee14cc88502da8949d0de35",
            "1e72308183574a4aa5863eb8a2642646",
            "80c54a4f43de4306a72373b01ac62e7a",
            "d81ea761b9774e9f9461388b5745dceb",
            "d4741b4e6f844c2b8352b1588cff9ade",
            "28c0a0914f87497ba31fe7c0fca13645",
            "c786727d4a0c4715ad624a23e010e9bd",
            "02ae847294ee4e4d9b1a56fdaf086527",
            "c10028e08e484191bb924194f9613a54",
            "4bb14f34b18741ba9a236e66df2ead9a",
            "8f8a4fcf52294378bca25b44832bd030",
            "c0776a8c66934888a1761f1f3939c3f6",
            "b8a52cf546ab45b6a4e1213493dd1c0a"
          ]
        },
        "id": "i0EXl3n-oTXc",
        "outputId": "8cc48927-fac8-421c-c719-4cd93dcf4442"
      },
      "execution_count": 42,
      "outputs": [
        {
          "output_type": "display_data",
          "data": {
            "text/plain": [
              "  0%|          | 0/318792 [00:00<?, ?it/s]"
            ],
            "application/vnd.jupyter.widget-view+json": {
              "version_major": 2,
              "version_minor": 0,
              "model_id": "71c3374d351f47dcb0f8cdfdc97433fd"
            }
          },
          "metadata": {}
        },
        {
          "output_type": "display_data",
          "data": {
            "text/plain": [
              "  0%|          | 0/35379 [00:00<?, ?it/s]"
            ],
            "application/vnd.jupyter.widget-view+json": {
              "version_major": 2,
              "version_minor": 0,
              "model_id": "b0e65bee0de8441186e7fc6088846339"
            }
          },
          "metadata": {}
        },
        {
          "output_type": "display_data",
          "data": {
            "text/plain": [
              "  0%|          | 0/39315 [00:00<?, ?it/s]"
            ],
            "application/vnd.jupyter.widget-view+json": {
              "version_major": 2,
              "version_minor": 0,
              "model_id": "80c54a4f43de4306a72373b01ac62e7a"
            }
          },
          "metadata": {}
        },
        {
          "output_type": "stream",
          "name": "stdout",
          "text": [
            "CPU times: user 4min 58s, sys: 20.4 s, total: 5min 19s\n",
            "Wall time: 5min 33s\n"
          ]
        }
      ]
    },
    {
      "cell_type": "code",
      "source": [
        "#  Dataset\n",
        "class AirQualityDataset(Dataset):\n",
        "\n",
        "    def __init__(self, sequences):\n",
        "\n",
        "        self.sequences = sequences\n",
        "\n",
        "    def __len__(self):\n",
        "        return len(self.sequences)\n",
        "\n",
        "    def __getitem__(self, idx):\n",
        "\n",
        "        sequence, target = self.sequences[idx]\n",
        "\n",
        "        return torch.tensor(sequence.to_numpy()).float(), torch.tensor(target).float()"
      ],
      "metadata": {
        "id": "ZsBzvGOko3AO"
      },
      "execution_count": 44,
      "outputs": []
    },
    {
      "cell_type": "code",
      "source": [
        "train_dataset = AirQualityDataset(train_sequence)\n",
        "sequence, label = train_dataset[0]\n",
        "print(f'sequence shape: {sequence.shape}')\n",
        "print(f'label shape: {label.shape}')"
      ],
      "metadata": {
        "colab": {
          "base_uri": "https://localhost:8080/"
        },
        "id": "Sl--Pr97o81u",
        "outputId": "b555e267-ed4e-497e-fea4-b559cb5d88e9"
      },
      "execution_count": 45,
      "outputs": [
        {
          "output_type": "stream",
          "name": "stdout",
          "text": [
            "sequence shape: torch.Size([48, 28])\n",
            "label shape: torch.Size([])\n"
          ]
        }
      ]
    },
    {
      "cell_type": "code",
      "source": [
        "if CFG.kaggle:\n",
        "\n",
        "    wandb_api = '53491ecfcad6c7cc4991c3af72f40f99294d70db'\n",
        "    wandb.login(key=wandb_api)\n",
        "\n",
        "else:\n",
        "\n",
        "    wandb.login()\n",
        "\n",
        "def class2dict(f):\n",
        "    return dict((name, getattr(f, name)) for name in dir(f) if not name.startswith('__'))\n",
        "\n",
        "run = wandb.init(project=\"AIRQualityPrediction\",\n",
        "                 name=CFG.model_name,\n",
        "                 config=class2dict(CFG),\n",
        "                 group=CFG.group,\n",
        "                 tags=[f'CFG.model_name_version{VERSION}'],\n",
        "                 job_type=\"train\")"
      ],
      "metadata": {
        "colab": {
          "base_uri": "https://localhost:8080/",
          "height": 243
        },
        "id": "fGi-L1IFo_jw",
        "outputId": "76233dea-a656-446c-cee5-4f3262198d51"
      },
      "execution_count": 48,
      "outputs": [
        {
          "output_type": "stream",
          "name": "stderr",
          "text": [
            "/usr/local/lib/python3.12/dist-packages/notebook/notebookapp.py:191: SyntaxWarning: invalid escape sequence '\\/'\n",
            "  | |_| | '_ \\/ _` / _` |  _/ -_)\n",
            "\u001b[34m\u001b[1mwandb\u001b[0m: \u001b[33mWARNING\u001b[0m If you're specifying your api key in code, ensure this code is not shared publicly.\n",
            "\u001b[34m\u001b[1mwandb\u001b[0m: \u001b[33mWARNING\u001b[0m Consider setting the WANDB_API_KEY environment variable, or running `wandb login` from the command line.\n",
            "\u001b[34m\u001b[1mwandb\u001b[0m: No netrc file found, creating one.\n",
            "\u001b[34m\u001b[1mwandb\u001b[0m: Appending key for api.wandb.ai to your netrc file: /root/.netrc\n",
            "\u001b[34m\u001b[1mwandb\u001b[0m: Currently logged in as: \u001b[33mkunaldp379\u001b[0m (\u001b[33mkunaldp379-vesit\u001b[0m) to \u001b[32mhttps://api.wandb.ai\u001b[0m. Use \u001b[1m`wandb login --relogin`\u001b[0m to force relogin\n"
          ]
        },
        {
          "output_type": "display_data",
          "data": {
            "text/plain": [
              "<IPython.core.display.HTML object>"
            ],
            "text/html": [
              "creating run (0.0s)"
            ]
          },
          "metadata": {}
        },
        {
          "output_type": "display_data",
          "data": {
            "text/plain": [
              "<IPython.core.display.HTML object>"
            ],
            "text/html": [
              "Tracking run with wandb version 0.21.3"
            ]
          },
          "metadata": {}
        },
        {
          "output_type": "display_data",
          "data": {
            "text/plain": [
              "<IPython.core.display.HTML object>"
            ],
            "text/html": [
              "Run data is saved locally in <code>/content/wandb/run-20250905_075053-urkeaba9</code>"
            ]
          },
          "metadata": {}
        },
        {
          "output_type": "display_data",
          "data": {
            "text/plain": [
              "<IPython.core.display.HTML object>"
            ],
            "text/html": [
              "Syncing run <strong><a href='https://wandb.ai/kunaldp379-vesit/Baijing%20airquality%20prediction/runs/urkeaba9' target=\"_blank\">lstm_network</a></strong> to <a href='https://wandb.ai/kunaldp379-vesit/Baijing%20airquality%20prediction' target=\"_blank\">Weights & Biases</a> (<a href='https://wandb.me/developer-guide' target=\"_blank\">docs</a>)<br>"
            ]
          },
          "metadata": {}
        },
        {
          "output_type": "display_data",
          "data": {
            "text/plain": [
              "<IPython.core.display.HTML object>"
            ],
            "text/html": [
              " View project at <a href='https://wandb.ai/kunaldp379-vesit/Baijing%20airquality%20prediction' target=\"_blank\">https://wandb.ai/kunaldp379-vesit/Baijing%20airquality%20prediction</a>"
            ]
          },
          "metadata": {}
        },
        {
          "output_type": "display_data",
          "data": {
            "text/plain": [
              "<IPython.core.display.HTML object>"
            ],
            "text/html": [
              " View run at <a href='https://wandb.ai/kunaldp379-vesit/Baijing%20airquality%20prediction/runs/urkeaba9' target=\"_blank\">https://wandb.ai/kunaldp379-vesit/Baijing%20airquality%20prediction/runs/urkeaba9</a>"
            ]
          },
          "metadata": {}
        }
      ]
    },
    {
      "cell_type": "code",
      "source": [
        "class LSTM(nn.Module):\n",
        "\n",
        "    def __init__(\n",
        "                 self,\n",
        "                 target_size=CFG.target_size,\n",
        "                 input_size=CFG.input_size,\n",
        "                 hidden_size=CFG.hidden_size,\n",
        "                 num_layers=CFG.num_layers\n",
        "                 ):\n",
        "\n",
        "        super(LSTM, self).__init__()\n",
        "\n",
        "        self.target_size = CFG.target_size\n",
        "        self.num_layers = CFG.num_layers\n",
        "        self.input_size = CFG.input_size\n",
        "        self.hidden_size = CFG.hidden_size\n",
        "        self.seq_length = CFG.seq_length\n",
        "\n",
        "        self.lstm = nn.LSTM(\n",
        "                            input_size=self.input_size, # Features of the sequence\n",
        "                            hidden_size=self.hidden_size, # Hidden units for the lstm\n",
        "                            num_layers=self.num_layers, # Number of layers\n",
        "                            batch_first=True, # (batch, seq, features)\n",
        "                            dropout=0.2,\n",
        "                            bidirectional=True\n",
        "                           )\n",
        "\n",
        "        self.fc = nn.Linear(self.hidden_size * 2, self.target_size) # Multiply hidden_size by 2 for bidirectional LSTM\n",
        "\n",
        "    def forward(self, x):\n",
        "\n",
        "        # Propagate input through LSTM\n",
        "        ula, (h_out, _) = self.lstm(x)\n",
        "\n",
        "        # Use the output from the last time step\n",
        "        out = self.fc(ula[:, -1, :])\n",
        "\n",
        "        return out"
      ],
      "metadata": {
        "id": "LBU1u5CKo_vd"
      },
      "execution_count": 77,
      "outputs": []
    },
    {
      "cell_type": "code",
      "source": [],
      "metadata": {
        "id": "3lqREtSzpDOu"
      },
      "execution_count": 77,
      "outputs": []
    },
    {
      "cell_type": "code",
      "source": [
        "class AverageMeter(object):\n",
        "    \"\"\"Computes and stores the average and current value\"\"\"\n",
        "    def __init__(self):\n",
        "        self.reset()\n",
        "\n",
        "    def reset(self):\n",
        "        self.val = 0\n",
        "        self.avg = 0\n",
        "        self.sum = 0\n",
        "        self.count = 0\n",
        "\n",
        "    def update(self, val, n=1):\n",
        "        self.val = val\n",
        "        self.sum += val * n\n",
        "        self.count += n\n",
        "        self.avg = self.sum / self.count\n",
        "\n",
        "\n",
        "def asMinutes(s):\n",
        "    m = math.floor(s / 60)\n",
        "    s -= m * 60\n",
        "    return '%dm %ds' % (m, s)"
      ],
      "metadata": {
        "id": "YDet9i9OpMbS"
      },
      "execution_count": 78,
      "outputs": []
    },
    {
      "cell_type": "code",
      "source": [
        "def timeSince(since, percent):\n",
        "    now = time.time()\n",
        "    s = now - since\n",
        "    es = s / (percent)\n",
        "    rs = es - s\n",
        "    return '%s (remain %s)' % (asMinutes(s), asMinutes(rs))"
      ],
      "metadata": {
        "id": "OgXnUKVepPax"
      },
      "execution_count": 79,
      "outputs": []
    },
    {
      "cell_type": "code",
      "source": [
        "def train_fn(fold, train_loader, model, criterion, optimizer, epoch, scheduler, device):\n",
        "    if CFG.apex:\n",
        "        scaler = GradScaler()\n",
        "    batch_time = AverageMeter()\n",
        "    data_time = AverageMeter()\n",
        "    losses = AverageMeter()\n",
        "    scores = AverageMeter()\n",
        "    # switch to train mode\n",
        "    model.train()\n",
        "    start = end = time.time()\n",
        "    global_step = 0\n",
        "    for step, (sequences, targets) in enumerate(train_loader):\n",
        "        # measure data loading time\n",
        "        data_time.update(time.time() - end)\n",
        "        #num = dct['num_data'].to(device)\n",
        "        #cat = dct['cat_data'].to(device)\n",
        "        sequences = sequences.to(device)\n",
        "        targets = targets.to(device)\n",
        "        batch_size = targets.size(0)\n",
        "        if CFG.apex:\n",
        "            with autocast():\n",
        "                y_preds = model(sequences)\n",
        "                loss = criterion(y_preds.squeeze(1), targets)\n",
        "        else:\n",
        "            y_preds = model(sequences)\n",
        "            loss = criterion(y_preds.squeeze(1), targets)\n",
        "        # record loss\n",
        "        losses.update(loss.item(), batch_size)\n",
        "        if CFG.gradient_accumulation_steps > 1:\n",
        "            loss = loss / CFG.gradient_accumulation_steps\n",
        "        if CFG.apex:\n",
        "            scaler.scale(loss).backward()\n",
        "        else:\n",
        "            loss.backward()\n",
        "        grad_norm = torch.nn.utils.clip_grad_norm_(model.parameters(), CFG.max_grad_norm)\n",
        "        if (step + 1) % CFG.gradient_accumulation_steps == 0:\n",
        "            if CFG.apex:\n",
        "                scaler.step(optimizer)\n",
        "                scaler.update()\n",
        "            else:\n",
        "                optimizer.step()\n",
        "            optimizer.zero_grad()\n",
        "            global_step += 1\n",
        "        # measure elapsed time\n",
        "        batch_time.update(time.time() - end)\n",
        "        end = time.time()\n",
        "        if step % CFG.print_freq == 0 or step == (len(train_loader)-1):\n",
        "            print('Epoch: [{0}][{1}/{2}] '\n",
        "                  'Elapsed {remain:s} '\n",
        "                  'Loss: {loss.val:.4f}({loss.avg:.4f}) '\n",
        "                  'Grad: {grad_norm:.4f} '\n",
        "                  'LR: {lr:.6f}  '\n",
        "                  .format(epoch+1, step, len(train_loader),\n",
        "                          remain=timeSince(start, float(step+1)/len(train_loader)),\n",
        "                          loss=losses,\n",
        "                          grad_norm=grad_norm,\n",
        "                          lr=scheduler.get_last_lr()[0]))\n",
        "        if fold:\n",
        "\n",
        "            wandb.log({f\"[fold{fold}] loss\": losses.val,\n",
        "                       f\"[fold{fold}] lr\": scheduler.get_last_lr()[0]})\n",
        "        else:\n",
        "\n",
        "            wandb.log({\"loss\": losses.val,\n",
        "                       \"lr\": scheduler.get_last_lr()[0]})\n",
        "\n",
        "    return losses.avg\n"
      ],
      "metadata": {
        "id": "P1oDEx77pR6j"
      },
      "execution_count": 80,
      "outputs": []
    },
    {
      "cell_type": "code",
      "source": [
        "def valid_fn(valid_loader, model, criterion, device):\n",
        "    batch_time = AverageMeter()\n",
        "    data_time = AverageMeter()\n",
        "    losses = AverageMeter()\n",
        "    scores = AverageMeter()\n",
        "    # switch to evaluation mode\n",
        "    model.eval()\n",
        "    preds = []\n",
        "    targets_list = []\n",
        "    start = end = time.time()\n",
        "    for step, (sequences, targets) in enumerate(valid_loader):\n",
        "        # measure data loading time\n",
        "        data_time.update(time.time() - end)\n",
        "        #num = dct['num_data'].to(device)\n",
        "        #cat = dct['cat_data'].to(device)\n",
        "        sequences = sequences.to(device)\n",
        "        targets = targets.to(device)\n",
        "        batch_size = targets.size(0)\n",
        "        # compute loss\n",
        "        with torch.no_grad():\n",
        "            y_preds = model(sequences)\n",
        "        preds.append(y_preds.detach().to('cpu').numpy())\n",
        "        targets_list.append(targets.detach().to('cpu').numpy())\n",
        "        loss = criterion(y_preds.squeeze(1), targets)\n",
        "        losses.update(loss.item(), batch_size)\n",
        "        if CFG.gradient_accumulation_steps > 1:\n",
        "            loss = loss / CFG.gradient_accumulation_steps\n",
        "        # measure elapsed time\n",
        "        batch_time.update(time.time() - end)\n",
        "        end = time.time()\n",
        "        if step % CFG.print_freq == 0 or step == (len(valid_loader)-1):\n",
        "            print('EVAL: [{0}/{1}] '\n",
        "                  'Elapsed {remain:s} '\n",
        "                  'Loss: {loss.val:.4f}({loss.avg:.4f}) '\n",
        "                  .format(step, len(valid_loader),\n",
        "                          loss=losses,\n",
        "                          remain=timeSince(start, float(step+1)/len(valid_loader))))\n",
        "    predictions = np.concatenate(preds)\n",
        "    targets = np.concatenate(targets_list)\n",
        "    return losses.avg, predictions, targets"
      ],
      "metadata": {
        "id": "7PeesczGpcU7"
      },
      "execution_count": 81,
      "outputs": []
    },
    {
      "cell_type": "code",
      "source": [
        "def inference(model, states, test_loader, device):\n",
        "    model.to(device)\n",
        "    tk0 = tqdm(test_loader, total=len(test_loader))\n",
        "    forcasts = []\n",
        "    targets_list = []\n",
        "    for i, (sequences, targets) in enumerate(tk0):\n",
        "        sequences = sequences.to(device).float()\n",
        "        targets = targets.to(device).float()\n",
        "        avg_forcasts = []\n",
        "        for state in states:\n",
        "            model.load_state_dict(state['model'])\n",
        "            model.eval()\n",
        "            with torch.no_grad():\n",
        "                y_preds = model(sequences)\n",
        "            avg_forcasts.append(y_preds.detach().to(\"cpu\").numpy())\n",
        "        avg_forcasts = np.mean(avg_forcasts, axis=0)\n",
        "        forcasts.append(avg_forcasts)\n",
        "        targets_list.append(targets.detach().to(\"cpu\").numpy())\n",
        "    forcasts = np.concatenate(forcasts)\n",
        "    targets = np.concatenate(targets_list)\n",
        "    return forcasts, targets"
      ],
      "metadata": {
        "id": "hbPuLpD4pqLi"
      },
      "execution_count": 82,
      "outputs": []
    },
    {
      "cell_type": "code",
      "source": [
        "seed_torch(seed=45)\n",
        "train_dataset = AirQualityDataset(train_sequence)\n",
        "\n",
        "train_loader = DataLoader(train_dataset,\n",
        "                          batch_size=CFG.batch_size,\n",
        "                          shuffle=False, # Time series data\n",
        "                          num_workers=CFG.num_workers, pin_memory=True, drop_last=True)\n",
        "\n",
        "\n",
        "valid_dataset = AirQualityDataset(valid_sequence)\n",
        "\n",
        "valid_loader = DataLoader(valid_dataset,\n",
        "                          batch_size=CFG.batch_size,\n",
        "                          shuffle=False,\n",
        "                          num_workers=CFG.num_workers, pin_memory=True, drop_last=False)\n",
        "\n",
        "\n",
        "test_dataset = AirQualityDataset(test_sequence)\n",
        "\n",
        "test_loader = DataLoader(test_dataset,\n",
        "                         batch_size=CFG.batch_size,\n",
        "                         shuffle=False,\n",
        "                         num_workers=CFG.num_workers, pin_memory=True, drop_last=False)"
      ],
      "metadata": {
        "id": "RdpfT9tQpq4P"
      },
      "execution_count": 83,
      "outputs": []
    },
    {
      "cell_type": "code",
      "source": [
        "def get_scheduler(optimizer):\n",
        "    if CFG.scheduler=='ReduceLROnPlateau':\n",
        "        scheduler = ReduceLROnPlateau(optimizer, **CFG.reduce_params)\n",
        "    elif CFG.scheduler=='CosineAnnealingLR':\n",
        "        scheduler = CosineAnnealingLR(optimizer, **CFG.cosanneal_params)\n",
        "    elif CFG.scheduler=='CosineAnnealingWarmRestarts':\n",
        "        scheduler = CosineAnnealingWarmRestarts(optimizer, **CFG.cosanneal_res_params)\n",
        "    elif CFG.scheduler=='OneCycleLR':\n",
        "        scheduler = OneCycleLR(optimizer, **CFG.onecycle_params)\n",
        "    return scheduler"
      ],
      "metadata": {
        "id": "Mp7MVvP1puwq"
      },
      "execution_count": 84,
      "outputs": []
    },
    {
      "cell_type": "code",
      "source": [
        "model = LSTM()\n",
        "model.to(device)\n",
        "optimizer = AdamW(model.parameters(), lr=CFG.lr, weight_decay=CFG.weight_decay)\n",
        "scheduler = get_scheduler(optimizer)"
      ],
      "metadata": {
        "id": "wgD4V6nipxU_"
      },
      "execution_count": 85,
      "outputs": []
    },
    {
      "cell_type": "code",
      "source": [
        "criterion = nn.MSELoss()\n",
        "best_loss = np.inf"
      ],
      "metadata": {
        "id": "TQPS9uZEpzHD"
      },
      "execution_count": 86,
      "outputs": []
    },
    {
      "cell_type": "code",
      "source": [
        "for epoch in range(CFG.epochs):\n",
        "\n",
        "    start_time = time.time()\n",
        "\n",
        "\n",
        "    # train\n",
        "    avg_loss = train_fn(None, train_loader, model, criterion, optimizer, epoch, scheduler, device)\n",
        "\n",
        "    # eval\n",
        "    avg_val_loss, valid_preds, valid_targets = valid_fn(valid_loader, model, criterion, device)\n",
        "\n",
        "    if isinstance(scheduler, ReduceLROnPlateau):\n",
        "        scheduler.step(avg_val_loss)\n",
        "    elif isinstance(scheduler, CosineAnnealingLR):\n",
        "        scheduler.step()\n",
        "    elif isinstance(scheduler, CosineAnnealingWarmRestarts):\n",
        "        scheduler.step()\n",
        "    # scoring\n",
        "    score = get_score(valid_targets, valid_preds)\n",
        "    elapsed = time.time() - start_time\n",
        "    LOGGER.info(f'Epoch {epoch+1} - avg_train_loss: {avg_loss:.4f}  avg_val_loss: {avg_val_loss:.4f}  time: {elapsed:.0f}s')\n",
        "    LOGGER.info(f'Epoch {epoch+1} - Score: {score:.4f}')\n",
        "    wandb.log({f\" epoch\": epoch+1,\n",
        "               f\" avg_train_loss\": avg_loss,\n",
        "               f\" avg_val_loss\": avg_val_loss,\n",
        "               f\" score\": score\n",
        "              })\n",
        "    # Save best weights\n",
        "    if avg_val_loss < best_loss:\n",
        "        LOGGER.info(f\"Validation loss Improved ({best_loss} ---> {avg_val_loss})\")\n",
        "        best_loss = avg_val_loss\n",
        "        LOGGER.info(f'Epoch {epoch+1} - Save Best Loss: {best_loss:.4f} Model')\n",
        "        torch.save({'model': model.state_dict(),\n",
        "                    'preds_loss': valid_preds,\n",
        "                    'targets': valid_targets},\n",
        "                    DIR+f'{CFG.model_name}_best_loss_version{VERSION}.pth')"
      ],
      "metadata": {
        "colab": {
          "base_uri": "https://localhost:8080/"
        },
        "id": "_MbHpnAop0yV",
        "outputId": "88881005-cb23-42fc-b20b-0eb94906e5fb"
      },
      "execution_count": 87,
      "outputs": [
        {
          "output_type": "stream",
          "name": "stdout",
          "text": [
            "Epoch: [1][0/9962] Elapsed 0m 1s (remain 213m 25s) Loss: 5656.9854(5656.9854) Grad: 210.2925 LR: 0.000100  \n",
            "Epoch: [1][2000/9962] Elapsed 0m 25s (remain 1m 41s) Loss: 6175.1895(4915.2805) Grad: 1823.9846 LR: 0.000100  \n",
            "Epoch: [1][4000/9962] Elapsed 0m 47s (remain 1m 11s) Loss: 148.4361(3934.7915) Grad: 5528.0356 LR: 0.000100  \n",
            "Epoch: [1][6000/9962] Elapsed 1m 9s (remain 0m 45s) Loss: 1128.6165(3418.1033) Grad: 7003.2710 LR: 0.000100  \n",
            "Epoch: [1][8000/9962] Elapsed 1m 31s (remain 0m 22s) Loss: 186.8292(2975.9883) Grad: 14137.1943 LR: 0.000100  \n",
            "Epoch: [1][9961/9962] Elapsed 1m 53s (remain 0m 0s) Loss: 7354.4946(2629.8255) Grad: 16172.0010 LR: 0.000100  \n",
            "EVAL: [0/1106] Elapsed 0m 0s (remain 1m 59s) Loss: 153.4648(153.4648) \n",
            "EVAL: [1105/1106] Elapsed 0m 8s (remain 0m 0s) Loss: 48.6832(1219.2465) \n"
          ]
        },
        {
          "output_type": "stream",
          "name": "stderr",
          "text": [
            "Epoch 1 - avg_train_loss: 2629.8255  avg_val_loss: 1219.2465  time: 123s\n",
            "INFO:__main__:Epoch 1 - avg_train_loss: 2629.8255  avg_val_loss: 1219.2465  time: 123s\n",
            "Epoch 1 - Score: 34.9177\n",
            "INFO:__main__:Epoch 1 - Score: 34.9177\n",
            "Validation loss Improved (inf ---> 1219.2464765407835)\n",
            "INFO:__main__:Validation loss Improved (inf ---> 1219.2464765407835)\n",
            "Epoch 1 - Save Best Loss: 1219.2465 Model\n",
            "INFO:__main__:Epoch 1 - Save Best Loss: 1219.2465 Model\n"
          ]
        },
        {
          "output_type": "stream",
          "name": "stdout",
          "text": [
            "Epoch: [2][0/9962] Elapsed 0m 0s (remain 27m 52s) Loss: 511.7159(511.7159) Grad: 20846.5371 LR: 0.000094  \n",
            "Epoch: [2][2000/9962] Elapsed 0m 22s (remain 1m 27s) Loss: 946.5656(1125.1508) Grad: 36624.3828 LR: 0.000094  \n",
            "Epoch: [2][4000/9962] Elapsed 0m 47s (remain 1m 10s) Loss: 101.5969(1006.1750) Grad: 13439.9971 LR: 0.000094  \n",
            "Epoch: [2][6000/9962] Elapsed 1m 9s (remain 0m 46s) Loss: 298.9599(955.6745) Grad: 37044.4883 LR: 0.000094  \n",
            "Epoch: [2][8000/9962] Elapsed 1m 30s (remain 0m 22s) Loss: 154.3270(889.6027) Grad: 19787.5332 LR: 0.000094  \n",
            "Epoch: [2][9961/9962] Elapsed 1m 52s (remain 0m 0s) Loss: 3628.7317(825.4122) Grad: 12875.2520 LR: 0.000094  \n",
            "EVAL: [0/1106] Elapsed 0m 0s (remain 1m 57s) Loss: 36.9315(36.9315) \n"
          ]
        },
        {
          "output_type": "stream",
          "name": "stderr",
          "text": [
            "Epoch 2 - avg_train_loss: 825.4122  avg_val_loss: 606.8996  time: 122s\n"
          ]
        },
        {
          "output_type": "stream",
          "name": "stdout",
          "text": [
            "EVAL: [1105/1106] Elapsed 0m 9s (remain 0m 0s) Loss: 45.2196(606.8996) \n"
          ]
        },
        {
          "output_type": "stream",
          "name": "stderr",
          "text": [
            "INFO:__main__:Epoch 2 - avg_train_loss: 825.4122  avg_val_loss: 606.8996  time: 122s\n",
            "Epoch 2 - Score: 24.6353\n",
            "INFO:__main__:Epoch 2 - Score: 24.6353\n",
            "Validation loss Improved (1219.2464765407835 ---> 606.899615246673)\n",
            "INFO:__main__:Validation loss Improved (1219.2464765407835 ---> 606.899615246673)\n",
            "Epoch 2 - Save Best Loss: 606.8996 Model\n",
            "INFO:__main__:Epoch 2 - Save Best Loss: 606.8996 Model\n"
          ]
        },
        {
          "output_type": "stream",
          "name": "stdout",
          "text": [
            "Epoch: [3][0/9962] Elapsed 0m 0s (remain 27m 15s) Loss: 424.7667(424.7667) Grad: 85591.8281 LR: 0.000078  \n",
            "Epoch: [3][2000/9962] Elapsed 0m 21s (remain 1m 27s) Loss: 464.8719(573.2482) Grad: 56649.3750 LR: 0.000078  \n",
            "Epoch: [3][4000/9962] Elapsed 0m 44s (remain 1m 5s) Loss: 75.2543(532.5686) Grad: 34296.4727 LR: 0.000078  \n",
            "Epoch: [3][6000/9962] Elapsed 1m 5s (remain 0m 43s) Loss: 284.8715(523.6137) Grad: 47023.8984 LR: 0.000078  \n",
            "Epoch: [3][8000/9962] Elapsed 1m 27s (remain 0m 21s) Loss: 101.9580(503.8511) Grad: 11173.4785 LR: 0.000078  \n",
            "Epoch: [3][9961/9962] Elapsed 1m 49s (remain 0m 0s) Loss: 2159.3735(481.8059) Grad: 12005.3252 LR: 0.000078  \n",
            "EVAL: [0/1106] Elapsed 0m 0s (remain 1m 55s) Loss: 70.3296(70.3296) \n",
            "EVAL: [1105/1106] Elapsed 0m 8s (remain 0m 0s) Loss: 60.8114(440.0348) \n"
          ]
        },
        {
          "output_type": "stream",
          "name": "stderr",
          "text": [
            "Epoch 3 - avg_train_loss: 481.8059  avg_val_loss: 440.0348  time: 119s\n",
            "INFO:__main__:Epoch 3 - avg_train_loss: 481.8059  avg_val_loss: 440.0348  time: 119s\n",
            "Epoch 3 - Score: 20.9770\n",
            "INFO:__main__:Epoch 3 - Score: 20.9770\n",
            "Validation loss Improved (606.899615246673 ---> 440.0347788273309)\n",
            "INFO:__main__:Validation loss Improved (606.899615246673 ---> 440.0347788273309)\n",
            "Epoch 3 - Save Best Loss: 440.0348 Model\n",
            "INFO:__main__:Epoch 3 - Save Best Loss: 440.0348 Model\n"
          ]
        },
        {
          "output_type": "stream",
          "name": "stdout",
          "text": [
            "Epoch: [4][0/9962] Elapsed 0m 0s (remain 47m 14s) Loss: 421.1480(421.1480) Grad: 34357.8359 LR: 0.000055  \n",
            "Epoch: [4][2000/9962] Elapsed 0m 21s (remain 1m 26s) Loss: 244.9128(419.6338) Grad: 47044.1133 LR: 0.000055  \n",
            "Epoch: [4][4000/9962] Elapsed 0m 44s (remain 1m 5s) Loss: 44.9790(395.4254) Grad: 11973.9727 LR: 0.000055  \n",
            "Epoch: [4][6000/9962] Elapsed 1m 4s (remain 0m 42s) Loss: 215.5237(393.8787) Grad: 35597.7070 LR: 0.000055  \n",
            "Epoch: [4][8000/9962] Elapsed 1m 27s (remain 0m 21s) Loss: 105.6019(383.9347) Grad: 13484.5156 LR: 0.000055  \n",
            "Epoch: [4][9961/9962] Elapsed 1m 49s (remain 0m 0s) Loss: 1484.2308(373.0904) Grad: 12123.3359 LR: 0.000055  \n",
            "EVAL: [0/1106] Elapsed 0m 0s (remain 1m 54s) Loss: 67.5464(67.5464) \n"
          ]
        },
        {
          "output_type": "stream",
          "name": "stderr",
          "text": [
            "Epoch 4 - avg_train_loss: 373.0904  avg_val_loss: 379.9471  time: 118s\n",
            "INFO:__main__:Epoch 4 - avg_train_loss: 373.0904  avg_val_loss: 379.9471  time: 118s\n",
            "Epoch 4 - Score: 19.4922\n",
            "INFO:__main__:Epoch 4 - Score: 19.4922\n",
            "Validation loss Improved (440.0347788273309 ---> 379.94710067274167)\n",
            "INFO:__main__:Validation loss Improved (440.0347788273309 ---> 379.94710067274167)\n",
            "Epoch 4 - Save Best Loss: 379.9471 Model\n",
            "INFO:__main__:Epoch 4 - Save Best Loss: 379.9471 Model\n"
          ]
        },
        {
          "output_type": "stream",
          "name": "stdout",
          "text": [
            "EVAL: [1105/1106] Elapsed 0m 8s (remain 0m 0s) Loss: 37.4910(379.9471) \n",
            "Epoch: [5][0/9962] Elapsed 0m 0s (remain 20m 0s) Loss: 449.8480(449.8480) Grad: 75497.9688 LR: 0.000033  \n",
            "Epoch: [5][2000/9962] Elapsed 0m 22s (remain 1m 29s) Loss: 258.3904(359.8701) Grad: 38766.1758 LR: 0.000033  \n",
            "Epoch: [5][4000/9962] Elapsed 0m 44s (remain 1m 6s) Loss: 59.9043(342.3772) Grad: 6526.3247 LR: 0.000033  \n",
            "Epoch: [5][6000/9962] Elapsed 1m 5s (remain 0m 43s) Loss: 274.7035(342.1500) Grad: 62951.6758 LR: 0.000033  \n",
            "Epoch: [5][8000/9962] Elapsed 1m 27s (remain 0m 21s) Loss: 60.1650(336.2523) Grad: 21696.7285 LR: 0.000033  \n",
            "Epoch: [5][9961/9962] Elapsed 1m 49s (remain 0m 0s) Loss: 1186.4098(329.5024) Grad: 26646.2715 LR: 0.000033  \n",
            "EVAL: [0/1106] Elapsed 0m 0s (remain 2m 57s) Loss: 61.2138(61.2138) \n"
          ]
        },
        {
          "output_type": "stream",
          "name": "stderr",
          "text": [
            "Epoch 5 - avg_train_loss: 329.5024  avg_val_loss: 321.9769  time: 118s\n",
            "INFO:__main__:Epoch 5 - avg_train_loss: 329.5024  avg_val_loss: 321.9769  time: 118s\n",
            "Epoch 5 - Score: 17.9437\n",
            "INFO:__main__:Epoch 5 - Score: 17.9437\n",
            "Validation loss Improved (379.94710067274167 ---> 321.9768981392318)\n",
            "INFO:__main__:Validation loss Improved (379.94710067274167 ---> 321.9768981392318)\n",
            "Epoch 5 - Save Best Loss: 321.9769 Model\n",
            "INFO:__main__:Epoch 5 - Save Best Loss: 321.9769 Model\n"
          ]
        },
        {
          "output_type": "stream",
          "name": "stdout",
          "text": [
            "EVAL: [1105/1106] Elapsed 0m 8s (remain 0m 0s) Loss: 38.2524(321.9769) \n",
            "Epoch: [6][0/9962] Elapsed 0m 0s (remain 19m 35s) Loss: 399.5161(399.5161) Grad: 36280.3711 LR: 0.000016  \n",
            "Epoch: [6][2000/9962] Elapsed 0m 22s (remain 1m 29s) Loss: 208.9684(335.5108) Grad: 36253.8711 LR: 0.000016  \n",
            "Epoch: [6][4000/9962] Elapsed 0m 43s (remain 1m 5s) Loss: 48.9263(319.0295) Grad: 10772.6299 LR: 0.000016  \n",
            "Epoch: [6][6000/9962] Elapsed 1m 5s (remain 0m 43s) Loss: 207.7551(319.0454) Grad: 71791.1172 LR: 0.000016  \n",
            "Epoch: [6][8000/9962] Elapsed 1m 27s (remain 0m 21s) Loss: 106.2784(314.2342) Grad: 15948.1797 LR: 0.000016  \n",
            "Epoch: [6][9961/9962] Elapsed 1m 47s (remain 0m 0s) Loss: 985.6579(309.3110) Grad: 14910.9795 LR: 0.000016  \n",
            "EVAL: [0/1106] Elapsed 0m 0s (remain 1m 56s) Loss: 57.3465(57.3465) \n"
          ]
        },
        {
          "output_type": "stream",
          "name": "stderr",
          "text": [
            "Epoch 6 - avg_train_loss: 309.3110  avg_val_loss: 294.9826  time: 117s\n",
            "INFO:__main__:Epoch 6 - avg_train_loss: 309.3110  avg_val_loss: 294.9826  time: 117s\n",
            "Epoch 6 - Score: 17.1751\n",
            "INFO:__main__:Epoch 6 - Score: 17.1751\n",
            "Validation loss Improved (321.9768981392318 ---> 294.98257762428364)\n",
            "INFO:__main__:Validation loss Improved (321.9768981392318 ---> 294.98257762428364)\n",
            "Epoch 6 - Save Best Loss: 294.9826 Model\n",
            "INFO:__main__:Epoch 6 - Save Best Loss: 294.9826 Model\n"
          ]
        },
        {
          "output_type": "stream",
          "name": "stdout",
          "text": [
            "EVAL: [1105/1106] Elapsed 0m 9s (remain 0m 0s) Loss: 54.7352(294.9826) \n",
            "Epoch: [7][0/9962] Elapsed 0m 0s (remain 20m 3s) Loss: 378.1016(378.1016) Grad: 36236.1016 LR: 0.000010  \n",
            "Epoch: [7][2000/9962] Elapsed 0m 22s (remain 1m 28s) Loss: 247.0904(322.8865) Grad: 25329.5039 LR: 0.000010  \n",
            "Epoch: [7][4000/9962] Elapsed 0m 43s (remain 1m 4s) Loss: 46.4329(307.8991) Grad: 18031.7246 LR: 0.000010  \n",
            "Epoch: [7][6000/9962] Elapsed 1m 5s (remain 0m 42s) Loss: 240.2993(307.8099) Grad: 63950.0195 LR: 0.000010  \n",
            "Epoch: [7][8000/9962] Elapsed 1m 26s (remain 0m 21s) Loss: 75.4484(303.6785) Grad: 7492.4004 LR: 0.000010  \n",
            "Epoch: [7][9961/9962] Elapsed 1m 47s (remain 0m 0s) Loss: 904.0719(299.6950) Grad: 10106.7871 LR: 0.000010  \n",
            "EVAL: [0/1106] Elapsed 0m 0s (remain 1m 58s) Loss: 52.2114(52.2114) \n"
          ]
        },
        {
          "output_type": "stream",
          "name": "stderr",
          "text": [
            "Epoch 7 - avg_train_loss: 299.6950  avg_val_loss: 286.4679  time: 117s\n",
            "INFO:__main__:Epoch 7 - avg_train_loss: 299.6950  avg_val_loss: 286.4679  time: 117s\n",
            "Epoch 7 - Score: 16.9254\n",
            "INFO:__main__:Epoch 7 - Score: 16.9254\n",
            "Validation loss Improved (294.98257762428364 ---> 286.4679043993921)\n",
            "INFO:__main__:Validation loss Improved (294.98257762428364 ---> 286.4679043993921)\n",
            "Epoch 7 - Save Best Loss: 286.4679 Model\n",
            "INFO:__main__:Epoch 7 - Save Best Loss: 286.4679 Model\n"
          ]
        },
        {
          "output_type": "stream",
          "name": "stdout",
          "text": [
            "EVAL: [1105/1106] Elapsed 0m 9s (remain 0m 0s) Loss: 57.0226(286.4679) \n",
            "Epoch: [8][0/9962] Elapsed 0m 0s (remain 20m 8s) Loss: 404.5624(404.5624) Grad: 29752.8984 LR: 0.000016  \n",
            "Epoch: [8][2000/9962] Elapsed 0m 21s (remain 1m 24s) Loss: 163.6981(315.4834) Grad: 36679.0508 LR: 0.000016  \n",
            "Epoch: [8][4000/9962] Elapsed 0m 43s (remain 1m 4s) Loss: 68.7076(301.3204) Grad: 19279.7070 LR: 0.000016  \n",
            "Epoch: [8][6000/9962] Elapsed 1m 5s (remain 0m 43s) Loss: 234.2286(301.0180) Grad: 53792.7578 LR: 0.000016  \n",
            "Epoch: [8][8000/9962] Elapsed 1m 25s (remain 0m 21s) Loss: 108.6836(296.9458) Grad: 9971.4785 LR: 0.000016  \n",
            "Epoch: [8][9961/9962] Elapsed 1m 47s (remain 0m 0s) Loss: 788.6147(293.3844) Grad: 7108.8999 LR: 0.000016  \n",
            "EVAL: [0/1106] Elapsed 0m 0s (remain 1m 55s) Loss: 85.8878(85.8878) \n"
          ]
        },
        {
          "output_type": "stream",
          "name": "stderr",
          "text": [
            "Epoch 8 - avg_train_loss: 293.3844  avg_val_loss: 278.4240  time: 117s\n",
            "INFO:__main__:Epoch 8 - avg_train_loss: 293.3844  avg_val_loss: 278.4240  time: 117s\n",
            "Epoch 8 - Score: 16.6860\n",
            "INFO:__main__:Epoch 8 - Score: 16.6860\n",
            "Validation loss Improved (286.4679043993921 ---> 278.4240221006146)\n",
            "INFO:__main__:Validation loss Improved (286.4679043993921 ---> 278.4240221006146)\n",
            "Epoch 8 - Save Best Loss: 278.4240 Model\n",
            "INFO:__main__:Epoch 8 - Save Best Loss: 278.4240 Model\n"
          ]
        },
        {
          "output_type": "stream",
          "name": "stdout",
          "text": [
            "EVAL: [1105/1106] Elapsed 0m 8s (remain 0m 0s) Loss: 49.2728(278.4240) \n",
            "Epoch: [9][0/9962] Elapsed 0m 0s (remain 19m 55s) Loss: 377.3169(377.3169) Grad: 31865.6738 LR: 0.000033  \n",
            "Epoch: [9][2000/9962] Elapsed 0m 21s (remain 1m 23s) Loss: 201.2166(310.8420) Grad: 24349.9941 LR: 0.000033  \n",
            "Epoch: [9][4000/9962] Elapsed 0m 43s (remain 1m 4s) Loss: 55.5290(296.8723) Grad: 6177.5332 LR: 0.000033  \n",
            "Epoch: [9][6000/9962] Elapsed 1m 4s (remain 0m 42s) Loss: 229.3291(294.7649) Grad: 28870.0879 LR: 0.000033  \n",
            "Epoch: [9][8000/9962] Elapsed 1m 25s (remain 0m 21s) Loss: 107.6108(289.4940) Grad: 11592.7324 LR: 0.000033  \n",
            "Epoch: [9][9961/9962] Elapsed 1m 47s (remain 0m 0s) Loss: 610.7645(285.6060) Grad: 37170.4062 LR: 0.000033  \n",
            "EVAL: [0/1106] Elapsed 0m 0s (remain 1m 57s) Loss: 86.7199(86.7199) \n"
          ]
        },
        {
          "output_type": "stream",
          "name": "stderr",
          "text": [
            "Epoch 9 - avg_train_loss: 285.6060  avg_val_loss: 269.4160  time: 116s\n"
          ]
        },
        {
          "output_type": "stream",
          "name": "stdout",
          "text": [
            "EVAL: [1105/1106] Elapsed 0m 8s (remain 0m 0s) Loss: 43.6785(269.4160) \n"
          ]
        },
        {
          "output_type": "stream",
          "name": "stderr",
          "text": [
            "INFO:__main__:Epoch 9 - avg_train_loss: 285.6060  avg_val_loss: 269.4160  time: 116s\n",
            "Epoch 9 - Score: 16.4139\n",
            "INFO:__main__:Epoch 9 - Score: 16.4139\n",
            "Validation loss Improved (278.4240221006146 ---> 269.4159873949032)\n",
            "INFO:__main__:Validation loss Improved (278.4240221006146 ---> 269.4159873949032)\n",
            "Epoch 9 - Save Best Loss: 269.4160 Model\n",
            "INFO:__main__:Epoch 9 - Save Best Loss: 269.4160 Model\n"
          ]
        },
        {
          "output_type": "stream",
          "name": "stdout",
          "text": [
            "Epoch: [10][0/9962] Elapsed 0m 0s (remain 28m 18s) Loss: 322.2344(322.2344) Grad: 21019.9707 LR: 0.000055  \n",
            "Epoch: [10][2000/9962] Elapsed 0m 22s (remain 1m 27s) Loss: 251.5100(303.2447) Grad: 63701.4961 LR: 0.000055  \n",
            "Epoch: [10][4000/9962] Elapsed 0m 44s (remain 1m 5s) Loss: 66.6319(289.6571) Grad: 19535.1914 LR: 0.000055  \n",
            "Epoch: [10][6000/9962] Elapsed 1m 4s (remain 0m 42s) Loss: 215.8170(287.4294) Grad: 21276.4746 LR: 0.000055  \n",
            "Epoch: [10][8000/9962] Elapsed 1m 26s (remain 0m 21s) Loss: 105.4040(282.0599) Grad: 8604.4180 LR: 0.000055  \n",
            "Epoch: [10][9961/9962] Elapsed 1m 48s (remain 0m 0s) Loss: 405.1321(278.1403) Grad: 37129.8359 LR: 0.000055  \n",
            "EVAL: [0/1106] Elapsed 0m 0s (remain 1m 57s) Loss: 107.8675(107.8675) \n"
          ]
        },
        {
          "output_type": "stream",
          "name": "stderr",
          "text": [
            "Epoch 10 - avg_train_loss: 278.1403  avg_val_loss: 268.7436  time: 117s\n",
            "INFO:__main__:Epoch 10 - avg_train_loss: 278.1403  avg_val_loss: 268.7436  time: 117s\n",
            "Epoch 10 - Score: 16.3934\n",
            "INFO:__main__:Epoch 10 - Score: 16.3934\n",
            "Validation loss Improved (269.4159873949032 ---> 268.74358657804135)\n",
            "INFO:__main__:Validation loss Improved (269.4159873949032 ---> 268.74358657804135)\n",
            "Epoch 10 - Save Best Loss: 268.7436 Model\n",
            "INFO:__main__:Epoch 10 - Save Best Loss: 268.7436 Model\n"
          ]
        },
        {
          "output_type": "stream",
          "name": "stdout",
          "text": [
            "EVAL: [1105/1106] Elapsed 0m 8s (remain 0m 0s) Loss: 45.2987(268.7436) \n",
            "Epoch: [11][0/9962] Elapsed 0m 0s (remain 19m 39s) Loss: 368.8570(368.8570) Grad: 60625.7500 LR: 0.000078  \n",
            "Epoch: [11][2000/9962] Elapsed 0m 22s (remain 1m 28s) Loss: 227.5713(294.8991) Grad: 52678.1406 LR: 0.000078  \n",
            "Epoch: [11][4000/9962] Elapsed 0m 44s (remain 1m 6s) Loss: 74.1503(283.5179) Grad: 48240.0781 LR: 0.000078  \n",
            "Epoch: [11][6000/9962] Elapsed 1m 5s (remain 0m 43s) Loss: 214.3028(282.2789) Grad: 31938.5234 LR: 0.000078  \n",
            "Epoch: [11][8000/9962] Elapsed 1m 27s (remain 0m 21s) Loss: 84.4178(277.5592) Grad: 16419.9902 LR: 0.000078  \n",
            "Epoch: [11][9961/9962] Elapsed 1m 47s (remain 0m 0s) Loss: 291.6483(274.7644) Grad: 29370.1875 LR: 0.000078  \n",
            "EVAL: [0/1106] Elapsed 0m 0s (remain 2m 49s) Loss: 67.6181(67.6181) \n"
          ]
        },
        {
          "output_type": "stream",
          "name": "stderr",
          "text": [
            "Epoch 11 - avg_train_loss: 274.7644  avg_val_loss: 293.2129  time: 117s\n",
            "INFO:__main__:Epoch 11 - avg_train_loss: 274.7644  avg_val_loss: 293.2129  time: 117s\n",
            "Epoch 11 - Score: 17.1235\n",
            "INFO:__main__:Epoch 11 - Score: 17.1235\n"
          ]
        },
        {
          "output_type": "stream",
          "name": "stdout",
          "text": [
            "EVAL: [1105/1106] Elapsed 0m 8s (remain 0m 0s) Loss: 46.9121(293.2129) \n",
            "Epoch: [12][0/9962] Elapsed 0m 0s (remain 19m 57s) Loss: 384.2145(384.2145) Grad: 28482.0938 LR: 0.000094  \n",
            "Epoch: [12][2000/9962] Elapsed 0m 22s (remain 1m 28s) Loss: 181.1992(297.2145) Grad: 38346.6758 LR: 0.000094  \n",
            "Epoch: [12][4000/9962] Elapsed 0m 43s (remain 1m 4s) Loss: 62.9671(283.3398) Grad: 41840.0625 LR: 0.000094  \n",
            "Epoch: [12][6000/9962] Elapsed 1m 5s (remain 0m 43s) Loss: 178.7084(281.5097) Grad: 26744.6270 LR: 0.000094  \n",
            "Epoch: [12][8000/9962] Elapsed 1m 27s (remain 0m 21s) Loss: 107.6851(277.1274) Grad: 23448.1367 LR: 0.000094  \n",
            "Epoch: [12][9961/9962] Elapsed 1m 48s (remain 0m 0s) Loss: 296.5312(274.4387) Grad: 41468.4141 LR: 0.000094  \n",
            "EVAL: [0/1106] Elapsed 0m 0s (remain 1m 58s) Loss: 76.0872(76.0872) \n"
          ]
        },
        {
          "output_type": "stream",
          "name": "stderr",
          "text": [
            "Epoch 12 - avg_train_loss: 274.4387  avg_val_loss: 277.4113  time: 118s\n",
            "INFO:__main__:Epoch 12 - avg_train_loss: 274.4387  avg_val_loss: 277.4113  time: 118s\n",
            "Epoch 12 - Score: 16.6557\n",
            "INFO:__main__:Epoch 12 - Score: 16.6557\n"
          ]
        },
        {
          "output_type": "stream",
          "name": "stdout",
          "text": [
            "EVAL: [1105/1106] Elapsed 0m 9s (remain 0m 0s) Loss: 41.5312(277.4113) \n",
            "Epoch: [13][0/9962] Elapsed 0m 0s (remain 19m 39s) Loss: 396.8258(396.8258) Grad: 49186.0273 LR: 0.000100  \n",
            "Epoch: [13][2000/9962] Elapsed 0m 22s (remain 1m 29s) Loss: 244.9230(294.0877) Grad: 49001.1016 LR: 0.000100  \n",
            "Epoch: [13][4000/9962] Elapsed 0m 44s (remain 1m 5s) Loss: 63.0046(280.7159) Grad: 25529.5664 LR: 0.000100  \n",
            "Epoch: [13][6000/9962] Elapsed 1m 6s (remain 0m 44s) Loss: 189.8179(278.8758) Grad: 24121.3340 LR: 0.000100  \n",
            "Epoch: [13][8000/9962] Elapsed 1m 29s (remain 0m 21s) Loss: 86.4525(274.0445) Grad: 29849.4434 LR: 0.000100  \n",
            "Epoch: [13][9961/9962] Elapsed 1m 50s (remain 0m 0s) Loss: 304.2806(271.5503) Grad: 30358.7109 LR: 0.000100  \n",
            "EVAL: [0/1106] Elapsed 0m 0s (remain 1m 54s) Loss: 36.1202(36.1202) \n"
          ]
        },
        {
          "output_type": "stream",
          "name": "stderr",
          "text": [
            "Epoch 13 - avg_train_loss: 271.5503  avg_val_loss: 283.4588  time: 120s\n",
            "INFO:__main__:Epoch 13 - avg_train_loss: 271.5503  avg_val_loss: 283.4588  time: 120s\n",
            "Epoch 13 - Score: 16.8362\n",
            "INFO:__main__:Epoch 13 - Score: 16.8362\n"
          ]
        },
        {
          "output_type": "stream",
          "name": "stdout",
          "text": [
            "EVAL: [1105/1106] Elapsed 0m 9s (remain 0m 0s) Loss: 39.3817(283.4588) \n",
            "Epoch: [14][0/9962] Elapsed 0m 0s (remain 22m 5s) Loss: 452.6293(452.6293) Grad: 61894.8008 LR: 0.000094  \n",
            "Epoch: [14][2000/9962] Elapsed 0m 22s (remain 1m 28s) Loss: 247.2276(289.4781) Grad: 81677.4922 LR: 0.000094  \n",
            "Epoch: [14][4000/9962] Elapsed 0m 43s (remain 1m 4s) Loss: 61.1607(276.8408) Grad: 19250.3965 LR: 0.000094  \n",
            "Epoch: [14][6000/9962] Elapsed 1m 5s (remain 0m 43s) Loss: 216.2943(275.2890) Grad: 43285.8906 LR: 0.000094  \n",
            "Epoch: [14][8000/9962] Elapsed 1m 26s (remain 0m 21s) Loss: 99.3464(270.1465) Grad: 18220.4004 LR: 0.000094  \n",
            "Epoch: [14][9961/9962] Elapsed 1m 47s (remain 0m 0s) Loss: 246.0111(267.8874) Grad: 34649.5664 LR: 0.000094  \n",
            "EVAL: [0/1106] Elapsed 0m 0s (remain 1m 57s) Loss: 40.3096(40.3096) \n"
          ]
        },
        {
          "output_type": "stream",
          "name": "stderr",
          "text": [
            "Epoch 14 - avg_train_loss: 267.8874  avg_val_loss: 303.3944  time: 117s\n",
            "INFO:__main__:Epoch 14 - avg_train_loss: 267.8874  avg_val_loss: 303.3944  time: 117s\n",
            "Epoch 14 - Score: 17.4182\n",
            "INFO:__main__:Epoch 14 - Score: 17.4182\n"
          ]
        },
        {
          "output_type": "stream",
          "name": "stdout",
          "text": [
            "EVAL: [1105/1106] Elapsed 0m 9s (remain 0m 0s) Loss: 47.6482(303.3944) \n",
            "Epoch: [15][0/9962] Elapsed 0m 0s (remain 19m 57s) Loss: 374.7902(374.7902) Grad: 35385.9883 LR: 0.000078  \n",
            "Epoch: [15][2000/9962] Elapsed 0m 20s (remain 1m 23s) Loss: 193.1163(280.6268) Grad: 31567.3945 LR: 0.000078  \n",
            "Epoch: [15][4000/9962] Elapsed 0m 43s (remain 1m 4s) Loss: 72.7986(270.3928) Grad: 29798.4023 LR: 0.000078  \n",
            "Epoch: [15][6000/9962] Elapsed 1m 5s (remain 0m 43s) Loss: 183.2983(269.1020) Grad: 25668.1484 LR: 0.000078  \n",
            "Epoch: [15][8000/9962] Elapsed 1m 25s (remain 0m 21s) Loss: 98.3291(264.7194) Grad: 11593.1670 LR: 0.000078  \n",
            "Epoch: [15][9961/9962] Elapsed 1m 47s (remain 0m 0s) Loss: 222.6065(262.6949) Grad: 15676.2305 LR: 0.000078  \n",
            "EVAL: [0/1106] Elapsed 0m 0s (remain 1m 55s) Loss: 50.5445(50.5445) \n",
            "EVAL: [1105/1106] Elapsed 0m 8s (remain 0m 0s) Loss: 41.1560(293.4819) \n"
          ]
        },
        {
          "output_type": "stream",
          "name": "stderr",
          "text": [
            "Epoch 15 - avg_train_loss: 262.6949  avg_val_loss: 293.4819  time: 117s\n",
            "INFO:__main__:Epoch 15 - avg_train_loss: 262.6949  avg_val_loss: 293.4819  time: 117s\n",
            "Epoch 15 - Score: 17.1313\n",
            "INFO:__main__:Epoch 15 - Score: 17.1313\n"
          ]
        },
        {
          "output_type": "stream",
          "name": "stdout",
          "text": [
            "Epoch: [16][0/9962] Elapsed 0m 0s (remain 28m 56s) Loss: 409.8348(409.8348) Grad: 18201.4746 LR: 0.000055  \n",
            "Epoch: [16][2000/9962] Elapsed 0m 21s (remain 1m 26s) Loss: 222.9459(275.0835) Grad: 48921.9961 LR: 0.000055  \n",
            "Epoch: [16][4000/9962] Elapsed 0m 43s (remain 1m 5s) Loss: 44.8652(264.0687) Grad: 8674.7793 LR: 0.000055  \n",
            "Epoch: [16][6000/9962] Elapsed 1m 4s (remain 0m 42s) Loss: 150.6728(262.9629) Grad: 23813.7402 LR: 0.000055  \n",
            "Epoch: [16][8000/9962] Elapsed 1m 26s (remain 0m 21s) Loss: 104.7726(258.3559) Grad: 12678.4561 LR: 0.000055  \n",
            "Epoch: [16][9961/9962] Elapsed 1m 48s (remain 0m 0s) Loss: 228.9546(256.3211) Grad: 42511.1797 LR: 0.000055  \n",
            "EVAL: [0/1106] Elapsed 0m 0s (remain 1m 54s) Loss: 51.6461(51.6461) \n"
          ]
        },
        {
          "output_type": "stream",
          "name": "stderr",
          "text": [
            "Epoch 16 - avg_train_loss: 256.3211  avg_val_loss: 275.2476  time: 117s\n",
            "INFO:__main__:Epoch 16 - avg_train_loss: 256.3211  avg_val_loss: 275.2476  time: 117s\n",
            "Epoch 16 - Score: 16.5906\n",
            "INFO:__main__:Epoch 16 - Score: 16.5906\n"
          ]
        },
        {
          "output_type": "stream",
          "name": "stdout",
          "text": [
            "EVAL: [1105/1106] Elapsed 0m 8s (remain 0m 0s) Loss: 34.2561(275.2476) \n",
            "Epoch: [17][0/9962] Elapsed 0m 0s (remain 20m 11s) Loss: 400.7795(400.7795) Grad: 63264.0664 LR: 0.000033  \n",
            "Epoch: [17][2000/9962] Elapsed 0m 22s (remain 1m 28s) Loss: 176.1423(271.5925) Grad: 42345.6289 LR: 0.000033  \n",
            "Epoch: [17][4000/9962] Elapsed 0m 44s (remain 1m 6s) Loss: 40.1773(260.6403) Grad: 12124.6602 LR: 0.000033  \n",
            "Epoch: [17][6000/9962] Elapsed 1m 5s (remain 0m 43s) Loss: 211.5567(259.3391) Grad: 61565.9414 LR: 0.000033  \n",
            "Epoch: [17][8000/9962] Elapsed 1m 27s (remain 0m 21s) Loss: 98.2653(254.8370) Grad: 13065.6016 LR: 0.000033  \n",
            "Epoch: [17][9961/9962] Elapsed 1m 49s (remain 0m 0s) Loss: 216.7945(252.6895) Grad: 24730.9688 LR: 0.000033  \n",
            "EVAL: [0/1106] Elapsed 0m 0s (remain 2m 31s) Loss: 39.3207(39.3207) \n"
          ]
        },
        {
          "output_type": "stream",
          "name": "stderr",
          "text": [
            "Epoch 17 - avg_train_loss: 252.6895  avg_val_loss: 257.7373  time: 118s\n",
            "INFO:__main__:Epoch 17 - avg_train_loss: 252.6895  avg_val_loss: 257.7373  time: 118s\n",
            "Epoch 17 - Score: 16.0542\n",
            "INFO:__main__:Epoch 17 - Score: 16.0542\n",
            "Validation loss Improved (268.74358657804135 ---> 257.73732059377085)\n",
            "INFO:__main__:Validation loss Improved (268.74358657804135 ---> 257.73732059377085)\n",
            "Epoch 17 - Save Best Loss: 257.7373 Model\n",
            "INFO:__main__:Epoch 17 - Save Best Loss: 257.7373 Model\n"
          ]
        },
        {
          "output_type": "stream",
          "name": "stdout",
          "text": [
            "EVAL: [1105/1106] Elapsed 0m 8s (remain 0m 0s) Loss: 29.5194(257.7373) \n",
            "Epoch: [18][0/9962] Elapsed 0m 0s (remain 19m 25s) Loss: 341.0950(341.0950) Grad: 29259.4863 LR: 0.000016  \n",
            "Epoch: [18][2000/9962] Elapsed 0m 22s (remain 1m 28s) Loss: 208.6540(270.8592) Grad: 58235.2617 LR: 0.000016  \n",
            "Epoch: [18][4000/9962] Elapsed 0m 43s (remain 1m 5s) Loss: 45.9441(259.0616) Grad: 10070.6436 LR: 0.000016  \n",
            "Epoch: [18][6000/9962] Elapsed 1m 5s (remain 0m 43s) Loss: 184.3422(257.0322) Grad: 35987.2812 LR: 0.000016  \n",
            "Epoch: [18][8000/9962] Elapsed 1m 27s (remain 0m 21s) Loss: 99.2206(252.5542) Grad: 24424.7949 LR: 0.000016  \n",
            "Epoch: [18][9961/9962] Elapsed 1m 47s (remain 0m 0s) Loss: 214.0173(250.4417) Grad: 31587.6426 LR: 0.000016  \n",
            "EVAL: [0/1106] Elapsed 0m 0s (remain 2m 52s) Loss: 53.0147(53.0147) \n"
          ]
        },
        {
          "output_type": "stream",
          "name": "stderr",
          "text": [
            "Epoch 18 - avg_train_loss: 250.4417  avg_val_loss: 250.1302  time: 117s\n",
            "INFO:__main__:Epoch 18 - avg_train_loss: 250.4417  avg_val_loss: 250.1302  time: 117s\n",
            "Epoch 18 - Score: 15.8155\n",
            "INFO:__main__:Epoch 18 - Score: 15.8155\n",
            "Validation loss Improved (257.73732059377085 ---> 250.1302014609156)\n",
            "INFO:__main__:Validation loss Improved (257.73732059377085 ---> 250.1302014609156)\n",
            "Epoch 18 - Save Best Loss: 250.1302 Model\n",
            "INFO:__main__:Epoch 18 - Save Best Loss: 250.1302 Model\n"
          ]
        },
        {
          "output_type": "stream",
          "name": "stdout",
          "text": [
            "EVAL: [1105/1106] Elapsed 0m 9s (remain 0m 0s) Loss: 31.2015(250.1302) \n",
            "Epoch: [19][0/9962] Elapsed 0m 0s (remain 19m 48s) Loss: 345.9583(345.9583) Grad: 17192.8555 LR: 0.000010  \n",
            "Epoch: [19][2000/9962] Elapsed 0m 22s (remain 1m 29s) Loss: 197.6937(268.8811) Grad: 37380.9219 LR: 0.000010  \n",
            "Epoch: [19][4000/9962] Elapsed 0m 43s (remain 1m 4s) Loss: 36.8855(257.0997) Grad: 10874.0078 LR: 0.000010  \n",
            "Epoch: [19][6000/9962] Elapsed 1m 5s (remain 0m 43s) Loss: 166.3068(255.4985) Grad: 41514.0547 LR: 0.000010  \n",
            "Epoch: [19][8000/9962] Elapsed 1m 27s (remain 0m 21s) Loss: 87.5482(250.8758) Grad: 12975.5928 LR: 0.000010  \n",
            "Epoch: [19][9961/9962] Elapsed 1m 48s (remain 0m 0s) Loss: 222.4364(248.8603) Grad: 50894.6289 LR: 0.000010  \n",
            "EVAL: [0/1106] Elapsed 0m 0s (remain 1m 57s) Loss: 51.3387(51.3387) \n"
          ]
        },
        {
          "output_type": "stream",
          "name": "stderr",
          "text": [
            "Epoch 19 - avg_train_loss: 248.8603  avg_val_loss: 249.1079  time: 117s\n",
            "INFO:__main__:Epoch 19 - avg_train_loss: 248.8603  avg_val_loss: 249.1079  time: 117s\n",
            "Epoch 19 - Score: 15.7832\n",
            "INFO:__main__:Epoch 19 - Score: 15.7832\n",
            "Validation loss Improved (250.1302014609156 ---> 249.10790410485637)\n",
            "INFO:__main__:Validation loss Improved (250.1302014609156 ---> 249.10790410485637)\n",
            "Epoch 19 - Save Best Loss: 249.1079 Model\n",
            "INFO:__main__:Epoch 19 - Save Best Loss: 249.1079 Model\n"
          ]
        },
        {
          "output_type": "stream",
          "name": "stdout",
          "text": [
            "EVAL: [1105/1106] Elapsed 0m 9s (remain 0m 0s) Loss: 30.5616(249.1079) \n",
            "Epoch: [20][0/9962] Elapsed 0m 0s (remain 22m 2s) Loss: 346.3955(346.3955) Grad: 31086.7930 LR: 0.000016  \n",
            "Epoch: [20][2000/9962] Elapsed 0m 22s (remain 1m 28s) Loss: 181.1139(266.9569) Grad: 50959.9141 LR: 0.000016  \n",
            "Epoch: [20][4000/9962] Elapsed 0m 42s (remain 1m 4s) Loss: 38.3921(255.8670) Grad: 5417.5483 LR: 0.000016  \n",
            "Epoch: [20][6000/9962] Elapsed 1m 5s (remain 0m 42s) Loss: 179.3343(254.4671) Grad: 44163.9570 LR: 0.000016  \n",
            "Epoch: [20][8000/9962] Elapsed 1m 26s (remain 0m 21s) Loss: 111.5635(249.9995) Grad: 16966.7188 LR: 0.000016  \n",
            "Epoch: [20][9961/9962] Elapsed 1m 47s (remain 0m 0s) Loss: 233.8273(247.7515) Grad: 51575.0156 LR: 0.000016  \n",
            "EVAL: [0/1106] Elapsed 0m 0s (remain 1m 56s) Loss: 59.1487(59.1487) \n"
          ]
        },
        {
          "output_type": "stream",
          "name": "stderr",
          "text": [
            "Epoch 20 - avg_train_loss: 247.7515  avg_val_loss: 248.1315  time: 117s\n",
            "INFO:__main__:Epoch 20 - avg_train_loss: 247.7515  avg_val_loss: 248.1315  time: 117s\n",
            "Epoch 20 - Score: 15.7522\n",
            "INFO:__main__:Epoch 20 - Score: 15.7522\n",
            "Validation loss Improved (249.10790410485637 ---> 248.13147446234436)\n",
            "INFO:__main__:Validation loss Improved (249.10790410485637 ---> 248.13147446234436)\n",
            "Epoch 20 - Save Best Loss: 248.1315 Model\n",
            "INFO:__main__:Epoch 20 - Save Best Loss: 248.1315 Model\n"
          ]
        },
        {
          "output_type": "stream",
          "name": "stdout",
          "text": [
            "EVAL: [1105/1106] Elapsed 0m 9s (remain 0m 0s) Loss: 29.0144(248.1315) \n",
            "Epoch: [21][0/9962] Elapsed 0m 0s (remain 19m 33s) Loss: 370.0313(370.0313) Grad: 32084.1113 LR: 0.000033  \n",
            "Epoch: [21][2000/9962] Elapsed 0m 21s (remain 1m 23s) Loss: 189.4337(266.5282) Grad: 45032.6562 LR: 0.000033  \n",
            "Epoch: [21][4000/9962] Elapsed 0m 43s (remain 1m 4s) Loss: 43.7890(256.0675) Grad: 6469.2227 LR: 0.000033  \n",
            "Epoch: [21][6000/9962] Elapsed 1m 4s (remain 0m 42s) Loss: 222.0166(254.7364) Grad: 90882.4609 LR: 0.000033  \n",
            "Epoch: [21][8000/9962] Elapsed 1m 25s (remain 0m 20s) Loss: 102.3033(250.6295) Grad: 14112.9590 LR: 0.000033  \n",
            "Epoch: [21][9961/9962] Elapsed 1m 47s (remain 0m 0s) Loss: 232.6132(248.6790) Grad: 58765.4375 LR: 0.000033  \n",
            "EVAL: [0/1106] Elapsed 0m 0s (remain 1m 52s) Loss: 31.5030(31.5030) \n",
            "EVAL: [1105/1106] Elapsed 0m 8s (remain 0m 0s) Loss: 29.6177(244.6768) \n"
          ]
        },
        {
          "output_type": "stream",
          "name": "stderr",
          "text": [
            "Epoch 21 - avg_train_loss: 248.6790  avg_val_loss: 244.6768  time: 116s\n",
            "INFO:__main__:Epoch 21 - avg_train_loss: 248.6790  avg_val_loss: 244.6768  time: 116s\n",
            "Epoch 21 - Score: 15.6421\n",
            "INFO:__main__:Epoch 21 - Score: 15.6421\n",
            "Validation loss Improved (248.13147446234436 ---> 244.67675608343797)\n",
            "INFO:__main__:Validation loss Improved (248.13147446234436 ---> 244.67675608343797)\n",
            "Epoch 21 - Save Best Loss: 244.6768 Model\n",
            "INFO:__main__:Epoch 21 - Save Best Loss: 244.6768 Model\n"
          ]
        },
        {
          "output_type": "stream",
          "name": "stdout",
          "text": [
            "Epoch: [22][0/9962] Elapsed 0m 0s (remain 26m 36s) Loss: 400.1794(400.1794) Grad: 24292.7598 LR: 0.000055  \n",
            "Epoch: [22][2000/9962] Elapsed 0m 20s (remain 1m 23s) Loss: 148.5541(269.1337) Grad: 46183.3047 LR: 0.000055  \n",
            "Epoch: [22][4000/9962] Elapsed 0m 43s (remain 1m 4s) Loss: 50.1259(257.6707) Grad: 30199.9668 LR: 0.000055  \n",
            "Epoch: [22][6000/9962] Elapsed 1m 4s (remain 0m 42s) Loss: 234.7740(256.6316) Grad: 47007.7930 LR: 0.000055  \n",
            "Epoch: [22][8000/9962] Elapsed 1m 26s (remain 0m 21s) Loss: 112.7950(252.1375) Grad: 21941.5039 LR: 0.000055  \n",
            "Epoch: [22][9961/9962] Elapsed 1m 47s (remain 0m 0s) Loss: 264.8651(250.3413) Grad: 68855.6719 LR: 0.000055  \n",
            "EVAL: [0/1106] Elapsed 0m 0s (remain 2m 14s) Loss: 37.7947(37.7947) \n"
          ]
        },
        {
          "output_type": "stream",
          "name": "stderr",
          "text": [
            "Epoch 22 - avg_train_loss: 250.3413  avg_val_loss: 246.1242  time: 116s\n",
            "INFO:__main__:Epoch 22 - avg_train_loss: 250.3413  avg_val_loss: 246.1242  time: 116s\n",
            "Epoch 22 - Score: 15.6883\n",
            "INFO:__main__:Epoch 22 - Score: 15.6883\n"
          ]
        },
        {
          "output_type": "stream",
          "name": "stdout",
          "text": [
            "EVAL: [1105/1106] Elapsed 0m 8s (remain 0m 0s) Loss: 31.3817(246.1242) \n",
            "Epoch: [23][0/9962] Elapsed 0m 0s (remain 26m 50s) Loss: 361.0720(361.0720) Grad: 25600.2695 LR: 0.000078  \n",
            "Epoch: [23][2000/9962] Elapsed 0m 22s (remain 1m 30s) Loss: 206.2558(274.4639) Grad: 64118.8828 LR: 0.000078  \n",
            "Epoch: [23][4000/9962] Elapsed 0m 44s (remain 1m 6s) Loss: 40.7305(262.8375) Grad: 21494.4082 LR: 0.000078  \n",
            "Epoch: [23][6000/9962] Elapsed 1m 5s (remain 0m 43s) Loss: 184.8239(261.0342) Grad: 70029.0469 LR: 0.000078  \n",
            "Epoch: [23][8000/9962] Elapsed 1m 27s (remain 0m 21s) Loss: 111.5471(256.4898) Grad: 9875.8789 LR: 0.000078  \n",
            "Epoch: [23][9961/9962] Elapsed 1m 49s (remain 0m 0s) Loss: 282.9930(254.1724) Grad: 101969.2109 LR: 0.000078  \n",
            "EVAL: [0/1106] Elapsed 0m 0s (remain 1m 55s) Loss: 42.6798(42.6798) \n"
          ]
        },
        {
          "output_type": "stream",
          "name": "stderr",
          "text": [
            "Epoch 23 - avg_train_loss: 254.1724  avg_val_loss: 256.5511  time: 118s\n",
            "INFO:__main__:Epoch 23 - avg_train_loss: 254.1724  avg_val_loss: 256.5511  time: 118s\n",
            "Epoch 23 - Score: 16.0172\n",
            "INFO:__main__:Epoch 23 - Score: 16.0172\n"
          ]
        },
        {
          "output_type": "stream",
          "name": "stdout",
          "text": [
            "EVAL: [1105/1106] Elapsed 0m 8s (remain 0m 0s) Loss: 44.4744(256.5511) \n",
            "Epoch: [24][0/9962] Elapsed 0m 0s (remain 19m 27s) Loss: 376.4703(376.4703) Grad: 35914.0781 LR: 0.000094  \n",
            "Epoch: [24][2000/9962] Elapsed 0m 22s (remain 1m 28s) Loss: 200.3076(277.4986) Grad: 69729.5391 LR: 0.000094  \n",
            "Epoch: [24][4000/9962] Elapsed 0m 44s (remain 1m 5s) Loss: 98.1851(266.1611) Grad: 79129.1641 LR: 0.000094  \n",
            "Epoch: [24][6000/9962] Elapsed 1m 5s (remain 0m 43s) Loss: 211.1548(264.4266) Grad: 47062.5352 LR: 0.000094  \n",
            "Epoch: [24][8000/9962] Elapsed 1m 28s (remain 0m 21s) Loss: 96.4026(259.9271) Grad: 12622.0576 LR: 0.000094  \n",
            "Epoch: [24][9961/9962] Elapsed 1m 49s (remain 0m 0s) Loss: 287.6455(257.6635) Grad: 101528.6719 LR: 0.000094  \n",
            "EVAL: [0/1106] Elapsed 0m 0s (remain 2m 45s) Loss: 32.0262(32.0262) \n"
          ]
        },
        {
          "output_type": "stream",
          "name": "stderr",
          "text": [
            "Epoch 24 - avg_train_loss: 257.6635  avg_val_loss: 257.9092  time: 119s\n",
            "INFO:__main__:Epoch 24 - avg_train_loss: 257.6635  avg_val_loss: 257.9092  time: 119s\n",
            "Epoch 24 - Score: 16.0596\n",
            "INFO:__main__:Epoch 24 - Score: 16.0596\n"
          ]
        },
        {
          "output_type": "stream",
          "name": "stdout",
          "text": [
            "EVAL: [1105/1106] Elapsed 0m 8s (remain 0m 0s) Loss: 39.7124(257.9092) \n",
            "Epoch: [25][0/9962] Elapsed 0m 0s (remain 19m 19s) Loss: 359.1871(359.1871) Grad: 43087.0156 LR: 0.000100  \n",
            "Epoch: [25][2000/9962] Elapsed 0m 22s (remain 1m 29s) Loss: 207.2789(275.3579) Grad: 47453.9297 LR: 0.000100  \n",
            "Epoch: [25][4000/9962] Elapsed 0m 43s (remain 1m 5s) Loss: 50.6294(264.5146) Grad: 20885.0254 LR: 0.000100  \n",
            "Epoch: [25][6000/9962] Elapsed 1m 5s (remain 0m 43s) Loss: 165.7934(262.8502) Grad: 28949.9414 LR: 0.000100  \n",
            "Epoch: [25][8000/9962] Elapsed 1m 27s (remain 0m 21s) Loss: 101.0792(257.9067) Grad: 18187.7500 LR: 0.000100  \n",
            "Epoch: [25][9961/9962] Elapsed 1m 48s (remain 0m 0s) Loss: 262.6653(256.1489) Grad: 109892.4844 LR: 0.000100  \n",
            "EVAL: [0/1106] Elapsed 0m 0s (remain 1m 53s) Loss: 24.3027(24.3027) \n"
          ]
        },
        {
          "output_type": "stream",
          "name": "stderr",
          "text": [
            "Epoch 25 - avg_train_loss: 256.1489  avg_val_loss: 266.0385  time: 118s\n",
            "INFO:__main__:Epoch 25 - avg_train_loss: 256.1489  avg_val_loss: 266.0385  time: 118s\n",
            "Epoch 25 - Score: 16.3107\n",
            "INFO:__main__:Epoch 25 - Score: 16.3107\n"
          ]
        },
        {
          "output_type": "stream",
          "name": "stdout",
          "text": [
            "EVAL: [1105/1106] Elapsed 0m 9s (remain 0m 0s) Loss: 48.2047(266.0385) \n",
            "Epoch: [26][0/9962] Elapsed 0m 0s (remain 20m 8s) Loss: 344.3812(344.3812) Grad: 27538.4395 LR: 0.000094  \n",
            "Epoch: [26][2000/9962] Elapsed 0m 22s (remain 1m 28s) Loss: 184.9179(274.5810) Grad: 49783.5273 LR: 0.000094  \n",
            "Epoch: [26][4000/9962] Elapsed 0m 43s (remain 1m 4s) Loss: 43.8397(262.9162) Grad: 22034.4297 LR: 0.000094  \n",
            "Epoch: [26][6000/9962] Elapsed 1m 4s (remain 0m 42s) Loss: 203.6761(261.1055) Grad: 46870.3438 LR: 0.000094  \n",
            "Epoch: [26][8000/9962] Elapsed 1m 26s (remain 0m 21s) Loss: 86.6766(256.5541) Grad: 9247.3877 LR: 0.000094  \n",
            "Epoch: [26][9961/9962] Elapsed 1m 47s (remain 0m 0s) Loss: 240.2339(254.4545) Grad: 71651.0859 LR: 0.000094  \n",
            "EVAL: [0/1106] Elapsed 0m 0s (remain 1m 52s) Loss: 20.8151(20.8151) \n"
          ]
        },
        {
          "output_type": "stream",
          "name": "stderr",
          "text": [
            "Epoch 26 - avg_train_loss: 254.4545  avg_val_loss: 262.1069  time: 116s\n",
            "INFO:__main__:Epoch 26 - avg_train_loss: 254.4545  avg_val_loss: 262.1069  time: 116s\n",
            "Epoch 26 - Score: 16.1897\n",
            "INFO:__main__:Epoch 26 - Score: 16.1897\n"
          ]
        },
        {
          "output_type": "stream",
          "name": "stdout",
          "text": [
            "EVAL: [1105/1106] Elapsed 0m 8s (remain 0m 0s) Loss: 38.6873(262.1069) \n",
            "Epoch: [27][0/9962] Elapsed 0m 0s (remain 22m 4s) Loss: 366.5144(366.5144) Grad: 34803.3008 LR: 0.000078  \n",
            "Epoch: [27][2000/9962] Elapsed 0m 20s (remain 1m 22s) Loss: 201.1242(271.1033) Grad: 37453.2812 LR: 0.000078  \n",
            "Epoch: [27][4000/9962] Elapsed 0m 42s (remain 1m 3s) Loss: 41.5365(259.7189) Grad: 15266.3740 LR: 0.000078  \n",
            "Epoch: [27][6000/9962] Elapsed 1m 4s (remain 0m 42s) Loss: 168.7349(257.7397) Grad: 21613.5449 LR: 0.000078  \n",
            "Epoch: [27][8000/9962] Elapsed 1m 25s (remain 0m 20s) Loss: 84.3710(253.4927) Grad: 7487.1060 LR: 0.000078  \n",
            "Epoch: [27][9961/9962] Elapsed 1m 47s (remain 0m 0s) Loss: 355.6757(251.2505) Grad: 66723.3281 LR: 0.000078  \n",
            "EVAL: [0/1106] Elapsed 0m 0s (remain 1m 54s) Loss: 20.9380(20.9380) \n"
          ]
        },
        {
          "output_type": "stream",
          "name": "stderr",
          "text": [
            "Epoch 27 - avg_train_loss: 251.2505  avg_val_loss: 253.7301  time: 117s\n",
            "INFO:__main__:Epoch 27 - avg_train_loss: 251.2505  avg_val_loss: 253.7301  time: 117s\n",
            "Epoch 27 - Score: 15.9289\n",
            "INFO:__main__:Epoch 27 - Score: 15.9289\n"
          ]
        },
        {
          "output_type": "stream",
          "name": "stdout",
          "text": [
            "EVAL: [1105/1106] Elapsed 0m 9s (remain 0m 0s) Loss: 33.0695(253.7301) \n",
            "Epoch: [28][0/9962] Elapsed 0m 0s (remain 19m 25s) Loss: 383.9214(383.9214) Grad: 57365.9336 LR: 0.000055  \n",
            "Epoch: [28][2000/9962] Elapsed 0m 20s (remain 1m 23s) Loss: 143.5048(265.6168) Grad: 30090.0605 LR: 0.000055  \n",
            "Epoch: [28][4000/9962] Elapsed 0m 42s (remain 1m 3s) Loss: 48.7538(253.9276) Grad: 15930.3594 LR: 0.000055  \n",
            "Epoch: [28][6000/9962] Elapsed 1m 4s (remain 0m 42s) Loss: 176.6389(252.4342) Grad: 47941.2617 LR: 0.000055  \n",
            "Epoch: [28][8000/9962] Elapsed 1m 26s (remain 0m 21s) Loss: 99.1336(248.1695) Grad: 30239.4336 LR: 0.000055  \n",
            "Epoch: [28][9961/9962] Elapsed 1m 49s (remain 0m 0s) Loss: 218.4966(246.3549) Grad: 42263.4531 LR: 0.000055  \n",
            "EVAL: [0/1106] Elapsed 0m 0s (remain 1m 54s) Loss: 22.8854(22.8854) \n"
          ]
        },
        {
          "output_type": "stream",
          "name": "stderr",
          "text": [
            "Epoch 28 - avg_train_loss: 246.3549  avg_val_loss: 248.4862  time: 118s\n",
            "INFO:__main__:Epoch 28 - avg_train_loss: 246.3549  avg_val_loss: 248.4862  time: 118s\n"
          ]
        },
        {
          "output_type": "stream",
          "name": "stdout",
          "text": [
            "EVAL: [1105/1106] Elapsed 0m 8s (remain 0m 0s) Loss: 33.5771(248.4862) \n"
          ]
        },
        {
          "output_type": "stream",
          "name": "stderr",
          "text": [
            "Epoch 28 - Score: 15.7634\n",
            "INFO:__main__:Epoch 28 - Score: 15.7634\n"
          ]
        },
        {
          "output_type": "stream",
          "name": "stdout",
          "text": [
            "Epoch: [29][0/9962] Elapsed 0m 0s (remain 32m 56s) Loss: 376.9359(376.9359) Grad: 53877.1523 LR: 0.000033  \n",
            "Epoch: [29][2000/9962] Elapsed 0m 22s (remain 1m 27s) Loss: 241.4328(261.4768) Grad: 51122.0820 LR: 0.000033  \n",
            "Epoch: [29][4000/9962] Elapsed 0m 44s (remain 1m 6s) Loss: 43.4519(250.6641) Grad: 7940.8672 LR: 0.000033  \n",
            "Epoch: [29][6000/9962] Elapsed 1m 6s (remain 0m 43s) Loss: 179.6748(248.7635) Grad: 42599.8125 LR: 0.000033  \n",
            "Epoch: [29][8000/9962] Elapsed 1m 28s (remain 0m 21s) Loss: 109.3954(244.7079) Grad: 13270.9443 LR: 0.000033  \n",
            "Epoch: [29][9961/9962] Elapsed 1m 50s (remain 0m 0s) Loss: 234.7110(243.0008) Grad: 89243.5391 LR: 0.000033  \n",
            "EVAL: [0/1106] Elapsed 0m 0s (remain 1m 55s) Loss: 18.7183(18.7183) \n"
          ]
        },
        {
          "output_type": "stream",
          "name": "stderr",
          "text": [
            "Epoch 29 - avg_train_loss: 243.0008  avg_val_loss: 241.6497  time: 119s\n",
            "INFO:__main__:Epoch 29 - avg_train_loss: 243.0008  avg_val_loss: 241.6497  time: 119s\n",
            "Epoch 29 - Score: 15.5451\n",
            "INFO:__main__:Epoch 29 - Score: 15.5451\n",
            "Validation loss Improved (244.67675608343797 ---> 241.64974756196906)\n",
            "INFO:__main__:Validation loss Improved (244.67675608343797 ---> 241.64974756196906)\n"
          ]
        },
        {
          "output_type": "stream",
          "name": "stdout",
          "text": [
            "EVAL: [1105/1106] Elapsed 0m 8s (remain 0m 0s) Loss: 32.5791(241.6497) \n"
          ]
        },
        {
          "output_type": "stream",
          "name": "stderr",
          "text": [
            "Epoch 29 - Save Best Loss: 241.6497 Model\n",
            "INFO:__main__:Epoch 29 - Save Best Loss: 241.6497 Model\n"
          ]
        },
        {
          "output_type": "stream",
          "name": "stdout",
          "text": [
            "Epoch: [30][0/9962] Elapsed 0m 0s (remain 31m 30s) Loss: 413.3450(413.3450) Grad: 35873.9688 LR: 0.000016  \n",
            "Epoch: [30][2000/9962] Elapsed 0m 22s (remain 1m 27s) Loss: 233.5855(261.1630) Grad: 67289.3047 LR: 0.000016  \n",
            "Epoch: [30][4000/9962] Elapsed 0m 44s (remain 1m 6s) Loss: 37.8313(250.2260) Grad: 7722.5044 LR: 0.000016  \n",
            "Epoch: [30][6000/9962] Elapsed 1m 5s (remain 0m 43s) Loss: 201.9255(247.9042) Grad: 41962.8516 LR: 0.000016  \n",
            "Epoch: [30][8000/9962] Elapsed 1m 27s (remain 0m 21s) Loss: 97.5333(243.6326) Grad: 9593.0684 LR: 0.000016  \n",
            "Epoch: [30][9961/9962] Elapsed 1m 49s (remain 0m 0s) Loss: 223.5916(241.6309) Grad: 37421.4844 LR: 0.000016  \n",
            "EVAL: [0/1106] Elapsed 0m 0s (remain 2m 14s) Loss: 18.2708(18.2708) \n"
          ]
        },
        {
          "output_type": "stream",
          "name": "stderr",
          "text": [
            "Epoch 30 - avg_train_loss: 241.6309  avg_val_loss: 241.3221  time: 118s\n",
            "INFO:__main__:Epoch 30 - avg_train_loss: 241.6309  avg_val_loss: 241.3221  time: 118s\n",
            "Epoch 30 - Score: 15.5345\n",
            "INFO:__main__:Epoch 30 - Score: 15.5345\n",
            "Validation loss Improved (241.64974756196906 ---> 241.3220543598434)\n",
            "INFO:__main__:Validation loss Improved (241.64974756196906 ---> 241.3220543598434)\n",
            "Epoch 30 - Save Best Loss: 241.3221 Model\n",
            "INFO:__main__:Epoch 30 - Save Best Loss: 241.3221 Model\n"
          ]
        },
        {
          "output_type": "stream",
          "name": "stdout",
          "text": [
            "EVAL: [1105/1106] Elapsed 0m 8s (remain 0m 0s) Loss: 32.2986(241.3221) \n",
            "Epoch: [31][0/9962] Elapsed 0m 0s (remain 21m 35s) Loss: 335.5797(335.5797) Grad: 27026.2715 LR: 0.000010  \n",
            "Epoch: [31][2000/9962] Elapsed 0m 22s (remain 1m 27s) Loss: 253.0744(260.3161) Grad: 73094.1328 LR: 0.000010  \n",
            "Epoch: [31][4000/9962] Elapsed 0m 44s (remain 1m 5s) Loss: 35.0024(249.0081) Grad: 8537.7295 LR: 0.000010  \n",
            "Epoch: [31][6000/9962] Elapsed 1m 4s (remain 0m 42s) Loss: 158.3118(247.1784) Grad: 22457.2598 LR: 0.000010  \n",
            "Epoch: [31][8000/9962] Elapsed 1m 26s (remain 0m 21s) Loss: 85.4281(242.8652) Grad: 10257.6895 LR: 0.000010  \n",
            "Epoch: [31][9961/9962] Elapsed 1m 47s (remain 0m 0s) Loss: 274.4929(240.9547) Grad: 81328.9766 LR: 0.000010  \n",
            "EVAL: [0/1106] Elapsed 0m 0s (remain 2m 49s) Loss: 16.2443(16.2443) \n"
          ]
        },
        {
          "output_type": "stream",
          "name": "stderr",
          "text": [
            "Epoch 31 - avg_train_loss: 240.9547  avg_val_loss: 239.7777  time: 117s\n",
            "INFO:__main__:Epoch 31 - avg_train_loss: 240.9547  avg_val_loss: 239.7777  time: 117s\n",
            "Epoch 31 - Score: 15.4848\n",
            "INFO:__main__:Epoch 31 - Score: 15.4848\n",
            "Validation loss Improved (241.3220543598434 ---> 239.7776541105952)\n",
            "INFO:__main__:Validation loss Improved (241.3220543598434 ---> 239.7776541105952)\n",
            "Epoch 31 - Save Best Loss: 239.7777 Model\n",
            "INFO:__main__:Epoch 31 - Save Best Loss: 239.7777 Model\n"
          ]
        },
        {
          "output_type": "stream",
          "name": "stdout",
          "text": [
            "EVAL: [1105/1106] Elapsed 0m 8s (remain 0m 0s) Loss: 32.1823(239.7777) \n",
            "Epoch: [32][0/9962] Elapsed 0m 0s (remain 19m 16s) Loss: 391.1733(391.1733) Grad: 28952.3633 LR: 0.000016  \n",
            "Epoch: [32][2000/9962] Elapsed 0m 22s (remain 1m 28s) Loss: 227.4860(258.0137) Grad: 69285.4062 LR: 0.000016  \n",
            "Epoch: [32][4000/9962] Elapsed 0m 43s (remain 1m 4s) Loss: 35.7013(246.9694) Grad: 10932.7852 LR: 0.000016  \n",
            "Epoch: [32][6000/9962] Elapsed 1m 4s (remain 0m 42s) Loss: 158.1155(245.2056) Grad: 23376.8848 LR: 0.000016  \n",
            "Epoch: [32][8000/9962] Elapsed 1m 26s (remain 0m 21s) Loss: 81.9786(241.2263) Grad: 8828.8311 LR: 0.000016  \n",
            "Epoch: [32][9961/9962] Elapsed 1m 47s (remain 0m 0s) Loss: 208.2855(239.6157) Grad: 26528.4746 LR: 0.000016  \n",
            "EVAL: [0/1106] Elapsed 0m 0s (remain 2m 15s) Loss: 18.0652(18.0652) \n"
          ]
        },
        {
          "output_type": "stream",
          "name": "stderr",
          "text": [
            "Epoch 32 - avg_train_loss: 239.6157  avg_val_loss: 238.6258  time: 117s\n",
            "INFO:__main__:Epoch 32 - avg_train_loss: 239.6157  avg_val_loss: 238.6258  time: 117s\n",
            "Epoch 32 - Score: 15.4475\n",
            "INFO:__main__:Epoch 32 - Score: 15.4475\n",
            "Validation loss Improved (239.7776541105952 ---> 238.62584762251927)\n",
            "INFO:__main__:Validation loss Improved (239.7776541105952 ---> 238.62584762251927)\n",
            "Epoch 32 - Save Best Loss: 238.6258 Model\n",
            "INFO:__main__:Epoch 32 - Save Best Loss: 238.6258 Model\n"
          ]
        },
        {
          "output_type": "stream",
          "name": "stdout",
          "text": [
            "EVAL: [1105/1106] Elapsed 0m 8s (remain 0m 0s) Loss: 30.6762(238.6258) \n",
            "Epoch: [33][0/9962] Elapsed 0m 0s (remain 20m 43s) Loss: 369.8674(369.8674) Grad: 36021.5547 LR: 0.000033  \n",
            "Epoch: [33][2000/9962] Elapsed 0m 22s (remain 1m 28s) Loss: 199.7492(258.9498) Grad: 54917.2461 LR: 0.000033  \n",
            "Epoch: [33][4000/9962] Elapsed 0m 43s (remain 1m 4s) Loss: 40.9089(248.3240) Grad: 9139.6064 LR: 0.000033  \n",
            "Epoch: [33][6000/9962] Elapsed 1m 5s (remain 0m 43s) Loss: 186.7741(246.6642) Grad: 34620.6445 LR: 0.000033  \n",
            "Epoch: [33][8000/9962] Elapsed 1m 26s (remain 0m 21s) Loss: 88.4834(242.5533) Grad: 9378.3389 LR: 0.000033  \n",
            "Epoch: [33][9961/9962] Elapsed 1m 47s (remain 0m 0s) Loss: 245.3722(240.7523) Grad: 47830.9844 LR: 0.000033  \n",
            "EVAL: [0/1106] Elapsed 0m 0s (remain 1m 56s) Loss: 17.6365(17.6365) \n"
          ]
        },
        {
          "output_type": "stream",
          "name": "stderr",
          "text": [
            "Epoch 33 - avg_train_loss: 240.7523  avg_val_loss: 238.1708  time: 117s\n",
            "INFO:__main__:Epoch 33 - avg_train_loss: 240.7523  avg_val_loss: 238.1708  time: 117s\n",
            "Epoch 33 - Score: 15.4328\n",
            "INFO:__main__:Epoch 33 - Score: 15.4328\n",
            "Validation loss Improved (238.62584762251927 ---> 238.1708398454148)\n",
            "INFO:__main__:Validation loss Improved (238.62584762251927 ---> 238.1708398454148)\n",
            "Epoch 33 - Save Best Loss: 238.1708 Model\n",
            "INFO:__main__:Epoch 33 - Save Best Loss: 238.1708 Model\n"
          ]
        },
        {
          "output_type": "stream",
          "name": "stdout",
          "text": [
            "EVAL: [1105/1106] Elapsed 0m 8s (remain 0m 0s) Loss: 32.7871(238.1708) \n",
            "Epoch: [34][0/9962] Elapsed 0m 0s (remain 19m 59s) Loss: 359.6936(359.6936) Grad: 35495.6016 LR: 0.000055  \n",
            "Epoch: [34][2000/9962] Elapsed 0m 21s (remain 1m 24s) Loss: 182.8421(260.5188) Grad: 38476.4219 LR: 0.000055  \n",
            "Epoch: [34][4000/9962] Elapsed 0m 43s (remain 1m 4s) Loss: 49.6948(250.3755) Grad: 21609.1250 LR: 0.000055  \n",
            "Epoch: [34][6000/9962] Elapsed 1m 5s (remain 0m 42s) Loss: 165.7316(248.8750) Grad: 11582.1436 LR: 0.000055  \n",
            "Epoch: [34][8000/9962] Elapsed 1m 25s (remain 0m 20s) Loss: 102.7301(245.1109) Grad: 10035.2754 LR: 0.000055  \n",
            "Epoch: [34][9961/9962] Elapsed 1m 47s (remain 0m 0s) Loss: 233.5946(243.4485) Grad: 27754.2500 LR: 0.000055  \n",
            "EVAL: [0/1106] Elapsed 0m 0s (remain 2m 2s) Loss: 26.4178(26.4178) \n"
          ]
        },
        {
          "output_type": "stream",
          "name": "stderr",
          "text": [
            "Epoch 34 - avg_train_loss: 243.4485  avg_val_loss: 238.8210  time: 117s\n",
            "INFO:__main__:Epoch 34 - avg_train_loss: 243.4485  avg_val_loss: 238.8210  time: 117s\n",
            "Epoch 34 - Score: 15.4538\n",
            "INFO:__main__:Epoch 34 - Score: 15.4538\n"
          ]
        },
        {
          "output_type": "stream",
          "name": "stdout",
          "text": [
            "EVAL: [1105/1106] Elapsed 0m 9s (remain 0m 0s) Loss: 32.0186(238.8210) \n",
            "Epoch: [35][0/9962] Elapsed 0m 0s (remain 20m 28s) Loss: 313.7650(313.7650) Grad: 23583.5762 LR: 0.000078  \n",
            "Epoch: [35][2000/9962] Elapsed 0m 21s (remain 1m 25s) Loss: 213.6759(264.3673) Grad: 65548.6172 LR: 0.000078  \n",
            "Epoch: [35][4000/9962] Elapsed 0m 43s (remain 1m 5s) Loss: 39.5205(253.2438) Grad: 12028.3486 LR: 0.000078  \n",
            "Epoch: [35][6000/9962] Elapsed 1m 5s (remain 0m 43s) Loss: 204.7951(251.6995) Grad: 36943.0625 LR: 0.000078  \n",
            "Epoch: [35][8000/9962] Elapsed 1m 26s (remain 0m 21s) Loss: 94.4335(247.8665) Grad: 8159.9565 LR: 0.000078  \n",
            "Epoch: [35][9961/9962] Elapsed 1m 47s (remain 0m 0s) Loss: 217.7262(246.0105) Grad: 26398.4297 LR: 0.000078  \n",
            "EVAL: [0/1106] Elapsed 0m 0s (remain 1m 54s) Loss: 17.4062(17.4062) \n"
          ]
        },
        {
          "output_type": "stream",
          "name": "stderr",
          "text": [
            "Epoch 35 - avg_train_loss: 246.0105  avg_val_loss: 242.5387  time: 116s\n",
            "INFO:__main__:Epoch 35 - avg_train_loss: 246.0105  avg_val_loss: 242.5387  time: 116s\n",
            "Epoch 35 - Score: 15.5737\n",
            "INFO:__main__:Epoch 35 - Score: 15.5737\n"
          ]
        },
        {
          "output_type": "stream",
          "name": "stdout",
          "text": [
            "EVAL: [1105/1106] Elapsed 0m 8s (remain 0m 0s) Loss: 32.2460(242.5387) \n",
            "Epoch: [36][0/9962] Elapsed 0m 0s (remain 27m 21s) Loss: 343.0940(343.0940) Grad: 20773.6602 LR: 0.000094  \n",
            "Epoch: [36][2000/9962] Elapsed 0m 21s (remain 1m 26s) Loss: 192.0964(265.8655) Grad: 28581.6250 LR: 0.000094  \n",
            "Epoch: [36][4000/9962] Elapsed 0m 43s (remain 1m 5s) Loss: 53.8835(256.2833) Grad: 20513.0078 LR: 0.000094  \n",
            "Epoch: [36][6000/9962] Elapsed 1m 4s (remain 0m 42s) Loss: 136.3651(254.5371) Grad: 24525.8438 LR: 0.000094  \n",
            "Epoch: [36][8000/9962] Elapsed 1m 26s (remain 0m 21s) Loss: 85.0603(250.8788) Grad: 9517.9355 LR: 0.000094  \n",
            "Epoch: [36][9961/9962] Elapsed 1m 46s (remain 0m 0s) Loss: 263.4033(249.2352) Grad: 59043.9297 LR: 0.000094  \n",
            "EVAL: [0/1106] Elapsed 0m 0s (remain 2m 47s) Loss: 20.5841(20.5841) \n"
          ]
        },
        {
          "output_type": "stream",
          "name": "stderr",
          "text": [
            "Epoch 36 - avg_train_loss: 249.2352  avg_val_loss: 256.5310  time: 116s\n",
            "INFO:__main__:Epoch 36 - avg_train_loss: 249.2352  avg_val_loss: 256.5310  time: 116s\n",
            "Epoch 36 - Score: 16.0166\n",
            "INFO:__main__:Epoch 36 - Score: 16.0166\n"
          ]
        },
        {
          "output_type": "stream",
          "name": "stdout",
          "text": [
            "EVAL: [1105/1106] Elapsed 0m 8s (remain 0m 0s) Loss: 41.4950(256.5310) \n",
            "Epoch: [37][0/9962] Elapsed 0m 0s (remain 19m 52s) Loss: 341.1061(341.1061) Grad: 30559.2988 LR: 0.000100  \n",
            "Epoch: [37][2000/9962] Elapsed 0m 22s (remain 1m 27s) Loss: 172.7242(266.3820) Grad: 26609.4121 LR: 0.000100  \n",
            "Epoch: [37][4000/9962] Elapsed 0m 42s (remain 1m 3s) Loss: 47.5830(256.0564) Grad: 13676.3828 LR: 0.000100  \n",
            "Epoch: [37][6000/9962] Elapsed 1m 4s (remain 0m 42s) Loss: 182.5927(254.9563) Grad: 45845.1758 LR: 0.000100  \n",
            "Epoch: [37][8000/9962] Elapsed 1m 26s (remain 0m 21s) Loss: 86.0351(250.8849) Grad: 6005.8013 LR: 0.000100  \n",
            "Epoch: [37][9961/9962] Elapsed 1m 46s (remain 0m 0s) Loss: 284.7225(249.0878) Grad: 86600.3906 LR: 0.000100  \n",
            "EVAL: [0/1106] Elapsed 0m 0s (remain 1m 55s) Loss: 21.1524(21.1524) \n"
          ]
        },
        {
          "output_type": "stream",
          "name": "stderr",
          "text": [
            "Epoch 37 - avg_train_loss: 249.0878  avg_val_loss: 250.9381  time: 116s\n",
            "INFO:__main__:Epoch 37 - avg_train_loss: 249.0878  avg_val_loss: 250.9381  time: 116s\n",
            "Epoch 37 - Score: 15.8410\n",
            "INFO:__main__:Epoch 37 - Score: 15.8410\n"
          ]
        },
        {
          "output_type": "stream",
          "name": "stdout",
          "text": [
            "EVAL: [1105/1106] Elapsed 0m 8s (remain 0m 0s) Loss: 39.8920(250.9381) \n",
            "Epoch: [38][0/9962] Elapsed 0m 0s (remain 20m 50s) Loss: 322.5352(322.5352) Grad: 27989.8750 LR: 0.000094  \n",
            "Epoch: [38][2000/9962] Elapsed 0m 21s (remain 1m 25s) Loss: 197.6301(265.3279) Grad: 49252.1445 LR: 0.000094  \n",
            "Epoch: [38][4000/9962] Elapsed 0m 42s (remain 1m 3s) Loss: 44.0994(254.3786) Grad: 9371.3945 LR: 0.000094  \n",
            "Epoch: [38][6000/9962] Elapsed 1m 4s (remain 0m 42s) Loss: 182.3671(253.2595) Grad: 61659.9258 LR: 0.000094  \n",
            "Epoch: [38][8000/9962] Elapsed 1m 25s (remain 0m 20s) Loss: 91.3478(249.2734) Grad: 9541.6426 LR: 0.000094  \n",
            "Epoch: [38][9961/9962] Elapsed 1m 46s (remain 0m 0s) Loss: 274.0820(247.7159) Grad: 42782.1094 LR: 0.000094  \n",
            "EVAL: [0/1106] Elapsed 0m 0s (remain 1m 55s) Loss: 22.1288(22.1288) \n"
          ]
        },
        {
          "output_type": "stream",
          "name": "stderr",
          "text": [
            "Epoch 38 - avg_train_loss: 247.7159  avg_val_loss: 254.4592  time: 116s\n",
            "INFO:__main__:Epoch 38 - avg_train_loss: 247.7159  avg_val_loss: 254.4592  time: 116s\n",
            "Epoch 38 - Score: 15.9518\n",
            "INFO:__main__:Epoch 38 - Score: 15.9518\n"
          ]
        },
        {
          "output_type": "stream",
          "name": "stdout",
          "text": [
            "EVAL: [1105/1106] Elapsed 0m 9s (remain 0m 0s) Loss: 39.7360(254.4592) \n",
            "Epoch: [39][0/9962] Elapsed 0m 0s (remain 19m 33s) Loss: 320.5394(320.5394) Grad: 28161.9746 LR: 0.000078  \n",
            "Epoch: [39][2000/9962] Elapsed 0m 20s (remain 1m 22s) Loss: 162.5720(261.3910) Grad: 28402.0117 LR: 0.000078  \n",
            "Epoch: [39][4000/9962] Elapsed 0m 42s (remain 1m 3s) Loss: 41.6203(250.7196) Grad: 10649.6123 LR: 0.000078  \n",
            "Epoch: [39][6000/9962] Elapsed 1m 3s (remain 0m 42s) Loss: 163.5468(250.0602) Grad: 36951.2344 LR: 0.000078  \n",
            "Epoch: [39][8000/9962] Elapsed 1m 25s (remain 0m 20s) Loss: 99.0408(245.8722) Grad: 10485.6270 LR: 0.000078  \n",
            "Epoch: [39][9961/9962] Elapsed 1m 46s (remain 0m 0s) Loss: 327.2984(244.1447) Grad: 88578.4297 LR: 0.000078  \n",
            "EVAL: [0/1106] Elapsed 0m 0s (remain 1m 56s) Loss: 17.0823(17.0823) \n"
          ]
        },
        {
          "output_type": "stream",
          "name": "stderr",
          "text": [
            "Epoch 39 - avg_train_loss: 244.1447  avg_val_loss: 242.1904  time: 115s\n",
            "INFO:__main__:Epoch 39 - avg_train_loss: 244.1447  avg_val_loss: 242.1904  time: 115s\n",
            "Epoch 39 - Score: 15.5625\n",
            "INFO:__main__:Epoch 39 - Score: 15.5625\n"
          ]
        },
        {
          "output_type": "stream",
          "name": "stdout",
          "text": [
            "EVAL: [1105/1106] Elapsed 0m 7s (remain 0m 0s) Loss: 37.7251(242.1904) \n",
            "Epoch: [40][0/9962] Elapsed 0m 0s (remain 20m 8s) Loss: 391.4087(391.4087) Grad: 29244.1719 LR: 0.000055  \n",
            "Epoch: [40][2000/9962] Elapsed 0m 22s (remain 1m 27s) Loss: 173.2501(258.7978) Grad: 43002.9141 LR: 0.000055  \n",
            "Epoch: [40][4000/9962] Elapsed 0m 43s (remain 1m 5s) Loss: 38.0684(247.0928) Grad: 4283.5884 LR: 0.000055  \n",
            "Epoch: [40][6000/9962] Elapsed 1m 4s (remain 0m 42s) Loss: 144.3077(245.1546) Grad: 25387.4473 LR: 0.000055  \n",
            "Epoch: [40][8000/9962] Elapsed 1m 26s (remain 0m 21s) Loss: 100.3704(240.8189) Grad: 21595.0312 LR: 0.000055  \n",
            "Epoch: [40][9961/9962] Elapsed 1m 47s (remain 0m 0s) Loss: 226.8659(239.3001) Grad: 46715.1641 LR: 0.000055  \n",
            "EVAL: [0/1106] Elapsed 0m 0s (remain 1m 55s) Loss: 15.7294(15.7294) \n"
          ]
        },
        {
          "output_type": "stream",
          "name": "stderr",
          "text": [
            "Epoch 40 - avg_train_loss: 239.3001  avg_val_loss: 240.2461  time: 116s\n",
            "INFO:__main__:Epoch 40 - avg_train_loss: 239.3001  avg_val_loss: 240.2461  time: 116s\n",
            "Epoch 40 - Score: 15.4999\n",
            "INFO:__main__:Epoch 40 - Score: 15.4999\n"
          ]
        },
        {
          "output_type": "stream",
          "name": "stdout",
          "text": [
            "EVAL: [1105/1106] Elapsed 0m 8s (remain 0m 0s) Loss: 30.5534(240.2461) \n",
            "Epoch: [41][0/9962] Elapsed 0m 0s (remain 21m 59s) Loss: 337.2602(337.2602) Grad: 18849.6484 LR: 0.000033  \n",
            "Epoch: [41][2000/9962] Elapsed 0m 22s (remain 1m 28s) Loss: 176.5976(255.0447) Grad: 32387.5273 LR: 0.000033  \n",
            "Epoch: [41][4000/9962] Elapsed 0m 42s (remain 1m 3s) Loss: 39.0196(244.0400) Grad: 4235.2788 LR: 0.000033  \n",
            "Epoch: [41][6000/9962] Elapsed 1m 4s (remain 0m 42s) Loss: 163.6055(241.9828) Grad: 57723.9414 LR: 0.000033  \n",
            "Epoch: [41][8000/9962] Elapsed 1m 26s (remain 0m 21s) Loss: 85.0501(237.8321) Grad: 11334.3008 LR: 0.000033  \n",
            "Epoch: [41][9961/9962] Elapsed 1m 47s (remain 0m 0s) Loss: 251.5105(236.4157) Grad: 76410.7969 LR: 0.000033  \n",
            "EVAL: [0/1106] Elapsed 0m 0s (remain 1m 54s) Loss: 14.6684(14.6684) \n"
          ]
        },
        {
          "output_type": "stream",
          "name": "stderr",
          "text": [
            "Epoch 41 - avg_train_loss: 236.4157  avg_val_loss: 234.2901  time: 116s\n",
            "INFO:__main__:Epoch 41 - avg_train_loss: 236.4157  avg_val_loss: 234.2901  time: 116s\n",
            "Epoch 41 - Score: 15.3065\n",
            "INFO:__main__:Epoch 41 - Score: 15.3065\n",
            "Validation loss Improved (238.1708398454148 ---> 234.29007156807893)\n",
            "INFO:__main__:Validation loss Improved (238.1708398454148 ---> 234.29007156807893)\n",
            "Epoch 41 - Save Best Loss: 234.2901 Model\n",
            "INFO:__main__:Epoch 41 - Save Best Loss: 234.2901 Model\n"
          ]
        },
        {
          "output_type": "stream",
          "name": "stdout",
          "text": [
            "EVAL: [1105/1106] Elapsed 0m 9s (remain 0m 0s) Loss: 31.7127(234.2901) \n",
            "Epoch: [42][0/9962] Elapsed 0m 0s (remain 22m 19s) Loss: 342.7834(342.7834) Grad: 35860.9609 LR: 0.000016  \n",
            "Epoch: [42][2000/9962] Elapsed 0m 21s (remain 1m 23s) Loss: 179.0939(253.9821) Grad: 45348.6953 LR: 0.000016  \n",
            "Epoch: [42][4000/9962] Elapsed 0m 42s (remain 1m 3s) Loss: 41.1531(242.5196) Grad: 13001.7012 LR: 0.000016  \n",
            "Epoch: [42][6000/9962] Elapsed 1m 4s (remain 0m 42s) Loss: 185.3032(240.3516) Grad: 40222.5039 LR: 0.000016  \n",
            "Epoch: [42][8000/9962] Elapsed 1m 25s (remain 0m 20s) Loss: 90.3516(235.8136) Grad: 15191.3711 LR: 0.000016  \n",
            "Epoch: [42][9961/9962] Elapsed 1m 47s (remain 0m 0s) Loss: 253.5769(234.4432) Grad: 36822.0352 LR: 0.000016  \n",
            "EVAL: [0/1106] Elapsed 0m 0s (remain 1m 57s) Loss: 15.2126(15.2126) \n",
            "EVAL: [1105/1106] Elapsed 0m 8s (remain 0m 0s) Loss: 30.2271(234.2703) \n"
          ]
        },
        {
          "output_type": "stream",
          "name": "stderr",
          "text": [
            "Epoch 42 - avg_train_loss: 234.4432  avg_val_loss: 234.2703  time: 116s\n",
            "INFO:__main__:Epoch 42 - avg_train_loss: 234.4432  avg_val_loss: 234.2703  time: 116s\n",
            "Epoch 42 - Score: 15.3059\n",
            "INFO:__main__:Epoch 42 - Score: 15.3059\n",
            "Validation loss Improved (234.29007156807893 ---> 234.270341770952)\n",
            "INFO:__main__:Validation loss Improved (234.29007156807893 ---> 234.270341770952)\n",
            "Epoch 42 - Save Best Loss: 234.2703 Model\n",
            "INFO:__main__:Epoch 42 - Save Best Loss: 234.2703 Model\n"
          ]
        },
        {
          "output_type": "stream",
          "name": "stdout",
          "text": [
            "Epoch: [43][0/9962] Elapsed 0m 0s (remain 27m 33s) Loss: 311.3381(311.3381) Grad: 32008.2461 LR: 0.000010  \n",
            "Epoch: [43][2000/9962] Elapsed 0m 20s (remain 1m 23s) Loss: 183.2467(252.3572) Grad: 38581.7812 LR: 0.000010  \n",
            "Epoch: [43][4000/9962] Elapsed 0m 42s (remain 1m 3s) Loss: 46.2207(241.8793) Grad: 7665.8359 LR: 0.000010  \n",
            "Epoch: [43][6000/9962] Elapsed 1m 3s (remain 0m 41s) Loss: 153.8049(239.6369) Grad: 22208.9531 LR: 0.000010  \n",
            "Epoch: [43][8000/9962] Elapsed 1m 25s (remain 0m 20s) Loss: 90.1898(234.9168) Grad: 8128.7251 LR: 0.000010  \n",
            "Epoch: [43][9961/9962] Elapsed 1m 46s (remain 0m 0s) Loss: 288.1880(233.3575) Grad: 101058.5469 LR: 0.000010  \n",
            "EVAL: [0/1106] Elapsed 0m 0s (remain 1m 59s) Loss: 15.0786(15.0786) \n"
          ]
        },
        {
          "output_type": "stream",
          "name": "stderr",
          "text": [
            "Epoch 43 - avg_train_loss: 233.3575  avg_val_loss: 231.8374  time: 115s\n",
            "INFO:__main__:Epoch 43 - avg_train_loss: 233.3575  avg_val_loss: 231.8374  time: 115s\n",
            "Epoch 43 - Score: 15.2262\n",
            "INFO:__main__:Epoch 43 - Score: 15.2262\n",
            "Validation loss Improved (234.270341770952 ---> 231.83743627804785)\n",
            "INFO:__main__:Validation loss Improved (234.270341770952 ---> 231.83743627804785)\n",
            "Epoch 43 - Save Best Loss: 231.8374 Model\n",
            "INFO:__main__:Epoch 43 - Save Best Loss: 231.8374 Model\n"
          ]
        },
        {
          "output_type": "stream",
          "name": "stdout",
          "text": [
            "EVAL: [1105/1106] Elapsed 0m 8s (remain 0m 0s) Loss: 32.2012(231.8374) \n",
            "Epoch: [44][0/9962] Elapsed 0m 0s (remain 19m 43s) Loss: 323.9244(323.9244) Grad: 35442.2188 LR: 0.000016  \n",
            "Epoch: [44][2000/9962] Elapsed 0m 21s (remain 1m 27s) Loss: 203.3296(251.4723) Grad: 43700.5977 LR: 0.000016  \n",
            "Epoch: [44][4000/9962] Elapsed 0m 43s (remain 1m 5s) Loss: 37.7681(240.3895) Grad: 9940.4609 LR: 0.000016  \n",
            "Epoch: [44][6000/9962] Elapsed 1m 4s (remain 0m 42s) Loss: 152.0123(238.6206) Grad: 29068.4570 LR: 0.000016  \n",
            "Epoch: [44][8000/9962] Elapsed 1m 26s (remain 0m 21s) Loss: 81.8199(234.3843) Grad: 9963.4873 LR: 0.000016  \n",
            "Epoch: [44][9961/9962] Elapsed 1m 46s (remain 0m 0s) Loss: 253.7583(233.1530) Grad: 23261.5957 LR: 0.000016  \n",
            "EVAL: [0/1106] Elapsed 0m 0s (remain 1m 57s) Loss: 15.0224(15.0224) \n"
          ]
        },
        {
          "output_type": "stream",
          "name": "stderr",
          "text": [
            "Epoch 44 - avg_train_loss: 233.1530  avg_val_loss: 231.7429  time: 116s\n",
            "INFO:__main__:Epoch 44 - avg_train_loss: 233.1530  avg_val_loss: 231.7429  time: 116s\n",
            "Epoch 44 - Score: 15.2231\n",
            "INFO:__main__:Epoch 44 - Score: 15.2231\n",
            "Validation loss Improved (231.83743627804785 ---> 231.74285032772156)\n",
            "INFO:__main__:Validation loss Improved (231.83743627804785 ---> 231.74285032772156)\n",
            "Epoch 44 - Save Best Loss: 231.7429 Model\n",
            "INFO:__main__:Epoch 44 - Save Best Loss: 231.7429 Model\n"
          ]
        },
        {
          "output_type": "stream",
          "name": "stdout",
          "text": [
            "EVAL: [1105/1106] Elapsed 0m 8s (remain 0m 0s) Loss: 28.1604(231.7429) \n",
            "Epoch: [45][0/9962] Elapsed 0m 0s (remain 19m 21s) Loss: 366.5138(366.5138) Grad: 33186.0078 LR: 0.000033  \n",
            "Epoch: [45][2000/9962] Elapsed 0m 22s (remain 1m 27s) Loss: 183.5623(252.6030) Grad: 61277.5234 LR: 0.000033  \n",
            "Epoch: [45][4000/9962] Elapsed 0m 42s (remain 1m 3s) Loss: 35.0660(241.8166) Grad: 4757.9341 LR: 0.000033  \n",
            "Epoch: [45][6000/9962] Elapsed 1m 4s (remain 0m 42s) Loss: 157.3858(240.1055) Grad: 30643.9980 LR: 0.000033  \n",
            "Epoch: [45][8000/9962] Elapsed 1m 26s (remain 0m 21s) Loss: 114.6735(235.6074) Grad: 12667.0322 LR: 0.000033  \n",
            "Epoch: [45][9961/9962] Elapsed 1m 46s (remain 0m 0s) Loss: 291.2057(234.3518) Grad: 112281.4531 LR: 0.000033  \n",
            "EVAL: [0/1106] Elapsed 0m 0s (remain 2m 0s) Loss: 15.1127(15.1127) \n"
          ]
        },
        {
          "output_type": "stream",
          "name": "stderr",
          "text": [
            "Epoch 45 - avg_train_loss: 234.3518  avg_val_loss: 231.4356  time: 116s\n",
            "INFO:__main__:Epoch 45 - avg_train_loss: 234.3518  avg_val_loss: 231.4356  time: 116s\n",
            "Epoch 45 - Score: 15.2130\n",
            "INFO:__main__:Epoch 45 - Score: 15.2130\n",
            "Validation loss Improved (231.74285032772156 ---> 231.43560487631873)\n",
            "INFO:__main__:Validation loss Improved (231.74285032772156 ---> 231.43560487631873)\n",
            "Epoch 45 - Save Best Loss: 231.4356 Model\n",
            "INFO:__main__:Epoch 45 - Save Best Loss: 231.4356 Model\n"
          ]
        },
        {
          "output_type": "stream",
          "name": "stdout",
          "text": [
            "EVAL: [1105/1106] Elapsed 0m 9s (remain 0m 0s) Loss: 27.0112(231.4356) \n",
            "Epoch: [46][0/9962] Elapsed 0m 0s (remain 19m 35s) Loss: 357.5208(357.5208) Grad: 33860.6055 LR: 0.000055  \n",
            "Epoch: [46][2000/9962] Elapsed 0m 20s (remain 1m 23s) Loss: 189.9179(253.4471) Grad: 60100.5547 LR: 0.000055  \n",
            "Epoch: [46][4000/9962] Elapsed 0m 42s (remain 1m 3s) Loss: 31.1304(243.8237) Grad: 3820.4189 LR: 0.000055  \n",
            "Epoch: [46][6000/9962] Elapsed 1m 4s (remain 0m 42s) Loss: 202.8772(242.3631) Grad: 52531.5430 LR: 0.000055  \n",
            "Epoch: [46][8000/9962] Elapsed 1m 25s (remain 0m 20s) Loss: 96.6862(238.2231) Grad: 11219.7939 LR: 0.000055  \n",
            "Epoch: [46][9961/9962] Elapsed 1m 46s (remain 0m 0s) Loss: 307.4361(236.7808) Grad: 59456.1016 LR: 0.000055  \n",
            "EVAL: [0/1106] Elapsed 0m 0s (remain 2m 9s) Loss: 15.9870(15.9870) \n",
            "EVAL: [1105/1106] Elapsed 0m 8s (remain 0m 0s) Loss: 37.1329(233.2561) \n"
          ]
        },
        {
          "output_type": "stream",
          "name": "stderr",
          "text": [
            "Epoch 46 - avg_train_loss: 236.7808  avg_val_loss: 233.2561  time: 116s\n",
            "INFO:__main__:Epoch 46 - avg_train_loss: 236.7808  avg_val_loss: 233.2561  time: 116s\n",
            "Epoch 46 - Score: 15.2727\n",
            "INFO:__main__:Epoch 46 - Score: 15.2727\n"
          ]
        },
        {
          "output_type": "stream",
          "name": "stdout",
          "text": [
            "Epoch: [47][0/9962] Elapsed 0m 0s (remain 28m 9s) Loss: 331.5665(331.5665) Grad: 20463.8945 LR: 0.000078  \n",
            "Epoch: [47][2000/9962] Elapsed 0m 21s (remain 1m 24s) Loss: 172.6866(257.9028) Grad: 56562.9062 LR: 0.000078  \n",
            "Epoch: [47][4000/9962] Elapsed 0m 43s (remain 1m 4s) Loss: 47.1239(247.5535) Grad: 12610.9902 LR: 0.000078  \n",
            "Epoch: [47][6000/9962] Elapsed 1m 4s (remain 0m 42s) Loss: 163.7959(245.8914) Grad: 28560.3438 LR: 0.000078  \n",
            "Epoch: [47][8000/9962] Elapsed 1m 26s (remain 0m 21s) Loss: 83.9849(241.8119) Grad: 6839.0957 LR: 0.000078  \n",
            "Epoch: [47][9961/9962] Elapsed 1m 47s (remain 0m 0s) Loss: 232.8149(240.5430) Grad: 28049.7051 LR: 0.000078  \n",
            "EVAL: [0/1106] Elapsed 0m 0s (remain 1m 53s) Loss: 14.9415(14.9415) \n"
          ]
        },
        {
          "output_type": "stream",
          "name": "stderr",
          "text": [
            "Epoch 47 - avg_train_loss: 240.5430  avg_val_loss: 240.3998  time: 116s\n",
            "INFO:__main__:Epoch 47 - avg_train_loss: 240.5430  avg_val_loss: 240.3998  time: 116s\n",
            "Epoch 47 - Score: 15.5048\n",
            "INFO:__main__:Epoch 47 - Score: 15.5048\n"
          ]
        },
        {
          "output_type": "stream",
          "name": "stdout",
          "text": [
            "EVAL: [1105/1106] Elapsed 0m 8s (remain 0m 0s) Loss: 37.0359(240.3998) \n",
            "Epoch: [48][0/9962] Elapsed 0m 0s (remain 19m 49s) Loss: 363.8652(363.8652) Grad: 27412.8340 LR: 0.000094  \n",
            "Epoch: [48][2000/9962] Elapsed 0m 22s (remain 1m 28s) Loss: 189.5948(260.1839) Grad: 36106.1367 LR: 0.000094  \n",
            "Epoch: [48][4000/9962] Elapsed 0m 44s (remain 1m 6s) Loss: 45.8068(249.4804) Grad: 13773.3799 LR: 0.000094  \n",
            "Epoch: [48][6000/9962] Elapsed 1m 5s (remain 0m 43s) Loss: 158.5825(248.5052) Grad: 30168.7129 LR: 0.000094  \n",
            "Epoch: [48][8000/9962] Elapsed 1m 27s (remain 0m 21s) Loss: 87.9220(244.4393) Grad: 9237.7402 LR: 0.000094  \n",
            "Epoch: [48][9961/9962] Elapsed 1m 47s (remain 0m 0s) Loss: 361.9299(243.2361) Grad: 71128.5078 LR: 0.000094  \n",
            "EVAL: [0/1106] Elapsed 0m 0s (remain 2m 46s) Loss: 17.5841(17.5841) \n"
          ]
        },
        {
          "output_type": "stream",
          "name": "stderr",
          "text": [
            "Epoch 48 - avg_train_loss: 243.2361  avg_val_loss: 239.0177  time: 117s\n",
            "INFO:__main__:Epoch 48 - avg_train_loss: 243.2361  avg_val_loss: 239.0177  time: 117s\n",
            "Epoch 48 - Score: 15.4602\n",
            "INFO:__main__:Epoch 48 - Score: 15.4602\n"
          ]
        },
        {
          "output_type": "stream",
          "name": "stdout",
          "text": [
            "EVAL: [1105/1106] Elapsed 0m 8s (remain 0m 0s) Loss: 36.1247(239.0177) \n",
            "Epoch: [49][0/9962] Elapsed 0m 0s (remain 20m 3s) Loss: 363.8426(363.8426) Grad: 42828.6758 LR: 0.000100  \n",
            "Epoch: [49][2000/9962] Elapsed 0m 22s (remain 1m 27s) Loss: 168.4593(262.1020) Grad: 23631.0078 LR: 0.000100  \n",
            "Epoch: [49][4000/9962] Elapsed 0m 42s (remain 1m 3s) Loss: 41.8630(249.7599) Grad: 6375.1318 LR: 0.000100  \n",
            "Epoch: [49][6000/9962] Elapsed 1m 4s (remain 0m 42s) Loss: 159.2974(249.0905) Grad: 17283.5410 LR: 0.000100  \n",
            "Epoch: [49][8000/9962] Elapsed 1m 26s (remain 0m 21s) Loss: 95.1698(245.5694) Grad: 11551.2568 LR: 0.000100  \n",
            "Epoch: [49][9961/9962] Elapsed 1m 47s (remain 0m 0s) Loss: 348.2194(243.5740) Grad: 98669.9844 LR: 0.000100  \n",
            "EVAL: [0/1106] Elapsed 0m 0s (remain 1m 55s) Loss: 18.7954(18.7954) \n"
          ]
        },
        {
          "output_type": "stream",
          "name": "stderr",
          "text": [
            "Epoch 49 - avg_train_loss: 243.5740  avg_val_loss: 246.4547  time: 116s\n",
            "INFO:__main__:Epoch 49 - avg_train_loss: 243.5740  avg_val_loss: 246.4547  time: 116s\n",
            "Epoch 49 - Score: 15.6989\n",
            "INFO:__main__:Epoch 49 - Score: 15.6989\n"
          ]
        },
        {
          "output_type": "stream",
          "name": "stdout",
          "text": [
            "EVAL: [1105/1106] Elapsed 0m 8s (remain 0m 0s) Loss: 33.3341(246.4547) \n",
            "Epoch: [50][0/9962] Elapsed 0m 0s (remain 21m 7s) Loss: 319.2676(319.2676) Grad: 32208.3594 LR: 0.000094  \n",
            "Epoch: [50][2000/9962] Elapsed 0m 21s (remain 1m 25s) Loss: 144.9854(259.2733) Grad: 23206.3379 LR: 0.000094  \n",
            "Epoch: [50][4000/9962] Elapsed 0m 42s (remain 1m 3s) Loss: 39.7234(249.0691) Grad: 5716.5259 LR: 0.000094  \n",
            "Epoch: [50][6000/9962] Elapsed 1m 5s (remain 0m 42s) Loss: 170.3902(248.3857) Grad: 17049.2715 LR: 0.000094  \n",
            "Epoch: [50][8000/9962] Elapsed 1m 25s (remain 0m 21s) Loss: 99.3894(244.2886) Grad: 12215.8447 LR: 0.000094  \n",
            "Epoch: [50][9961/9962] Elapsed 1m 47s (remain 0m 0s) Loss: 362.3943(242.6583) Grad: 129774.5156 LR: 0.000094  \n",
            "EVAL: [0/1106] Elapsed 0m 0s (remain 2m 7s) Loss: 14.1986(14.1986) \n"
          ]
        },
        {
          "output_type": "stream",
          "name": "stderr",
          "text": [
            "Epoch 50 - avg_train_loss: 242.6583  avg_val_loss: 254.1293  time: 117s\n",
            "INFO:__main__:Epoch 50 - avg_train_loss: 242.6583  avg_val_loss: 254.1293  time: 117s\n",
            "Epoch 50 - Score: 15.9414\n",
            "INFO:__main__:Epoch 50 - Score: 15.9414\n"
          ]
        },
        {
          "output_type": "stream",
          "name": "stdout",
          "text": [
            "EVAL: [1105/1106] Elapsed 0m 9s (remain 0m 0s) Loss: 31.3726(254.1293) \n",
            "Epoch: [51][0/9962] Elapsed 0m 0s (remain 19m 33s) Loss: 317.0178(317.0178) Grad: 29187.7188 LR: 0.000078  \n",
            "Epoch: [51][2000/9962] Elapsed 0m 20s (remain 1m 23s) Loss: 193.3270(255.4910) Grad: 36866.5078 LR: 0.000078  \n",
            "Epoch: [51][4000/9962] Elapsed 0m 43s (remain 1m 4s) Loss: 34.5725(245.0372) Grad: 9978.8750 LR: 0.000078  \n",
            "Epoch: [51][6000/9962] Elapsed 1m 4s (remain 0m 42s) Loss: 150.4943(243.2968) Grad: 21949.0078 LR: 0.000078  \n",
            "Epoch: [51][8000/9962] Elapsed 1m 25s (remain 0m 21s) Loss: 79.3966(239.2328) Grad: 6121.2334 LR: 0.000078  \n",
            "Epoch: [51][9961/9962] Elapsed 1m 47s (remain 0m 0s) Loss: 268.6412(238.0664) Grad: 100630.2656 LR: 0.000078  \n",
            "EVAL: [0/1106] Elapsed 0m 0s (remain 1m 57s) Loss: 16.9895(16.9895) \n"
          ]
        },
        {
          "output_type": "stream",
          "name": "stderr",
          "text": [
            "Epoch 51 - avg_train_loss: 238.0664  avg_val_loss: 239.2323  time: 116s\n",
            "INFO:__main__:Epoch 51 - avg_train_loss: 238.0664  avg_val_loss: 239.2323  time: 116s\n",
            "Epoch 51 - Score: 15.4671\n",
            "INFO:__main__:Epoch 51 - Score: 15.4671\n"
          ]
        },
        {
          "output_type": "stream",
          "name": "stdout",
          "text": [
            "EVAL: [1105/1106] Elapsed 0m 8s (remain 0m 0s) Loss: 32.6198(239.2323) \n",
            "Epoch: [52][0/9962] Elapsed 0m 0s (remain 27m 20s) Loss: 344.8041(344.8041) Grad: 27716.9199 LR: 0.000055  \n",
            "Epoch: [52][2000/9962] Elapsed 0m 21s (remain 1m 26s) Loss: 161.5776(253.2501) Grad: 42954.7266 LR: 0.000055  \n",
            "Epoch: [52][4000/9962] Elapsed 0m 43s (remain 1m 5s) Loss: 39.8700(241.9599) Grad: 4863.1533 LR: 0.000055  \n",
            "Epoch: [52][6000/9962] Elapsed 1m 4s (remain 0m 42s) Loss: 159.9162(240.4547) Grad: 18881.9102 LR: 0.000055  \n",
            "Epoch: [52][8000/9962] Elapsed 1m 26s (remain 0m 21s) Loss: 68.9802(235.7695) Grad: 7918.6118 LR: 0.000055  \n",
            "Epoch: [52][9961/9962] Elapsed 1m 48s (remain 0m 0s) Loss: 239.6078(234.4861) Grad: 36350.2109 LR: 0.000055  \n",
            "EVAL: [0/1106] Elapsed 0m 0s (remain 1m 57s) Loss: 16.4764(16.4764) \n"
          ]
        },
        {
          "output_type": "stream",
          "name": "stderr",
          "text": [
            "Epoch 52 - avg_train_loss: 234.4861  avg_val_loss: 233.4289  time: 117s\n",
            "INFO:__main__:Epoch 52 - avg_train_loss: 234.4861  avg_val_loss: 233.4289  time: 117s\n",
            "Epoch 52 - Score: 15.2784\n",
            "INFO:__main__:Epoch 52 - Score: 15.2784\n"
          ]
        },
        {
          "output_type": "stream",
          "name": "stdout",
          "text": [
            "EVAL: [1105/1106] Elapsed 0m 8s (remain 0m 0s) Loss: 26.3476(233.4289) \n",
            "Epoch: [53][0/9962] Elapsed 0m 0s (remain 20m 31s) Loss: 306.8655(306.8655) Grad: 45918.1758 LR: 0.000033  \n",
            "Epoch: [53][2000/9962] Elapsed 0m 22s (remain 1m 29s) Loss: 186.2771(249.6573) Grad: 21119.6133 LR: 0.000033  \n",
            "Epoch: [53][4000/9962] Elapsed 0m 44s (remain 1m 6s) Loss: 37.0027(238.7472) Grad: 5856.9912 LR: 0.000033  \n",
            "Epoch: [53][6000/9962] Elapsed 1m 5s (remain 0m 43s) Loss: 129.1050(236.5493) Grad: 30758.1855 LR: 0.000033  \n",
            "Epoch: [53][8000/9962] Elapsed 1m 27s (remain 0m 21s) Loss: 86.6968(232.2672) Grad: 9076.2324 LR: 0.000033  \n",
            "Epoch: [53][9961/9962] Elapsed 1m 48s (remain 0m 0s) Loss: 281.7581(231.0019) Grad: 81794.2031 LR: 0.000033  \n",
            "EVAL: [0/1106] Elapsed 0m 0s (remain 3m 5s) Loss: 16.1371(16.1371) \n"
          ]
        },
        {
          "output_type": "stream",
          "name": "stderr",
          "text": [
            "Epoch 53 - avg_train_loss: 231.0019  avg_val_loss: 231.9459  time: 118s\n",
            "INFO:__main__:Epoch 53 - avg_train_loss: 231.0019  avg_val_loss: 231.9459  time: 118s\n",
            "Epoch 53 - Score: 15.2298\n",
            "INFO:__main__:Epoch 53 - Score: 15.2298\n"
          ]
        },
        {
          "output_type": "stream",
          "name": "stdout",
          "text": [
            "EVAL: [1105/1106] Elapsed 0m 8s (remain 0m 0s) Loss: 25.1112(231.9459) \n",
            "Epoch: [54][0/9962] Elapsed 0m 0s (remain 19m 54s) Loss: 394.8745(394.8745) Grad: 47347.3906 LR: 0.000016  \n",
            "Epoch: [54][2000/9962] Elapsed 0m 22s (remain 1m 29s) Loss: 179.8777(248.8259) Grad: 44341.8281 LR: 0.000016  \n",
            "Epoch: [54][4000/9962] Elapsed 0m 44s (remain 1m 5s) Loss: 35.1327(237.8021) Grad: 23680.7871 LR: 0.000016  \n",
            "Epoch: [54][6000/9962] Elapsed 1m 5s (remain 0m 43s) Loss: 131.5843(235.3947) Grad: 32922.8711 LR: 0.000016  \n",
            "Epoch: [54][8000/9962] Elapsed 1m 28s (remain 0m 21s) Loss: 99.3327(230.7758) Grad: 11150.5898 LR: 0.000016  \n",
            "Epoch: [54][9961/9962] Elapsed 1m 48s (remain 0m 0s) Loss: 246.9106(229.2618) Grad: 107213.5078 LR: 0.000016  \n",
            "EVAL: [0/1106] Elapsed 0m 0s (remain 2m 4s) Loss: 15.3213(15.3213) \n"
          ]
        },
        {
          "output_type": "stream",
          "name": "stderr",
          "text": [
            "Epoch 54 - avg_train_loss: 229.2618  avg_val_loss: 231.3728  time: 118s\n",
            "INFO:__main__:Epoch 54 - avg_train_loss: 229.2618  avg_val_loss: 231.3728  time: 118s\n",
            "Epoch 54 - Score: 15.2109\n",
            "INFO:__main__:Epoch 54 - Score: 15.2109\n",
            "Validation loss Improved (231.43560487631873 ---> 231.37282825707075)\n",
            "INFO:__main__:Validation loss Improved (231.43560487631873 ---> 231.37282825707075)\n",
            "Epoch 54 - Save Best Loss: 231.3728 Model\n",
            "INFO:__main__:Epoch 54 - Save Best Loss: 231.3728 Model\n"
          ]
        },
        {
          "output_type": "stream",
          "name": "stdout",
          "text": [
            "EVAL: [1105/1106] Elapsed 0m 9s (remain 0m 0s) Loss: 29.1669(231.3728) \n",
            "Epoch: [55][0/9962] Elapsed 0m 0s (remain 19m 56s) Loss: 270.1407(270.1407) Grad: 31148.0176 LR: 0.000010  \n",
            "Epoch: [55][2000/9962] Elapsed 0m 22s (remain 1m 29s) Loss: 198.6332(247.0693) Grad: 56611.6250 LR: 0.000010  \n",
            "Epoch: [55][4000/9962] Elapsed 0m 43s (remain 1m 4s) Loss: 32.9822(236.1845) Grad: 7944.0415 LR: 0.000010  \n",
            "Epoch: [55][6000/9962] Elapsed 1m 5s (remain 0m 43s) Loss: 150.3811(234.0535) Grad: 16049.8350 LR: 0.000010  \n",
            "Epoch: [55][8000/9962] Elapsed 1m 27s (remain 0m 21s) Loss: 95.1527(229.5651) Grad: 9211.7100 LR: 0.000010  \n",
            "Epoch: [55][9961/9962] Elapsed 1m 48s (remain 0m 0s) Loss: 262.8637(228.2882) Grad: 128702.7734 LR: 0.000010  \n",
            "EVAL: [0/1106] Elapsed 0m 0s (remain 1m 59s) Loss: 15.0860(15.0860) \n"
          ]
        },
        {
          "output_type": "stream",
          "name": "stderr",
          "text": [
            "Epoch 55 - avg_train_loss: 228.2882  avg_val_loss: 228.6831  time: 118s\n",
            "INFO:__main__:Epoch 55 - avg_train_loss: 228.2882  avg_val_loss: 228.6831  time: 118s\n",
            "Epoch 55 - Score: 15.1223\n",
            "INFO:__main__:Epoch 55 - Score: 15.1223\n",
            "Validation loss Improved (231.37282825707075 ---> 228.68305033031416)\n",
            "INFO:__main__:Validation loss Improved (231.37282825707075 ---> 228.68305033031416)\n",
            "Epoch 55 - Save Best Loss: 228.6831 Model\n",
            "INFO:__main__:Epoch 55 - Save Best Loss: 228.6831 Model\n"
          ]
        },
        {
          "output_type": "stream",
          "name": "stdout",
          "text": [
            "EVAL: [1105/1106] Elapsed 0m 9s (remain 0m 0s) Loss: 30.1471(228.6831) \n",
            "Epoch: [56][0/9962] Elapsed 0m 0s (remain 19m 51s) Loss: 329.6204(329.6204) Grad: 50020.8750 LR: 0.000016  \n",
            "Epoch: [56][2000/9962] Elapsed 0m 22s (remain 1m 27s) Loss: 190.1949(244.0173) Grad: 42390.0820 LR: 0.000016  \n",
            "Epoch: [56][4000/9962] Elapsed 0m 43s (remain 1m 4s) Loss: 30.5869(234.1768) Grad: 13606.1650 LR: 0.000016  \n",
            "Epoch: [56][6000/9962] Elapsed 1m 5s (remain 0m 43s) Loss: 167.5688(232.7818) Grad: 31824.0742 LR: 0.000016  \n",
            "Epoch: [56][8000/9962] Elapsed 1m 26s (remain 0m 21s) Loss: 90.4815(228.4773) Grad: 8880.7852 LR: 0.000016  \n",
            "Epoch: [56][9961/9962] Elapsed 1m 48s (remain 0m 0s) Loss: 260.9925(227.3068) Grad: 56083.3867 LR: 0.000016  \n",
            "EVAL: [0/1106] Elapsed 0m 0s (remain 1m 58s) Loss: 14.8461(14.8461) \n"
          ]
        },
        {
          "output_type": "stream",
          "name": "stderr",
          "text": [
            "Epoch 56 - avg_train_loss: 227.3068  avg_val_loss: 229.0715  time: 118s\n",
            "INFO:__main__:Epoch 56 - avg_train_loss: 227.3068  avg_val_loss: 229.0715  time: 118s\n",
            "Epoch 56 - Score: 15.1351\n",
            "INFO:__main__:Epoch 56 - Score: 15.1351\n"
          ]
        },
        {
          "output_type": "stream",
          "name": "stdout",
          "text": [
            "EVAL: [1105/1106] Elapsed 0m 9s (remain 0m 0s) Loss: 28.6280(229.0715) \n",
            "Epoch: [57][0/9962] Elapsed 0m 0s (remain 19m 28s) Loss: 291.5066(291.5066) Grad: 35589.9492 LR: 0.000032  \n",
            "Epoch: [57][2000/9962] Elapsed 0m 20s (remain 1m 23s) Loss: 185.7537(246.0694) Grad: 53648.6328 LR: 0.000032  \n",
            "Epoch: [57][4000/9962] Elapsed 0m 43s (remain 1m 4s) Loss: 32.5965(236.5170) Grad: 13413.1836 LR: 0.000032  \n",
            "Epoch: [57][6000/9962] Elapsed 1m 5s (remain 0m 42s) Loss: 171.1928(234.3780) Grad: 28593.6582 LR: 0.000032  \n",
            "Epoch: [57][8000/9962] Elapsed 1m 26s (remain 0m 21s) Loss: 97.1126(230.1090) Grad: 9750.8174 LR: 0.000032  \n",
            "Epoch: [57][9961/9962] Elapsed 1m 47s (remain 0m 0s) Loss: 245.1736(228.9970) Grad: 58085.0000 LR: 0.000032  \n",
            "EVAL: [0/1106] Elapsed 0m 0s (remain 1m 59s) Loss: 16.2251(16.2251) \n"
          ]
        },
        {
          "output_type": "stream",
          "name": "stderr",
          "text": [
            "Epoch 57 - avg_train_loss: 228.9970  avg_val_loss: 230.0477  time: 117s\n",
            "INFO:__main__:Epoch 57 - avg_train_loss: 228.9970  avg_val_loss: 230.0477  time: 117s\n",
            "Epoch 57 - Score: 15.1673\n",
            "INFO:__main__:Epoch 57 - Score: 15.1673\n"
          ]
        },
        {
          "output_type": "stream",
          "name": "stdout",
          "text": [
            "EVAL: [1105/1106] Elapsed 0m 9s (remain 0m 0s) Loss: 27.6640(230.0477) \n",
            "Epoch: [58][0/9962] Elapsed 0m 0s (remain 20m 43s) Loss: 311.6457(311.6457) Grad: 51012.4727 LR: 0.000055  \n",
            "Epoch: [58][2000/9962] Elapsed 0m 21s (remain 1m 23s) Loss: 177.4995(247.7577) Grad: 53742.5703 LR: 0.000055  \n",
            "Epoch: [58][4000/9962] Elapsed 0m 43s (remain 1m 4s) Loss: 34.1924(238.1133) Grad: 4449.5000 LR: 0.000055  \n",
            "Epoch: [58][6000/9962] Elapsed 1m 4s (remain 0m 42s) Loss: 146.2642(236.7208) Grad: 18581.4902 LR: 0.000055  \n",
            "Epoch: [58][8000/9962] Elapsed 1m 25s (remain 0m 21s) Loss: 90.9603(232.4927) Grad: 15934.8770 LR: 0.000055  \n",
            "Epoch: [58][9961/9962] Elapsed 1m 47s (remain 0m 0s) Loss: 319.1432(231.2523) Grad: 161836.2812 LR: 0.000055  \n",
            "EVAL: [0/1106] Elapsed 0m 0s (remain 1m 57s) Loss: 15.9636(15.9636) \n"
          ]
        },
        {
          "output_type": "stream",
          "name": "stderr",
          "text": [
            "Epoch 58 - avg_train_loss: 231.2523  avg_val_loss: 229.9919  time: 115s\n",
            "INFO:__main__:Epoch 58 - avg_train_loss: 231.2523  avg_val_loss: 229.9919  time: 115s\n",
            "Epoch 58 - Score: 15.1655\n",
            "INFO:__main__:Epoch 58 - Score: 15.1655\n"
          ]
        },
        {
          "output_type": "stream",
          "name": "stdout",
          "text": [
            "EVAL: [1105/1106] Elapsed 0m 7s (remain 0m 0s) Loss: 26.3828(229.9919) \n",
            "Epoch: [59][0/9962] Elapsed 0m 0s (remain 20m 13s) Loss: 249.5876(249.5876) Grad: 28435.9434 LR: 0.000077  \n",
            "Epoch: [59][2000/9962] Elapsed 0m 22s (remain 1m 28s) Loss: 198.1317(249.8651) Grad: 43608.9688 LR: 0.000077  \n",
            "Epoch: [59][4000/9962] Elapsed 0m 44s (remain 1m 5s) Loss: 37.8625(241.1800) Grad: 12051.8516 LR: 0.000077  \n",
            "Epoch: [59][6000/9962] Elapsed 1m 5s (remain 0m 42s) Loss: 150.4072(239.4948) Grad: 18404.0918 LR: 0.000077  \n",
            "Epoch: [59][8000/9962] Elapsed 1m 27s (remain 0m 21s) Loss: 73.0146(235.4622) Grad: 6956.6436 LR: 0.000077  \n",
            "Epoch: [59][9961/9962] Elapsed 1m 47s (remain 0m 0s) Loss: 277.5567(234.5820) Grad: 128201.1875 LR: 0.000077  \n",
            "EVAL: [0/1106] Elapsed 0m 0s (remain 3m 19s) Loss: 14.4422(14.4422) \n"
          ]
        },
        {
          "output_type": "stream",
          "name": "stderr",
          "text": [
            "Epoch 59 - avg_train_loss: 234.5820  avg_val_loss: 235.0416  time: 117s\n",
            "INFO:__main__:Epoch 59 - avg_train_loss: 234.5820  avg_val_loss: 235.0416  time: 117s\n",
            "Epoch 59 - Score: 15.3311\n",
            "INFO:__main__:Epoch 59 - Score: 15.3311\n"
          ]
        },
        {
          "output_type": "stream",
          "name": "stdout",
          "text": [
            "EVAL: [1105/1106] Elapsed 0m 8s (remain 0m 0s) Loss: 34.8651(235.0416) \n",
            "Epoch: [60][0/9962] Elapsed 0m 0s (remain 20m 38s) Loss: 357.1156(357.1156) Grad: 16112.2861 LR: 0.000094  \n",
            "Epoch: [60][2000/9962] Elapsed 0m 22s (remain 1m 28s) Loss: 189.2131(255.5016) Grad: 35958.3125 LR: 0.000094  \n",
            "Epoch: [60][4000/9962] Elapsed 0m 43s (remain 1m 4s) Loss: 52.1698(244.8701) Grad: 19619.2520 LR: 0.000094  \n",
            "Epoch: [60][6000/9962] Elapsed 1m 5s (remain 0m 43s) Loss: 169.9784(243.2408) Grad: 20534.8145 LR: 0.000094  \n",
            "Epoch: [60][8000/9962] Elapsed 1m 27s (remain 0m 21s) Loss: 67.4460(239.0349) Grad: 6054.2334 LR: 0.000094  \n",
            "Epoch: [60][9961/9962] Elapsed 1m 48s (remain 0m 0s) Loss: 305.0231(237.8745) Grad: 134940.9219 LR: 0.000094  \n",
            "EVAL: [0/1106] Elapsed 0m 0s (remain 3m 2s) Loss: 14.5773(14.5773) \n"
          ]
        },
        {
          "output_type": "stream",
          "name": "stderr",
          "text": [
            "Epoch 60 - avg_train_loss: 237.8745  avg_val_loss: 235.3019  time: 117s\n",
            "INFO:__main__:Epoch 60 - avg_train_loss: 237.8745  avg_val_loss: 235.3019  time: 117s\n",
            "Epoch 60 - Score: 15.3396\n",
            "INFO:__main__:Epoch 60 - Score: 15.3396\n"
          ]
        },
        {
          "output_type": "stream",
          "name": "stdout",
          "text": [
            "EVAL: [1105/1106] Elapsed 0m 8s (remain 0m 0s) Loss: 27.6419(235.3019) \n"
          ]
        }
      ]
    },
    {
      "cell_type": "code",
      "source": [
        "# Inference\n",
        "states = [torch.load(DIR+f'{CFG.model_name}_best_loss_version{VERSION}.pth', map_location=device, weights_only=False)]\n",
        "valid_targets = states[0]['targets']\n",
        "valid_predictions = states[0]['preds_loss']\n",
        "test_preds, test_targets = inference(model, states, test_loader, device)\n",
        "LOGGER.info(f'RMSE score on validation set: {get_score(valid_targets, valid_predictions)}')\n",
        "LOGGER.info(f'RMSE score on test set: {get_score(test_targets, test_preds)}')"
      ],
      "metadata": {
        "colab": {
          "base_uri": "https://localhost:8080/",
          "height": 118,
          "referenced_widgets": [
            "2b7cb46c874e4a6b86e7acccf671a7c2",
            "eb31b3f3e13846048fff3a0f2a245390",
            "8bd6c91a315d4d6c848ada94ef717d1f",
            "eab231529f874315a3f4787538b43072",
            "cb0394c890144e188f4496659a86e536",
            "3ea496b96c5c42da856ad1d404ee2c14",
            "e7ae3d53553b46e8be7ecf388507135c",
            "586ff5e5c6f5497581f0c02c480198b1",
            "87f80e95abe642f39984080c98d21d63",
            "d930d969a58346e4b9b6da1c55a5d0b7",
            "eab6040135da443582f70053b4ca25f5"
          ]
        },
        "id": "vC0v8rPlp7nb",
        "outputId": "d4a23a11-5baa-4a7f-9128-696d1c558868"
      },
      "execution_count": 89,
      "outputs": [
        {
          "output_type": "display_data",
          "data": {
            "text/plain": [
              "  0%|          | 0/1229 [00:00<?, ?it/s]"
            ],
            "application/vnd.jupyter.widget-view+json": {
              "version_major": 2,
              "version_minor": 0,
              "model_id": "2b7cb46c874e4a6b86e7acccf671a7c2"
            }
          },
          "metadata": {}
        },
        {
          "output_type": "stream",
          "name": "stderr",
          "text": [
            "RMSE score on validation set: 15.122269817510656\n",
            "INFO:__main__:RMSE score on validation set: 15.122269817510656\n",
            "RMSE score on test set: 14.789618609129704\n",
            "INFO:__main__:RMSE score on test set: 14.789618609129704\n"
          ]
        }
      ]
    },
    {
      "cell_type": "code",
      "source": [
        "fig, ax = plt.subplots(figsize=(20, 6))\n",
        "ax.plot(valid.iloc[CFG.seq_length:].index, valid_targets, color='b', label='True')\n",
        "ax.plot(valid.iloc[CFG.seq_length:].index, valid_predictions, color='orange', label='Prediction')\n",
        "\n",
        "ax.set_title(\"PM2.5\", fontweight=\"bold\", size=16)\n",
        "ax.legend(loc=\"upper right\")\n",
        "\n",
        "\n",
        "ax.axis([325000, 328000, 0, 250])\n",
        "fig.autofmt_xdate()\n",
        "plt.title('Predictions on validation set')\n",
        "plt.show()"
      ],
      "metadata": {
        "colab": {
          "base_uri": "https://localhost:8080/",
          "height": 495
        },
        "id": "3lqKU5a8p-j7",
        "outputId": "e6e8a351-5b20-41ca-b3f1-ec85d15955c1"
      },
      "execution_count": 90,
      "outputs": [
        {
          "output_type": "display_data",
          "data": {
            "text/plain": [
              "<Figure size 2000x600 with 1 Axes>"
            ],
            "image/png": "[encoded data removed]"
          },
          "metadata": {}
        }
      ]
    },
    {
      "cell_type": "code",
      "source": [
        "fig, ax = plt.subplots(figsize=(20, 6))\n",
        "ax.plot(test.iloc[CFG.seq_length:].index, test_targets, color='b', label='True')\n",
        "ax.plot(test.iloc[CFG.seq_length:].index, test_preds, color='orange', label='Prediction')\n",
        "\n",
        "ax.set_title(\"PM2.5\", fontweight=\"bold\", size=16)\n",
        "ax.legend(loc=\"upper right\")\n",
        "\n",
        "\n",
        "ax.axis([361000, 365000, 0, 250])\n",
        "fig.autofmt_xdate()\n",
        "plt.title('Predictions on test set')\n",
        "plt.show()"
      ],
      "metadata": {
        "colab": {
          "base_uri": "https://localhost:8080/",
          "height": 495
        },
        "id": "xeiPdt1iqAgA",
        "outputId": "ec93b936-8569-4668-8b95-aa8d729f0b6e"
      },
      "execution_count": 91,
      "outputs": [
        {
          "output_type": "display_data",
          "data": {
            "text/plain": [
              "<Figure size 2000x600 with 1 Axes>"
            ],
            "image/png": "[encoded data removed]"
          },
          "metadata": {}
        }
      ]
    }
  ]
}